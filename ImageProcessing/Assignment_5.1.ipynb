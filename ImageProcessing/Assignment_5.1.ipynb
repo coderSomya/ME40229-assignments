{
 "cells": [
  {
   "cell_type": "code",
   "execution_count": 1,
   "id": "b5b28104",
   "metadata": {},
   "outputs": [],
   "source": [
    "## task1\n",
    "\n",
    "import cv2\n",
    "import numpy as np\n",
    "\n",
    "def highlight_color_range(image, lower_bound, upper_bound):\n",
    "    grayscale_image = cv2.cvtColor(image, cv2.COLOR_BGR2GRAY)\n",
    "    mask = cv2.inRange(image, np.array(lower_bound), np.array(upper_bound))\n",
    "    highlighted = cv2.bitwise_and(grayscale_image, grayscale_image, mask=mask)\n",
    "    return highlighted\n",
    "\n",
    "image = cv2.imread('./image/colour_image.jpg')\n",
    "lower_bound = [0, 120, 0]\n",
    "upper_bound = [255, 240, 100]\n",
    "result_image = highlight_color_range(image, lower_bound, upper_bound)\n",
    "cv2.imwrite('output_image.jpg', result_image)\n",
    "cv2.imshow('Highlighted Grayscale Image', result_image)\n",
    "cv2.waitKey(0)\n",
    "cv2.destroyAllWindows()"
   ]
  },
  {
   "cell_type": "code",
   "execution_count": 3,
   "id": "56a0f7e1",
   "metadata": {},
   "outputs": [],
   "source": [
    "def show(img, title=\"image\"):\n",
    "    cv2.imshow(title, img)\n",
    "    cv2.waitKey(0)\n",
    "    cv2.destroyAllWindows()"
   ]
  },
  {
   "cell_type": "code",
   "execution_count": 4,
   "id": "1cb05a50-caed-42e4-a2a4-2b10cb839093",
   "metadata": {},
   "outputs": [
    {
     "name": "stdout",
     "output_type": "stream",
     "text": [
      "Saved Red channel image as: pi_brown_redch.jpeg\n",
      "Saved Red channel image as: crack_redch.jpeg\n",
      "Saved Red channel image as: particles_redch.jpeg\n",
      "Saved Red channel image as: dim_redch.jpeg\n",
      "Saved Red channel image as: image for assignement 5.1 b_redch.jpeg\n",
      "Saved Red channel image as: cysts_redch.jpeg\n",
      "Saved Red channel image as: angiogram_redch.jpeg\n",
      "Saved Red channel image as: shotgun_injury_redch.jpeg\n",
      "Saved Red channel image as: colour_image_redch.jpeg\n",
      "Saved Red channel image as: image for_assignment 5.1_redch.jpeg\n",
      "Saved Red channel image as: letter_M_green_redch.jpeg\n"
     ]
    }
   ],
   "source": [
    "## task 2\n",
    "\n",
    "import os\n",
    "import cv2\n",
    "\n",
    "in_directory = \"image\" \n",
    "out_directory = \"red_images\"\n",
    "\n",
    "for filename in os.listdir(directory):\n",
    "    if filename.endswith(\".jpeg\") or filename.endswith(\".jpg\"):\n",
    "        file_path = os.path.join(directory, filename)\n",
    "        \n",
    "        image = cv2.imread(file_path)\n",
    "        \n",
    "        # Extract the Red channel by isolating the red component (channel 2 in BGR)\n",
    "        red_channel = image[:, :, 2]\n",
    "        \n",
    "        # Construct the output filename\n",
    "        output_filename = f\"{os.path.splitext(filename)[0]}_redch.jpeg\"\n",
    "        output_path = os.path.join(out_directory, output_filename)\n",
    "        \n",
    "        # Save the Red channel as a new JPEG file\n",
    "        cv2.imwrite(output_path, red_channel)\n",
    "\n",
    "        print(f\"Saved Red channel image as: {output_filename}\")"
   ]
  },
  {
   "cell_type": "code",
   "execution_count": 1,
   "id": "c5d370dc",
   "metadata": {},
   "outputs": [],
   "source": [
    "## task3\n",
    "\n",
    "import cv2\n",
    "import matplotlib.pyplot as plt\n",
    "import numpy as np\n",
    "\n",
    "img = cv2.imread('./image/crack.jpeg', cv2.IMREAD_COLOR)\n",
    "\n",
    "ret, binary_image = cv2.threshold(img, 100, 255, cv2.THRESH_BINARY)\n",
    "\n",
    "bwimg = cv2.cvtColor(binary_image, cv2.COLOR_BGR2GRAY)\n",
    "cv2.imshow(\"img\", bwimg)\n",
    "cv2.waitKey(0)\n",
    "cv2.destroyAllWindows()"
   ]
  },
  {
   "cell_type": "code",
   "execution_count": 4,
   "id": "6482fbb9",
   "metadata": {},
   "outputs": [],
   "source": [
    "adaptive_gaussian_thresh = cv2.adaptiveThreshold(bwimg, 255, \n",
    "                                                 cv2.ADAPTIVE_THRESH_GAUSSIAN_C, \n",
    "                                                 cv2.THRESH_BINARY, 3, 2)\n",
    "\n",
    "show(adaptive_gaussian_thresh, \"adapt\")"
   ]
  },
  {
   "cell_type": "code",
   "execution_count": 5,
   "id": "2108cc19",
   "metadata": {},
   "outputs": [],
   "source": [
    "kernel = np.ones((2, 2), np.uint8)\n",
    "\n",
    "opened_img = cv2.morphologyEx(adaptive_gaussian_thresh,  cv2.MORPH_OPEN, kernel)\n",
    "show(opened_img, \"open\")\n",
    "closed_img = cv2.morphologyEx(opened_img,  cv2.MORPH_CLOSE, kernel)\n",
    "show(closed_img, \"closed\")"
   ]
  },
  {
   "cell_type": "code",
   "execution_count": 10,
   "id": "bd42ab6b",
   "metadata": {},
   "outputs": [
    {
     "name": "stdout",
     "output_type": "stream",
     "text": [
      "Area of the major crack: 496145000.0 square microns\n"
     ]
    }
   ],
   "source": [
    "contours, _ = cv2.findContours(opened_img, cv2.RETR_EXTERNAL, cv2.CHAIN_APPROX_SIMPLE)\n",
    "\n",
    "max_area = 0\n",
    "major_crack_contour = None\n",
    "\n",
    "for contour in contours:\n",
    "    area = cv2.contourArea(contour)\n",
    "    if area > max_area:\n",
    "        max_area = area\n",
    "        major_crack_contour = contour\n",
    "\n",
    "# Draw the major crack on a blank image\n",
    "major_crack_image = np.zeros_like(closed_img)\n",
    "cv2.drawContours(major_crack_image, [major_crack_contour], -1, (255, 255, 255), thickness=cv2.FILLED)\n",
    "\n",
    "# Step 7: Calculate the area of the major crack in square microns\n",
    "# Area in pixels * area per pixel (100 x 100 microns = 10,000 square microns)\n",
    "area_in_pixels = cv2.contourArea(major_crack_contour)\n",
    "area_in_square_microns = area_in_pixels * 100 * 100  # Each pixel represents 10,000 square microns\n",
    "\n",
    "# Display the area of the major crack\n",
    "print(f\"Area of the major crack: {area_in_square_microns} square microns\")\n",
    "\n",
    "# Step 8: Show the result images\n",
    "cv2.imshow(\"Original Image\", img)\n",
    "cv2.imshow(\"Threshold Image\", adaptive_gaussian_thresh)\n",
    "cv2.imshow(\"opened Image\", opened_img)\n",
    "cv2.imshow(\"Major Crack Isolated\", major_crack_image)\n",
    "\n",
    "cv2.waitKey(0)\n",
    "cv2.destroyAllWindows()"
   ]
  },
  {
   "cell_type": "code",
   "execution_count": 25,
   "id": "040629d5",
   "metadata": {},
   "outputs": [],
   "source": [
    "#task4\n",
    "\n",
    "img = cv2.imread(\"./image/dim.jpeg\", cv2.IMREAD_COLOR)\n",
    "bw_img = cv2.cvtColor(img, cv2.COLOR_BGR2GRAY)\n",
    "\n",
    "show(img)"
   ]
  },
  {
   "cell_type": "code",
   "execution_count": 26,
   "id": "100507c6",
   "metadata": {},
   "outputs": [],
   "source": [
    "thresh_img = cv2.adaptiveThreshold(bw_img, 255, cv2.ADAPTIVE_THRESH_GAUSSIAN_C, \n",
    "                                                 cv2.THRESH_BINARY, 3, 2)"
   ]
  },
  {
   "cell_type": "code",
   "execution_count": 27,
   "id": "beba9060",
   "metadata": {},
   "outputs": [],
   "source": [
    "show(thresh_img)"
   ]
  },
  {
   "cell_type": "code",
   "execution_count": 28,
   "id": "d3fc593e",
   "metadata": {},
   "outputs": [],
   "source": [
    "blurred_image = cv2.GaussianBlur(thresh_img, (5, 5), 0)\n",
    "show(blurred_image, \"blur\")"
   ]
  },
  {
   "cell_type": "code",
   "execution_count": 29,
   "id": "487b3de9",
   "metadata": {},
   "outputs": [],
   "source": [
    "kernel = np.ones((10, 10), np.uint8)\n",
    "\n",
    "open_img = cv2.morphologyEx(blurred_image, cv2.MORPH_OPEN, kernel)"
   ]
  },
  {
   "cell_type": "code",
   "execution_count": 33,
   "id": "c2695346",
   "metadata": {},
   "outputs": [],
   "source": [
    "show(open_img)"
   ]
  },
  {
   "cell_type": "code",
   "execution_count": 35,
   "id": "923e0e04",
   "metadata": {},
   "outputs": [
    {
     "data": {
      "text/plain": [
       "array([[  0,   0,   0, ...,   0,   0,   0],\n",
       "       [  0,   0,   0, ...,   0,   0,   0],\n",
       "       [  0,   0, 255, ..., 255,   0,   0],\n",
       "       ...,\n",
       "       [  0,   0, 255, ..., 255,   0,   0],\n",
       "       [  0,   0,   0, ...,   0,   0,   0],\n",
       "       [  0,   0,   0, ...,   0,   0,   0]], dtype=uint8)"
      ]
     },
     "execution_count": 35,
     "metadata": {},
     "output_type": "execute_result"
    }
   ],
   "source": [
    "contours, _ = cv2.findContours(open_img, cv2.RETR_TREE, cv2.CHAIN_APPROX_SIMPLE)\n",
    "\n",
    "contoured_img = open_img.copy()\n",
    "cv2.drawContours(contoured_img, contours, -1, (0, 255, 0), 2)"
   ]
  },
  {
   "cell_type": "code",
   "execution_count": 36,
   "id": "23ded83e",
   "metadata": {},
   "outputs": [],
   "source": [
    "show(contoured_img, \"contours\")"
   ]
  },
  {
   "cell_type": "code",
   "execution_count": null,
   "id": "88b15ea0",
   "metadata": {},
   "outputs": [],
   "source": [
    "## try - 2\n",
    "import cv2\n",
    "import numpy as np\n",
    "\n",
    "# Read the image\n",
    "image = cv2.imread('./image/dim.jpeg')\n",
    "\n",
    "# Convert to grayscale\n",
    "gray_image = cv2.cvtColor(image, cv2.COLOR_BGR2GRAY)\n",
    "\n",
    "# Apply Gaussian Blur\n",
    "blurred_image = cv2.GaussianBlur(gray_image, (5, 5), 0)\n",
    "\n",
    "\n",
    "\n",
    "# Apply Adaptive Thresholding\n",
    "adaptive_thresh = cv2.adaptiveThreshold(blurred_image, 255, \n",
    "                                         cv2.ADAPTIVE_THRESH_GAUSSIAN_C, \n",
    "                                         cv2.THRESH_BINARY_INV, 11, 2)\n",
    "\n",
    "kernel = np.ones((10, 10), np.uint8)\n",
    "open_img = cv2.morphologyEx(adaptive_thresh, cv2.MORPH_CLOSE, kernel)\n",
    "\n",
    "\n",
    "contours, _ = cv2.findContours(open_img, cv2.RETR_TREE, cv2.CHAIN_APPROX_SIMPLE)\n",
    "\n",
    "# Draw contours on the original image\n",
    "output_image = image.copy()\n",
    "cv2.drawContours(output_image, contours, -1, (0, 255, 0), 2)\n",
    "\n",
    "# Display results\n",
    "\n",
    "cv2.imshow('Original Image', image)\n",
    "cv2.imshow('Adaptive Thresholding', adaptive_thresh)\n",
    "cv2.imshow('opened', open_img)\n",
    "cv2.imshow('Contours Highlighted', output_image)\n",
    "\n",
    "cv2.waitKey(0)\n",
    "cv2.destroyAllWindows()"
   ]
  },
  {
   "cell_type": "code",
   "execution_count": null,
   "id": "50db31ac",
   "metadata": {},
   "outputs": [],
   "source": []
  },
  {
   "cell_type": "code",
   "execution_count": null,
   "id": "b75ff931",
   "metadata": {},
   "outputs": [],
   "source": []
  }
 ],
 "metadata": {
  "kernelspec": {
   "display_name": "Python 3 (ipykernel)",
   "language": "python",
   "name": "python3"
  },
  "language_info": {
   "codemirror_mode": {
    "name": "ipython",
    "version": 3
   },
   "file_extension": ".py",
   "mimetype": "text/x-python",
   "name": "python",
   "nbconvert_exporter": "python",
   "pygments_lexer": "ipython3",
   "version": "3.12.7"
  }
 },
 "nbformat": 4,
 "nbformat_minor": 5
}

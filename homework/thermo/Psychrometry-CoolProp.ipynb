{
 "cells": [
  {
   "cell_type": "markdown",
   "id": "20466423-0261-43d1-b00a-071a7951435d",
   "metadata": {},
   "source": [
    "# Pschrometry using CoolProp"
   ]
  },
  {
   "cell_type": "markdown",
   "id": "6ab681f7-2e29-4142-92e4-ad5de758901b",
   "metadata": {},
   "source": [
    "**Psychrometric Definitions**\n",
    "\n",
    "(i) The **Dry bulb temperature (T$_{db}$}** is the temperature of air measured by a regular thermometer that is not affected by the moisture content in the air. It represents the actual air temperature and is often referred to simply as \"air temperature.\" \n",
    "\n",
    "The dry bulb temperature is measured in the shade and does not account for humidity, making it the baseline temperature for many thermodynamic processes. It is commonly expressed in degrees Celsius (°C) or Fahrenheit (°F).\n",
    "\n",
    "(ii) The **Wet bulb temperature (T$_{wb}$** is the lowest temperature that can be achieved by evaporative cooling of water into the air. It is measured by a thermometer with a wet cloth (wick) wrapped around the bulb, and as water evaporates from the cloth, it cools the thermometer.\n",
    "\n",
    "The wet bulb temperature reflects both the air temperature and the humidity level. It is always equal to or lower than the dry bulb temperature because evaporation cools the thermometer. When the air is saturated (100% humidity), the wet bulb temperature equals the dry bulb temperature.\n",
    "\n",
    "(iii) The **Dew point temperature (T$_{dew}$}** is the temperature at which air becomes fully saturated with water vapor and can no longer hold any more moisture, causing condensation to occur.\n",
    "\n",
    "(iv) The **Humidity ratio (also known as specific humidity) ($\\omega$)** is the ratio of the mass of water vapor (mv) to the mass of dry air (ma) in a given volume of air. It is typically expressed in units of kilograms of water vapor per kilogram of dry air (kg of water vapor / kg of dry air)\n",
    "\n",
    "$\\omega = \\frac {m_v}{m_a}$\n",
    "\n",
    "(v) The **Relative humidity ($\\phi$)** is defined as the ratio of the partial pressure (pv) of the vapor to the saturation pressure (pg) of the vapor at the same temperature.\n",
    "\n",
    "$\\phi = \\frac {p_v}{p_a}$\n"
   ]
  },
  {
   "cell_type": "markdown",
   "id": "fd80b099-90f1-4ac6-8892-7d29375b09f6",
   "metadata": {},
   "source": [
    "# **Example Set**"
   ]
  },
  {
   "cell_type": "code",
   "execution_count": 58,
   "id": "2fdbe958-b456-421d-9d59-882415618041",
   "metadata": {},
   "outputs": [
    {
     "name": "stdout",
     "output_type": "stream",
     "text": [
      "Specific enthalpy of dry air 50423.45039107799 J/kg\n",
      "Specific enthalpy of humid air 49927.879277750544 J/kg\n",
      "Specific entropy of dry air 180.75676473312703 J/kg K\n",
      "Specific entropy of humid air 178.98025339870804 J/kg K\n",
      "Specific humdity or humidity ratio 0.027332863482571957 kg water/kg of dry air\n",
      "Dew point temperature 290.96209246814067 °C\n",
      "Dry bulb temperature 290.9620924693113 °C\n",
      "Wet bulb temperature 290.9620924691325 °C\n",
      "Viscosity of the mixture 0.01862281496006529 Pa*s\n"
     ]
    }
   ],
   "source": [
    "# Import HAPropSI function from CoolProp.HumidAirProp \n",
    "from CoolProp.HumidAirProp import HAPropsSI\n",
    "\n",
    "# Find the enthalpy per unit dry air at Dry Bulb Temperature (DBT) T of 25 degree Celsius, relative humidity of 50 % and pressure of 1 atm \n",
    "\n",
    "h = HAPropsSI('H','T',298.15,'P',101325,'R',0.5); # H, Hda are the parameter names for enthalpy per unit dry air in CoolProp\n",
    "print('Specific enthalpy of dry air',h,'J/kg')    \n",
    "\n",
    "# Fine the enthalpy per unit humid air at the above conditions\n",
    "hha = HAPropsSI('Hha','T',298.15,'P',101325,'R',0.5); # Hha, is the mixture enthalpy per unit humid air\n",
    "print('Specific enthalpy of humid air',hha,'J/kg') \n",
    "\n",
    "# Find the entropy per unit dry air at Dry Bulb Temperature (DBT) T of 25 degree Celsius, relative humidity of 50 % and pressure of 1 atm \n",
    "s = HAPropsSI('S','T',298.15,'P',101325,'R',0.5); # S, Sda are the parameter names for entropy per unit dry air in CoolProp\n",
    "print('Specific entropy of dry air',s,'J/kg K') \n",
    "\n",
    "# Fine the entropy per unit humid air at the above conditions\n",
    "sha = HAPropsSI('Sha','T',298.15,'P',101325,'R',0.5); # S, Sda are the parameter names for entropy per unit dry air in CoolProp\n",
    "print('Specific entropy of humid air',sha,'J/kg K') # Sha, is the mixture entropy per unit humid air\n",
    "\n",
    "#Humidity ratio at T = 30 degree Celsius and Relative humidity = 0.5\n",
    "omega = HAPropsSI('W','T',303.15,'R',1,'P',101325); \n",
    "print('Specific humdity or humidity ratio', omega, 'kg water/kg of dry air')\n",
    "\n",
    "T_dp = HAPropsSI('T_dp','P',101325,'H',h,'R',1.0); \n",
    "print('Dew point temperature', T_dp,'°C')\n",
    "\n",
    "# Dry Bulb Temperature of saturated air at the previous enthalpy\n",
    "T_db = HAPropsSI('T_db','P',101325,'H',h,'R',1.0); \n",
    "print('Dry bulb temperature', T_db,'°C')\n",
    "\n",
    "# Wet bulb Temperature of saturated air\n",
    "T_wb = HAPropsSI('T_wb','H',h,'R',1.0,'P',101325); \n",
    "print('Wet bulb temperature', T_wb,'°C')\n",
    "\n",
    "# Mixture viscosity at p = 2 atm, R = 0.75, T = 30 degreee Celsius\n",
    "vis = HAPropsSI('mu','T',303.15,'R',0.75,'P',2*101325); \n",
    "print('Viscosity of the mixture', vis*1000, 'Pa*s')"
   ]
  },
  {
   "cell_type": "markdown",
   "id": "71219d75-a758-40c0-adca-cad7abb7b1e6",
   "metadata": {},
   "source": [
    "# Sample Problem \n",
    "Consider 2 m$^3$ of an air-water mixture at 0.5 MPa, 75 °C (Dry bulb temperature), and 85% relative humidity. Evaluate the humidity ratio, dew \n",
    "point temperature, mass of air and mass of vapor."
   ]
  },
  {
   "cell_type": "code",
   "execution_count": 59,
   "id": "68659308-e6ee-4d6b-aa90-4029338e3201",
   "metadata": {},
   "outputs": [
    {
     "name": "stdout",
     "output_type": "stream",
     "text": [
      "Humidity ratio (ω): 0.04444 kg of water vapor / kg of dry air\n",
      "Dew point temperature: 71.17 °C\n",
      "Mass of dry air: 9.35 kg\n",
      "Mass of water vapor: 0.42 kg\n"
     ]
    }
   ],
   "source": [
    "from CoolProp.HumidAirProp import HAPropsSI\n",
    "import CoolProp.CoolProp as CP\n",
    "\n",
    "# Given conditions\n",
    "V = 2  # m^3, volume of air-water mixture\n",
    "P = 0.5e6  # Pa, pressure (0.1 MPa)\n",
    "T = 75 + 273.15  # K, temperature (35°C)\n",
    "RH = 0.85  # Relative humidity\n",
    "\n",
    "# Calculate humidity ratio (ω) using the temperature, pressure, and relative humidity\n",
    "omega = CP.HAPropsSI('W', 'T', T, 'P', P , 'R', RH)  # Humidity ratio in kg of water vapor/kg of dry air\n",
    "\n",
    "# Specific enthalpy of dry air at the given conditions\n",
    "h = HAPropsSI('H','T',T,'P',P,'R',RH); \n",
    "#print('Specific enthalpy of dry air',h,'J/kg')\n",
    "\n",
    "# Dew point temperature (using HAPropsSI)\n",
    "T_dew = CP.HAPropsSI('T_dp', 'P', P , 'W', omega, 'H', h)  # Dew point temperature in K\n",
    "\n",
    "# Mass of dry air (m_air)\n",
    "R_air = 287.058  # J/kg·K, specific gas constant for dry air\n",
    "P_air = P - (RH * CP.PropsSI('P', 'T', T, 'Q', 1, 'Water'))  # Partial pressure of dry air\n",
    "m_air = (P_air * V) / (R_air * T)\n",
    "\n",
    "# Mass of vapor (m_vap)\n",
    "m_vap = omega * m_air\n",
    "\n",
    "# Output the results\n",
    "print(f\"Humidity ratio (ω): {omega:.5f} kg of water vapor / kg of dry air\")\n",
    "print(f\"Dew point temperature: {T_dew - 273.15:.2f} °C\")  # Convert from K to °C\n",
    "print(f\"Mass of dry air: {m_air:.2f} kg\")\n",
    "print(f\"Mass of water vapor: {m_vap:.2f} kg\")\n",
    "\n"
   ]
  }
 ],
 "metadata": {
  "kernelspec": {
   "display_name": "Python 3 (ipykernel)",
   "language": "python",
   "name": "python3"
  },
  "language_info": {
   "codemirror_mode": {
    "name": "ipython",
    "version": 3
   },
   "file_extension": ".py",
   "mimetype": "text/x-python",
   "name": "python",
   "nbconvert_exporter": "python",
   "pygments_lexer": "ipython3",
   "version": "3.12.4"
  }
 },
 "nbformat": 4,
 "nbformat_minor": 5
}

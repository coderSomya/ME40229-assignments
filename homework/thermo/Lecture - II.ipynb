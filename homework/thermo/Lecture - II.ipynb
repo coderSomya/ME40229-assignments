{
 "cells": [
  {
   "cell_type": "markdown",
   "id": "91d8dbdd-da80-435e-9fa2-f83b32cff8b0",
   "metadata": {},
   "source": [
    "# Lecture II - Power Plant Analysis using Python"
   ]
  },
  {
   "cell_type": "markdown",
   "id": "bb21c4c1-f9c2-4539-a540-61b4c27fbed7",
   "metadata": {},
   "source": [
    "# PYroMAT Package\n",
    "1. PYroMAT is a Python pacakage that can be used to access thermodynamic properties of substances - Ideal Gases, Ideal Gas Mixtures and Two-Phase Mixtures (like steam).\n",
    "2. PYroMAT provides access to thermodynamic properties of over 900 substances, with regular database update.\n",
    "3. PYroMAT is free and open source.\n",
    "4. PYroMAT is entirely written in Python. Access or retrieval of properties of substances is carried out by calling objects and using methods that support array-like object as arguments."
   ]
  },
  {
   "cell_type": "markdown",
   "id": "c67ccd29-989c-4641-b3f4-ae68eb1a3e38",
   "metadata": {},
   "source": [
    "# Simple Rankine Cycle (Ideal)\n",
    "\n",
    "A steam power plant as shown in the Figure below, operating in a Rankine Cycle has saturated vapor at 3 MPa leaving the boiler. The turbine exhausts to the condenser operating at 10 kPa. Find the specific work and heat transfer in each of the ideal components and cycle efficiency. [Sonntag, Problem 11.21]\n",
    "![Rankine_Cycle](Rankine-Cycle.png) "
   ]
  },
  {
   "cell_type": "code",
   "execution_count": 1,
   "id": "fc40fcbc-a70c-4ea2-9654-28cfd6896340",
   "metadata": {},
   "outputs": [],
   "source": [
    "# Import pyromat package\n",
    "import pyromat as obj\n",
    "sw_mix = obj.get(\"mp.H2O\") # Properties of 2 phase or steam-water mixture\n",
    "\n",
    "# Set pressure units\n",
    "obj.config[\"unit_pressure\"]=\"kPa\"  # Change unit of pressure to kPa\n",
    "obj.config[\"def_p\"]=101.325"
   ]
  },
  {
   "cell_type": "markdown",
   "id": "ae8d1a50-2946-4b0b-9fdd-8400f37a207d",
   "metadata": {},
   "source": [
    "# #Pump Analysis"
   ]
  },
  {
   "cell_type": "code",
   "execution_count": 2,
   "id": "d1f0c05e-f77a-4c04-be5e-f6c85a51faaf",
   "metadata": {},
   "outputs": [
    {
     "name": "stdout",
     "output_type": "stream",
     "text": [
      "Specific work required by the pump is  [3.02072523] kJ/kg\n",
      "Specific entalpy at pump outlet is  [194.81561018] kJ/kg\n"
     ]
    }
   ],
   "source": [
    "#Pump : Saturated water (x = 0)\n",
    "p1 = 10 # Condenser pressure/Turbine outlet pressure - 10 kPa\n",
    "p2 = 3000 # Boiler Pressure/Pump outlet - 3000 kPa\n",
    "\n",
    "# Calculating the specific volume at condenser outlet\n",
    "v = 1/sw_mix.ds(p=p1)[0] \n",
    "\n",
    "# Calculating specific pump work\n",
    "w_p = v*(p2-p1)\n",
    "print('Specific work required by the pump is ', w_p,'kJ/kg')\n",
    "\n",
    "# Calculating specific enthalpy a the pump outlet\n",
    "h1 = sw_mix.hs(p=p1)[0] \n",
    "h2 = h1 + w_p\n",
    "print('Specific entalpy at pump outlet is ', h2,'kJ/kg')"
   ]
  },
  {
   "cell_type": "markdown",
   "id": "99074bf6-5c0c-4b60-90f8-91188ad26d13",
   "metadata": {},
   "source": [
    "# #Boiler Analysis"
   ]
  },
  {
   "cell_type": "code",
   "execution_count": 3,
   "id": "7443e495-a88d-42e9-9cb1-2a433bdc4b6f",
   "metadata": {},
   "outputs": [
    {
     "name": "stdout",
     "output_type": "stream",
     "text": [
      "[6.18567254]\n",
      "Specific heat gained in the boiler is [2608.3722952] kJ/kg\n"
     ]
    }
   ],
   "source": [
    "# Steam leaves the boiler as saturated vapor (that is quality : x = 1)\n",
    "\n",
    "# Pressure at boiler outlet\n",
    "p3 = p2\n",
    "\n",
    "# Calculating specific enthalpy and entropy at boiler outlet\n",
    "h3 = sw_mix.hs(p=p3)[1] # 1 for vapor phase\n",
    "s3 = sw_mix.ss(p=p3)[1] \n",
    "#h3, s3 = sw_mix.hs(p=p3)\n",
    "print(s3)\n",
    "\n",
    "# Specific heat gained in the boiler\n",
    "q_H = h3-h2\n",
    "print('Specific heat gained in the boiler is',q_H,'kJ/kg')"
   ]
  },
  {
   "cell_type": "markdown",
   "id": "1d1a1117-b68b-4ece-bdfc-9936665e514e",
   "metadata": {},
   "source": [
    "# #Turbine Analysis"
   ]
  },
  {
   "cell_type": "code",
   "execution_count": 4,
   "id": "b2a4d845-2611-4528-9e1f-f17758a1a825",
   "metadata": {},
   "outputs": [
    {
     "name": "stdout",
     "output_type": "stream",
     "text": [
      "Mixture quality at turbine outlet is [0.738226]\n",
      "Specific work output by turbine is [845.49007225] kJ/kg\n"
     ]
    }
   ],
   "source": [
    "# At turbine outlet\n",
    "p4 = p1 \n",
    "s4 = s3\n",
    "\n",
    "# Mixture quality at turbine outlet\n",
    "x = sw_mix.T_s(s=s4,p=p4,quality=True)[1]\n",
    "\n",
    "# Mixture quality at turbine outlet\n",
    "print('Mixture quality at turbine outlet is',x)\n",
    "\n",
    "# Calculating specific enthalphy at turbine outlet\n",
    "h4 = sw_mix.h(p=p4,x=x)\n",
    "\n",
    "# Calculating work output by turbine\n",
    "w_t = h3-h4\n",
    "print('Specific work output by turbine is', w_t,'kJ/kg')"
   ]
  },
  {
   "cell_type": "markdown",
   "id": "28d29444-c717-4d00-b89e-ea86eda23641",
   "metadata": {},
   "source": [
    "# #Condenser Analysis"
   ]
  },
  {
   "cell_type": "code",
   "execution_count": 5,
   "id": "8ec281c2-2bea-479a-be8f-f7c49f8c42af",
   "metadata": {},
   "outputs": [
    {
     "name": "stdout",
     "output_type": "stream",
     "text": [
      "Specific heat extracted at the condenser is [1765.90294818] kJ/kg\n"
     ]
    }
   ],
   "source": [
    "# Calculating specific heat extracted at the condenser\n",
    "q_L = h4-h1\n",
    "print('Specific heat extracted at the condenser is', q_L,'kJ/kg')"
   ]
  },
  {
   "cell_type": "markdown",
   "id": "734d0943-5121-46ad-ae2b-7c14e137dd99",
   "metadata": {},
   "source": [
    "# #Thermal efficiency"
   ]
  },
  {
   "cell_type": "code",
   "execution_count": 6,
   "id": "ace97467-ae39-4b52-a76a-96a066c1c769",
   "metadata": {},
   "outputs": [
    {
     "name": "stdout",
     "output_type": "stream",
     "text": [
      "Thermal Efficiency is [32.29866183] %\n"
     ]
    }
   ],
   "source": [
    "# Calculating thermal efficiency of the plant\n",
    "\n",
    "eta_thermal = (w_t-w_p)/q_H*100\n",
    "print('Thermal Efficiency is',eta_thermal,'%')"
   ]
  }
 ],
 "metadata": {
  "kernelspec": {
   "display_name": "Python 3 (ipykernel)",
   "language": "python",
   "name": "python3"
  },
  "language_info": {
   "codemirror_mode": {
    "name": "ipython",
    "version": 3
   },
   "file_extension": ".py",
   "mimetype": "text/x-python",
   "name": "python",
   "nbconvert_exporter": "python",
   "pygments_lexer": "ipython3",
   "version": "3.12.4"
  }
 },
 "nbformat": 4,
 "nbformat_minor": 5
}

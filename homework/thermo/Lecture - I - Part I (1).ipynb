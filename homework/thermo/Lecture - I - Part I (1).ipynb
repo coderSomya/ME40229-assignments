{
 "cells": [
  {
   "cell_type": "markdown",
   "id": "5fe774e8-71f9-4ac4-b32a-d3b8e91553bd",
   "metadata": {},
   "source": [
    "# Analysis of basic thermodynamic problems using Python"
   ]
  },
  {
   "cell_type": "markdown",
   "id": "00eb66eb-d009-466b-a4d3-1b7ee2cc4f2d",
   "metadata": {},
   "source": [
    "# CoolProp Library\n",
    "1. CoolProp is a C++ library that implements equations of state and transport properties for pure and pseudo-pure fluids.\n",
    "2. CoolProp provides correlations of properties for incompressible fluids and brines.\n",
    "3. CoolProp offers computationally efficient tabular interpolation and high accuracy psychrometric routines.\n",
    "4. CoolProp is a wrapper for many programming environments - Python, C#, C++, Octave, MATLAB, Java etc.\n",
    "5. It is open-source and free."
   ]
  },
  {
   "cell_type": "markdown",
   "id": "98eea0e8-80d6-41da-9602-44156a08cd85",
   "metadata": {},
   "source": [
    "# #PropSI Function\n",
    "PropSI is a function that is used to extract the properties of pure, fluids, pseudo-pure fluids and mixtures."
   ]
  },
  {
   "cell_type": "markdown",
   "id": "70d93bf0-d302-484d-afb1-ba5818684fbc",
   "metadata": {},
   "source": [
    "# #Example Set - I"
   ]
  },
  {
   "cell_type": "code",
   "execution_count": 2,
   "id": "38f16696-d550-4081-bd53-905c5f49f598",
   "metadata": {},
   "outputs": [
    {
     "name": "stdout",
     "output_type": "stream",
     "text": [
      "The saturated vapor enthalpy at 1.0 atm is 419.05773309406914 kJ/kg\n",
      "The saturated vapor enthalpy at 1.0 atm is 2675.5293255007487 kJ/kg\n",
      "The latent heat of vaporization at 1.0 atm is 2256.4715924066795 kJ/kg\n"
     ]
    }
   ],
   "source": [
    "# At first the PropsSI function is imported from the CoolProp package\n",
    "from CoolProp.CoolProp import PropsSI\n",
    "\n",
    "# Example 1\n",
    "\n",
    "# Calculate the saturated liquid enthalpy of Water at 1 atm in J/kg\n",
    "p_in = 101325 # 1 atm converted to Pa\n",
    "h_l = PropsSI('H','P',p_in,'Q',0,'Water') # Q = 0 for liquid phase\n",
    "                                            # The output property H and input pair of properties P and Q are strings and must be under quotes\n",
    "                                            # Q is the quality of liquid-vapor mixture, 0 for liquid phase and 1 for vapor phase\n",
    "print('The saturated vapor enthalpy at',p_in/101325,'atm is',h_l/1000,'kJ/kg')\n",
    "\n",
    "# Calculate the saturated vapor enthalpy of Water at 1 atm in kJ/kg\n",
    "p_in = 101325\n",
    "h_v = PropsSI('H','P',101325,'Q',1,'Water') # Q = 1 for vapor phase\n",
    "print('The saturated vapor enthalpy at',p_in/101325,'atm is',h_v/1000,'kJ/kg')\n",
    "\n",
    "# Calculate the latent heat of vaporization of Water at 1 atm in kJ/kg\n",
    "q_latent = h_v - h_l\n",
    "print('The latent heat of vaporization at',p_in/101325,'atm is',q_latent/1000,'kJ/kg')\n"
   ]
  },
  {
   "cell_type": "markdown",
   "id": "9706fb12-d1f9-44a7-ba21-45a9b83c7586",
   "metadata": {},
   "source": [
    "# #Example Set - II"
   ]
  },
  {
   "cell_type": "code",
   "execution_count": 3,
   "id": "e71d3a2e-155f-4215-a691-e102ca9dc4f4",
   "metadata": {},
   "outputs": [],
   "source": [
    "import CoolProp.CoolProp as obj\n",
    "import matplotlib.pyplot as plt\n",
    "import numpy as np"
   ]
  },
  {
   "cell_type": "code",
   "execution_count": 4,
   "id": "de2e6402-36ec-4b76-9abc-6a8f836a8908",
   "metadata": {},
   "outputs": [
    {
     "name": "stdout",
     "output_type": "stream",
     "text": [
      "Pressure of air at a temperature of 50.0 °C is 185.4744793253688 kPa\n"
     ]
    }
   ],
   "source": [
    "# Example 2\n",
    "\n",
    "# Find the pressure of air at a specific volume of 0.5 m^3/kg and temperature of 50 °C\n",
    "den_air = 1/0.5\n",
    "temp_air = 50 + 273.15\n",
    "pr_air = obj.PropsSI('P','D',den_air,'T',temp_air,'air')\n",
    "print('Pressure of air at a temperature of',temp_air-273.15,'°C is',pr_air/1000,'kPa')"
   ]
  },
  {
   "cell_type": "code",
   "execution_count": 33,
   "id": "5b19d9c2-328c-44c2-8e43-4c9a43365260",
   "metadata": {},
   "outputs": [
    {
     "name": "stdout",
     "output_type": "stream",
     "text": [
      "101325.0 373.1242958476844\n",
      "102348.48484848485 373.40611700280095\n",
      "103371.96969696968 373.6856146585789\n",
      "104395.45454545454 373.9628311319109\n",
      "105418.93939393939 374.2378075604072\n",
      "106442.42424242425 374.5105839463899\n",
      "107465.90909090909 374.7811991988436\n",
      "108489.39393939394 375.04969117342813\n",
      "109512.8787878788 375.31609671066514\n",
      "110536.36363636363 375.5804516723972\n",
      "111559.84848484848 375.8427909766119\n",
      "112583.33333333334 376.1031486307186\n",
      "113606.81818181818 376.3615577633581\n",
      "114630.30303030302 376.6180506548297\n",
      "115653.78787878789 376.8726587661993\n",
      "116677.27272727274 377.1254127671616\n",
      "117700.75757575757 377.3763425627142\n",
      "118724.24242424242 377.6254773187195\n",
      "119747.72727272728 377.8728454863845\n",
      "120771.21212121213 378.1184748257414\n",
      "121794.69696969696 378.36239242815424\n",
      "122818.18181818182 378.60462473791534\n",
      "123841.66666666667 378.8451975729707\n",
      "124865.1515151515 379.0841361448096\n",
      "125888.63636363637 379.32146507757255\n",
      "126912.12121212122 379.55720842640113\n",
      "127935.60606060605 379.7913896950746\n",
      "128959.09090909091 380.02403185296185\n",
      "129982.57575757576 380.2551573513204\n",
      "131006.0606060606 380.48478813897685\n",
      "132029.54545454544 380.7129456774132\n",
      "133053.0303030303 380.93965095528284\n",
      "134076.51515151517 381.16492450239247\n",
      "135100.00000000003 381.38878640316165\n",
      "136123.48484848483 381.61125630959026\n",
      "137146.9696969697 381.83235345375726\n",
      "138170.45454545456 382.05209665985876\n",
      "139193.9393939394 382.27050435582464\n",
      "140217.42424242425 382.487594584515\n",
      "141240.9090909091 382.70338501452164\n",
      "142264.39393939392 382.9178929505935\n",
      "143287.87878787878 383.13113534369296\n",
      "144311.36363636365 383.34312880071326\n",
      "145334.84848484848 383.5538895938502\n",
      "146358.33333333334 383.7634336696674\n",
      "147381.81818181818 383.9717766578417\n",
      "148405.30303030304 384.1789338796271\n",
      "149428.7878787879 384.3849203560202\n",
      "150452.27272727274 384.58975081567655\n",
      "151475.7575757576 384.793439702542\n",
      "152499.24242424243 384.9960011832513\n",
      "153522.72727272726 385.197449154281\n",
      "154546.21212121213 385.3977972488705\n",
      "155569.696969697 385.5970588437206\n",
      "156593.18181818182 385.7952470654811\n",
      "157616.66666666666 385.99237479703197\n",
      "158640.15151515152 386.18845468356494\n",
      "159663.63636363635 386.38349913847844\n",
      "160687.12121212122 386.57752034908805\n",
      "161710.60606060608 386.7705302821593\n",
      "162734.0909090909 386.9625406892731\n",
      "163757.57575757577 387.1535631120261\n",
      "164781.0606060606 387.3436088870745\n",
      "165804.54545454547 387.53268915102666\n",
      "166828.03030303033 387.72081484518804\n",
      "167851.51515151517 387.90799672016607\n",
      "168875.0 388.09424534033724\n",
      "169898.48484848486 388.2795710881879\n",
      "170921.9696969697 388.46398416852037\n",
      "171945.45454545456 388.64749461254706\n",
      "172968.9393939394 388.8301122818573\n",
      "173992.42424242423 389.0118468722754\n",
      "175015.9090909091 389.1927079176084\n",
      "176039.39393939395 389.372704793287\n",
      "177062.87878787878 389.55184671990276\n",
      "178086.36363636365 389.7301427666496\n",
      "179109.84848484848 389.9076018546648\n",
      "180133.3333333333 390.0842327602843\n",
      "181156.8181818182 390.26004411819974\n",
      "182180.30303030304 390.4350444245346\n",
      "183203.7878787879 390.6092420398384\n",
      "184227.27272727274 390.7826451919941\n",
      "185250.75757575757 390.9552619790534\n",
      "186274.24242424243 391.1271003719883\n",
      "187297.7272727273 391.29816821738024\n",
      "188321.21212121213 391.46847324002624\n",
      "189344.69696969696 391.6380230454858\n",
      "190368.18181818182 391.80682512255794\n",
      "191391.66666666666 391.97488684569015\n",
      "192415.15151515155 392.1422154773304\n",
      "193438.63636363638 392.30881817021606\n",
      "194462.12121212122 392.4747019696055\n",
      "195485.60606060608 392.6398738154481\n",
      "196509.0909090909 392.8043405445073\n",
      "197532.57575757577 392.96810889242136\n",
      "198556.06060606064 393.1311854957203\n",
      "199579.54545454547 393.2935768937875\n",
      "200603.0303030303 393.4552895307717\n",
      "201626.51515151517 393.61632975745783\n",
      "202650.0 393.7767038330859\n"
     ]
    }
   ],
   "source": [
    "n = np.linspace(1,2,100)\n",
    "for i in n:\n",
    "    pr = i*101.325e3\n",
    "    T_bw = obj.PropsSI('T','P',pr,'Q',0.5,'water')\n",
    "    print(pr, T_bw)"
   ]
  },
  {
   "cell_type": "code",
   "execution_count": 32,
   "id": "931fdcb3-e657-4ca7-a042-a6396410c183",
   "metadata": {},
   "outputs": [
    {
     "name": "stdout",
     "output_type": "stream",
     "text": [
      "Density of water at  4.0 °C and 101.325 kPa is 999.9748691393087 kg/m^3\n",
      "Density of water at  50.0 °C and 101.325 kPa is 988.0350462371343 kg/m^3\n"
     ]
    }
   ],
   "source": [
    "# Example 4\n",
    "\n",
    "# Calculate density of water at 4 °C (277.15 K) and 101.325 kPa (atmopospheric pressure)\n",
    "T_w1 = 4 + 273.15\n",
    "p_w1 = 101.325e3 # Default units are in Pascal\n",
    "den_w1 = obj.PropsSI('D','T',T_w1,'P',p_w1,'Water')\n",
    "print('Density of water at ', T_w1 - 273.15, '°C and', p_w1/1000, 'kPa is', den_w1,'kg/m^3')\n",
    "\n",
    "# Calculate density of water at 50 °C (277.15 K) and 101.325 kPa (atmopospheric pressure)\n",
    "T_w2 = 50 + 273.15\n",
    "p_w2 = 101.325e3 # Default units are in Pascal\n",
    "den_w2 = obj.PropsSI('D','T',T_w2,'P',p_w2,'Water')\n",
    "print('Density of water at ', T_w2 - 273.15, '°C and', p_w2/1000, 'kPa is', den_w2,'kg/m^3')"
   ]
  }
 ],
 "metadata": {
  "kernelspec": {
   "display_name": "Python 3 (ipykernel)",
   "language": "python",
   "name": "python3"
  },
  "language_info": {
   "codemirror_mode": {
    "name": "ipython",
    "version": 3
   },
   "file_extension": ".py",
   "mimetype": "text/x-python",
   "name": "python",
   "nbconvert_exporter": "python",
   "pygments_lexer": "ipython3",
   "version": "3.12.4"
  }
 },
 "nbformat": 4,
 "nbformat_minor": 5
}

{
 "cells": [
  {
   "cell_type": "code",
   "execution_count": 1,
   "id": "532ab75d",
   "metadata": {},
   "outputs": [],
   "source": [
    "import numpy as np\n",
    "import matplotlib.pyplot as plt"
   ]
  },
  {
   "cell_type": "markdown",
   "id": "1e4b1ddb",
   "metadata": {},
   "source": [
    "$$x\\exp(x+y) - 2 = 0$$\n",
    "$$xy - 0.1/\\exp(-y) = 0$$"
   ]
  },
  {
   "cell_type": "code",
   "execution_count": 2,
   "id": "8ae08b5a",
   "metadata": {},
   "outputs": [],
   "source": [
    "def sysfunc(x):\n",
    "    x1 = x[0]*np.exp(x[0]+x[1]) - 2\n",
    "    x2 = x[0]*x[1] - 0.1/np.exp(-x[1])\n",
    "    \n",
    "    return [x1,x2]"
   ]
  },
  {
   "cell_type": "code",
   "execution_count": 5,
   "id": "d6571792",
   "metadata": {},
   "outputs": [
    {
     "name": "stdout",
     "output_type": "stream",
     "text": [
      "[0.78624748 0.14738338]\n"
     ]
    }
   ],
   "source": [
    "import scipy.optimize as sco\n",
    "\n",
    "sol = sco.fsolve(sysfunc, [1,1])\n",
    "print(sol)"
   ]
  },
  {
   "cell_type": "code",
   "execution_count": 6,
   "id": "96dbf19e",
   "metadata": {},
   "outputs": [
    {
     "data": {
      "text/plain": [
       "[4.735767333841068e-12, -4.252709295826662e-13]"
      ]
     },
     "execution_count": 6,
     "metadata": {},
     "output_type": "execute_result"
    }
   ],
   "source": [
    "sysfunc(sol)"
   ]
  },
  {
   "cell_type": "markdown",
   "id": "8471d541",
   "metadata": {},
   "source": [
    "### Newton Raphson method implementation"
   ]
  },
  {
   "cell_type": "markdown",
   "id": "84c8b728",
   "metadata": {},
   "source": [
    "$x^(k+1) = x^k - f(x^k)/f'(x^k)$"
   ]
  },
  {
   "cell_type": "code",
   "execution_count": 11,
   "id": "9dab34e6",
   "metadata": {},
   "outputs": [
    {
     "data": {
      "text/plain": [
       "[<matplotlib.lines.Line2D at 0x1a0382920e0>]"
      ]
     },
     "execution_count": 11,
     "metadata": {},
     "output_type": "execute_result"
    },
    {
     "data": {
      "image/png": "[encoded data removed]",
      "text/plain": [
       "<Figure size 432x288 with 1 Axes>"
      ]
     },
     "metadata": {
      "needs_background": "light"
     },
     "output_type": "display_data"
    }
   ],
   "source": [
    "x0 = -2\n",
    "n_iter = 20\n",
    "\n",
    "def f(x):\n",
    "    return 1 - x**2\n",
    "\n",
    "def fprime(x):\n",
    "    return -2*x\n",
    "\n",
    "def x_next(x):\n",
    "    return x - f(x)/fprime(x)\n",
    "\n",
    "plt.plot(np.linspace(-2,2),f(np.linspace(-2,2)))"
   ]
  },
  {
   "cell_type": "code",
   "execution_count": 12,
   "id": "b6bb5814",
   "metadata": {},
   "outputs": [
    {
     "name": "stdout",
     "output_type": "stream",
     "text": [
      "-1.25\n",
      "-1.025\n",
      "-1.0003048780487804\n",
      "-1.0000000464611474\n",
      "-1.000000000000001\n",
      "-1.0\n",
      "-1.0\n",
      "-1.0\n",
      "-1.0\n",
      "-1.0\n",
      "-1.0\n",
      "-1.0\n",
      "-1.0\n",
      "-1.0\n",
      "-1.0\n",
      "-1.0\n",
      "-1.0\n",
      "-1.0\n",
      "-1.0\n",
      "-1.0\n"
     ]
    }
   ],
   "source": [
    "for i in np.arange(0,n_iter):\n",
    "    xn = x_next(x0)\n",
    "    x0 = xn\n",
    "    print(x0)"
   ]
  },
  {
   "cell_type": "code",
   "execution_count": 13,
   "id": "eff3f4b0",
   "metadata": {},
   "outputs": [],
   "source": [
    "## Basins of attraction"
   ]
  },
  {
   "cell_type": "code",
   "execution_count": null,
   "id": "aa2c4637",
   "metadata": {},
   "outputs": [],
   "source": []
  }
 ],
 "metadata": {
  "kernelspec": {
   "display_name": "Python 3 (ipykernel)",
   "language": "python",
   "name": "python3"
  },
  "language_info": {
   "codemirror_mode": {
    "name": "ipython",
    "version": 3
   },
   "file_extension": ".py",
   "mimetype": "text/x-python",
   "name": "python",
   "nbconvert_exporter": "python",
   "pygments_lexer": "ipython3",
   "version": "3.10.11"
  }
 },
 "nbformat": 4,
 "nbformat_minor": 5
}

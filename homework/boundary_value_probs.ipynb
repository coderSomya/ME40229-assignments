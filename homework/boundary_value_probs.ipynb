{
 "cells": [
  {
   "cell_type": "markdown",
   "id": "d183ceec",
   "metadata": {},
   "source": [
    "$d^2f/dx^2=f$\n",
    "\n",
    "$x: [0,2]$\n",
    "\n",
    "$f(0) = 1$ - Dirchlet condition\n",
    "\n",
    "$f'(2) = 0$ - Neumann condition\n",
    "\n",
    "$f'(2) + 2f(1) = a$ - Robin condition"
   ]
  },
  {
   "cell_type": "code",
   "execution_count": 1,
   "id": "d4d73c44",
   "metadata": {},
   "outputs": [],
   "source": [
    "## f(x-)- 2*f(x0) + f(x+) = (delta x)^2 * d2f/dx2 (Expanding taylor series and +,- f(x) and f(-x))\n",
    " \n",
    "## form a recursion using this:"
   ]
  },
  {
   "cell_type": "markdown",
   "id": "88bc264a",
   "metadata": {},
   "source": [
    "#### Perturbation techniques"
   ]
  },
  {
   "cell_type": "code",
   "execution_count": 3,
   "id": "66bf5146",
   "metadata": {},
   "outputs": [],
   "source": [
    "## regular perturbation"
   ]
  },
  {
   "cell_type": "markdown",
   "id": "8349a211",
   "metadata": {},
   "source": [
    "$y'' + 2\\epsilon y' - y = 0$\n",
    "\n",
    "$y(0) = 0$\n",
    "$y(1) = 1$\n",
    "\n",
    "epsilon <<<1"
   ]
  },
  {
   "cell_type": "code",
   "execution_count": 7,
   "id": "0a97b03a",
   "metadata": {},
   "outputs": [],
   "source": [
    "##solve assuming y = e^(mx)\n",
    "\n",
    "import numpy as np\n",
    "import matplotlib.pyplot as plt\n",
    "\n",
    "def analytical(x, epsilon):\n",
    "    alpha = (epsilon**2 + 1)**0.5\n",
    "    B = np.exp(epsilon)/ (np.exp(-alpha) - np.exp(alpha))\n",
    "    A = -B\n",
    "\n",
    "\n",
    "    y = A*(np.exp(-epsilon*x))*np.exp(alpha*x) + B*(np.exp(-epsilon*x))*np.exp(-alpha*x)\n",
    "\n",
    "    plt.plot(x,y)\n",
    "\n",
    "epsilon = 0.2\n",
    "x = np.linspace(0,1,20)"
   ]
  },
  {
   "cell_type": "code",
   "execution_count": 8,
   "id": "f630c0b8",
   "metadata": {},
   "outputs": [
    {
     "data": {
      "image/png": "[encoded data removed]",
      "text/plain": [
       "<Figure size 432x288 with 1 Axes>"
      ]
     },
     "metadata": {
      "needs_background": "light"
     },
     "output_type": "display_data"
    }
   ],
   "source": [
    "analytical(x, epsilon)"
   ]
  },
  {
   "cell_type": "code",
   "execution_count": null,
   "id": "9b7c239f",
   "metadata": {},
   "outputs": [],
   "source": []
  }
 ],
 "metadata": {
  "kernelspec": {
   "display_name": "Python 3 (ipykernel)",
   "language": "python",
   "name": "python3"
  },
  "language_info": {
   "codemirror_mode": {
    "name": "ipython",
    "version": 3
   },
   "file_extension": ".py",
   "mimetype": "text/x-python",
   "name": "python",
   "nbconvert_exporter": "python",
   "pygments_lexer": "ipython3",
   "version": "3.10.11"
  }
 },
 "nbformat": 4,
 "nbformat_minor": 5
}

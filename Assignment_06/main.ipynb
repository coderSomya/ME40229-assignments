{
 "cells": [
  {
   "cell_type": "markdown",
   "id": "08505245-b5d4-4662-95d3-4c82af52a1d1",
   "metadata": {},
   "source": [
    "## 1"
   ]
  },
  {
   "cell_type": "code",
   "execution_count": 2,
   "id": "58c8d577-19ab-4645-b4a1-110e00043200",
   "metadata": {},
   "outputs": [],
   "source": [
    "p3 = 4\n",
    "t3 = 400\n",
    "x4 = 1\n",
    "p4 = 0.4\n",
    "x6 = 1\n",
    "p5 = p4\n",
    "t5 = t3\n",
    "p6 = 0.01"
   ]
  },
  {
   "cell_type": "code",
   "execution_count": 3,
   "id": "93dfe204-b5ba-4504-b3ee-1d7f23561306",
   "metadata": {},
   "outputs": [
    {
     "name": "stdout",
     "output_type": "stream",
     "text": [
      "Requirement already satisfied: pyromat in /opt/homebrew/lib/python3.12/site-packages (2.2.5)\n",
      "Requirement already satisfied: numpy>=1.7 in /opt/homebrew/lib/python3.12/site-packages (from pyromat) (2.1.0)\n"
     ]
    }
   ],
   "source": [
    "!pip install pyromat --break-system-packages"
   ]
  },
  {
   "cell_type": "code",
   "execution_count": 4,
   "id": "ae298291-1b78-49f6-892d-848014ad5e3d",
   "metadata": {},
   "outputs": [],
   "source": [
    "import pyromat as pm"
   ]
  },
  {
   "cell_type": "code",
   "execution_count": 5,
   "id": "3feff52e-28e8-466c-903a-07c26ba960ce",
   "metadata": {},
   "outputs": [],
   "source": [
    "pm.config['unit_pressure'] = 'MPa'\n",
    "pm.config['unit_temperature'] = 'C'"
   ]
  },
  {
   "cell_type": "code",
   "execution_count": 6,
   "id": "16b5011d-ed4c-4dbd-b7f3-9422129a65d1",
   "metadata": {},
   "outputs": [
    {
     "data": {
      "text/plain": [
       "{<ig2, ig.H2O>, <mp1, mp.H2O>}"
      ]
     },
     "execution_count": 6,
     "metadata": {},
     "output_type": "execute_result"
    }
   ],
   "source": [
    "pm.search(name=\"steam\")"
   ]
  },
  {
   "cell_type": "code",
   "execution_count": 7,
   "id": "c088f4f5-2f3b-4caa-8939-1b4943614d4a",
   "metadata": {},
   "outputs": [],
   "source": [
    "steam = pm.get('mp.H2O')"
   ]
  },
  {
   "cell_type": "code",
   "execution_count": 8,
   "id": "68ec2af3-6c8c-4d62-80df-257d2f34125f",
   "metadata": {},
   "outputs": [
    {
     "name": "stdout",
     "output_type": "stream",
     "text": [
      "Help on method s:\n",
      "\n",
      "s(*varg, quality=False, **kwarg) method of builtins.mp1 instance\n",
      "    Entropy\n",
      "        s(...)\n",
      "\n",
      "    All properties accept two other properties as flexible inputs.\n",
      "    Below are the recognized keywords, their meaning, and the config entries\n",
      "    that determine their units.\n",
      "        T   temperature         unit_temperature\n",
      "        p   pressure            unit_pressure\n",
      "        d   density             unit_matter / unit_volume\n",
      "        v   specific volume     unit_volume / unit_matter\n",
      "        x   quality             dimensionless\n",
      "        e   internal energy     unit_energy / unit_matter\n",
      "        h   enthalpy            unit_energy / unit_matter\n",
      "        s   entropy             unit_energy / unit_matter / unit_temperature\n",
      "\n",
      "    If no keywords are specified, the positional arguments are interpreted\n",
      "    as (T,p).  To configure their defaults, use the def_T and def_p config\n",
      "    entries.\n",
      "\n",
      "    Additionally, if the optional keyword, \"quality\" is set to True, the\n",
      "    quality of the liquid/vapor mixture is also returned\n",
      "        s,x = s(..., quality=True)\n",
      "\n",
      "    Returns entropy in unit_energy / unit_matter / unit_temperature\n",
      "\n"
     ]
    }
   ],
   "source": [
    "help(steam.s)"
   ]
  },
  {
   "cell_type": "code",
   "execution_count": 9,
   "id": "a1a570f7-630e-46e5-ae34-dfb2e848da7f",
   "metadata": {},
   "outputs": [],
   "source": [
    "h3 = steam.h(p=p3,T=t3)[0]\n",
    "s3 = steam.s(p=p3,T=t3)[0]"
   ]
  },
  {
   "cell_type": "code",
   "execution_count": 10,
   "id": "20085984-fbb5-4c7b-a657-4035746a4166",
   "metadata": {},
   "outputs": [],
   "source": [
    "s4 = s3 #isentropic expansion"
   ]
  },
  {
   "cell_type": "code",
   "execution_count": 11,
   "id": "2a339fc3-2ab0-4702-a8aa-e547d4025ce8",
   "metadata": {},
   "outputs": [],
   "source": [
    "t4 = steam.T_s(s=s4, p=p4)[0]\n",
    "h4 = steam.h(p=p4, T=t4)[0]"
   ]
  },
  {
   "cell_type": "code",
   "execution_count": 12,
   "id": "82d3c002-c8e1-43e2-84da-479b917a92f3",
   "metadata": {},
   "outputs": [],
   "source": [
    "h5 = steam.h(p=p5,T=t5)[0]\n",
    "s5 = steam.s(p=p5,T=t5)[0]"
   ]
  },
  {
   "cell_type": "code",
   "execution_count": 13,
   "id": "6be9c62d-4579-4e02-ba48-16c81321aa98",
   "metadata": {},
   "outputs": [],
   "source": [
    "s6=s5"
   ]
  },
  {
   "cell_type": "code",
   "execution_count": 14,
   "id": "66d29e02-8406-4616-9632-13501828b297",
   "metadata": {},
   "outputs": [],
   "source": [
    "T6 = steam.T_s(s=s6, p=p6)[0]\n",
    "h6 = steam.h(p=p6, T=T6)[0]"
   ]
  },
  {
   "cell_type": "code",
   "execution_count": 15,
   "id": "6f46794a-6cc1-4d3f-9878-ec562cacfb4d",
   "metadata": {},
   "outputs": [],
   "source": [
    "work_turbine_hp = h3 - h4       # Work done by high-pressure turbine\n",
    "work_turbine_lp = h5 - h6       # Work done by low-pressure turbine"
   ]
  },
  {
   "cell_type": "code",
   "execution_count": 16,
   "id": "24db9771-8be7-449e-9fc9-237d677325fe",
   "metadata": {},
   "outputs": [],
   "source": [
    "t1=T6\n",
    "x1=0\n",
    "h1 = steam.h(x=x1,T=t1)[0]\n",
    "s1 = steam.s(x=x1,T=t1)[0]\n",
    "p2 = p3\n",
    "s2 = s1\n",
    "t2 = steam.T_s(s=s2,p=p2)[0]\n",
    "h2 = steam.h(T=t2,p=p2)[0]"
   ]
  },
  {
   "cell_type": "code",
   "execution_count": 17,
   "id": "92448fb4-5450-4412-813d-f68f51675d07",
   "metadata": {},
   "outputs": [],
   "source": [
    "work_pump = h2-h1\n",
    "net_work = work_turbine_hp + work_turbine_lp - work_pump\n",
    "heat_boiler = h3- h2"
   ]
  },
  {
   "cell_type": "code",
   "execution_count": 18,
   "id": "ad41d49e-7d38-40e0-8e02-32431cff4443",
   "metadata": {},
   "outputs": [
    {
     "data": {
      "text/plain": [
       "3018.6735274780704"
      ]
     },
     "execution_count": 18,
     "metadata": {},
     "output_type": "execute_result"
    }
   ],
   "source": [
    "heat_boiler"
   ]
  },
  {
   "cell_type": "code",
   "execution_count": 19,
   "id": "597155d3-3783-432c-8ea2-003fb219696e",
   "metadata": {},
   "outputs": [],
   "source": [
    "reheat = h5 - h4\n",
    "total_heat_added = heat_boiler + reheat"
   ]
  },
  {
   "cell_type": "code",
   "execution_count": 20,
   "id": "5422c167-1c3c-43e6-94d4-06f9da3cad31",
   "metadata": {},
   "outputs": [
    {
     "data": {
      "text/plain": [
       "32.70314596249612"
      ]
     },
     "execution_count": 20,
     "metadata": {},
     "output_type": "execute_result"
    }
   ],
   "source": [
    "thermal_efficiency = (net_work / total_heat_added) * 100\n",
    "thermal_efficiency"
   ]
  },
  {
   "cell_type": "markdown",
   "id": "02f1241f-8e90-444e-abbc-5f0cc417175c",
   "metadata": {},
   "source": [
    "## 3"
   ]
  },
  {
   "cell_type": "code",
   "execution_count": 5,
   "id": "8d52c1b5-7ac9-4927-be54-1403c9d1c2f3",
   "metadata": {},
   "outputs": [],
   "source": [
    "import pyromat as pm\n",
    "import numpy as np\n",
    "import matplotlib.pyplot as plt\n",
    "import ipywidgets as widgets\n",
    "from IPython.display import display, clear_output\n",
    "\n",
    "\n",
    "pm.config['unit_pressure'] = 'MPa'\n",
    "pm.config['unit_temperature'] = 'K'\n",
    "pm.config['unit_energy'] = 'kJ'\n",
    "pm.config['unit_matter'] = 'kg'\n",
    "\n",
    "h2o = pm.get('mp.H2O')\n",
    "r134a = pm.get('mp.C2H2F4')"
   ]
  },
  {
   "cell_type": "code",
   "execution_count": 4,
   "id": "85fed2bf-e25d-46d7-8a17-456661e245ad",
   "metadata": {},
   "outputs": [
    {
     "data": {
      "text/plain": [
       "{<mp1, mp.C2H2F4>}"
      ]
     },
     "execution_count": 4,
     "metadata": {},
     "output_type": "execute_result"
    }
   ],
   "source": [
    "pm.search(name='R-134a')"
   ]
  },
  {
   "cell_type": "code",
   "execution_count": 16,
   "id": "33bd77d9-fa61-406c-bd18-a8a9036f2ec1",
   "metadata": {},
   "outputs": [],
   "source": [
    "def get_saturation_properties(fluid, T_range):\n",
    "        p_sat = fluid.ps(T_range)\n",
    "        v_f = fluid.v(T_range, p_sat, x=0)  # Saturated liquid specific volume\n",
    "        v_g = fluid.v(T_range, p_sat, x=1)  # Saturated vapor specific volume\n",
    "        h_f = fluid.h(T_range, p_sat, x=0)  # Saturated liquid enthalpy\n",
    "        h_g = fluid.h(T_range, p_sat, x=1)  # Saturated vapor enthalpy\n",
    "        s_f = fluid.s(T_range, p_sat, x=0)  # Saturated liquid entropy\n",
    "        s_g = fluid.s(T_range, p_sat, x=1)  # Saturated vapor entropy\n",
    "        return p_sat, v_f, v_g, h_f, h_g, s_f, s_g"
   ]
  },
  {
   "cell_type": "code",
   "execution_count": 17,
   "id": "7a852693-5454-47c4-b5c8-7647f8bb6399",
   "metadata": {},
   "outputs": [],
   "source": [
    "def plot_diagrams(fluid_name):\n",
    "    \"\"\"Plot PV, TS, and Ph diagrams for the selected fluid\"\"\"\n",
    "    # Clear previous output\n",
    "    clear_output(wait=True)\n",
    "    \n",
    "    # Select fluid\n",
    "    if fluid_name == 'H2O':\n",
    "        fluid = h2o\n",
    "        T_min, T_max = 273.16, 647  # K\n",
    "    elif fluid_name == 'R22':\n",
    "        fluid = r22\n",
    "        T_min, T_max = 115, 369  # K\n",
    "    elif fluid_name == 'R134a':\n",
    "        fluid = r134a\n",
    "        T_min, T_max = 170, 374  # K\n",
    "        \n",
    "    T_range = np.linspace(T_min, T_max, 200)\n",
    "    \n",
    "    # Get saturation properties\n",
    "    props = get_saturation_properties(fluid, T_range)\n",
    "    if props is None:\n",
    "        return\n",
    "        \n",
    "    p_sat, v_f, v_g, h_f, h_g, s_f, s_g = props\n",
    "    \n",
    "    # Create figure with three subplots\n",
    "    fig, (ax1, ax2, ax3) = plt.subplots(1, 3, figsize=(15, 5))\n",
    "    \n",
    "    # PV diagram\n",
    "    ax1.plot(v_f, p_sat, 'b-', label='Saturated liquid')\n",
    "    ax1.plot(v_g, p_sat, 'r-', label='Saturated vapor')\n",
    "    ax1.set_xscale('log')\n",
    "    ax1.set_yscale('log')\n",
    "    ax1.set_xlabel('Specific Volume (m³/kg)')\n",
    "    ax1.set_ylabel('Pressure (MPa)')\n",
    "    ax1.set_title(f'P-v Diagram - {fluid_name}')\n",
    "    ax1.grid(True)\n",
    "    ax1.legend()\n",
    "    \n",
    "    # TS diagram\n",
    "    ax2.plot(s_f, T_range, 'b-', label='Saturated liquid')\n",
    "    ax2.plot(s_g, T_range, 'r-', label='Saturated vapor')\n",
    "    ax2.set_xlabel('Specific Entropy (kJ/kg·K)')\n",
    "    ax2.set_ylabel('Temperature (K)')\n",
    "    ax2.set_title(f'T-s Diagram - {fluid_name}')\n",
    "    ax2.grid(True)\n",
    "    ax2.legend()\n",
    "    \n",
    "    # Ph diagram\n",
    "    ax3.plot(h_f, p_sat, 'b-', label='Saturated liquid')\n",
    "    ax3.plot(h_g, p_sat, 'r-', label='Saturated vapor')\n",
    "    ax3.set_yscale('log')\n",
    "    ax3.set_xlabel('Specific Enthalpy (kJ/kg)')\n",
    "    ax3.set_ylabel('Pressure (MPa)')\n",
    "    ax3.set_title(f'P-h Diagram - {fluid_name}')\n",
    "    ax3.grid(True)\n",
    "    ax3.legend()\n",
    "    \n",
    "    plt.tight_layout()\n",
    "    plt.show()"
   ]
  },
  {
   "cell_type": "code",
   "execution_count": 18,
   "id": "aa7a79c1-2549-4d7a-802c-00541760932d",
   "metadata": {},
   "outputs": [
    {
     "name": "stdout",
     "output_type": "stream",
     "text": [
      "PM WARN: _ar():: b<1 in the ar2 term. This causes singularities in\n",
      "PM WARN: derivatives very close to the critical point.\n",
      "PM WARN: _ar():: b<1 in the ar2 term. This causes singularities in\n",
      "PM WARN: derivatives very close to the critical point.\n",
      "PM WARN: _ar():: b<1 in the ar2 term. This causes singularities in\n",
      "PM WARN: derivatives very close to the critical point.\n",
      "PM WARN: _ar():: b<1 in the ar2 term. This causes singularities in\n",
      "PM WARN: derivatives very close to the critical point.\n",
      "PM WARN: _ar():: b<1 in the ar2 term. This causes singularities in\n",
      "PM WARN: derivatives very close to the critical point.\n",
      "PM WARN: _ar():: b<1 in the ar2 term. This causes singularities in\n",
      "PM WARN: derivatives very close to the critical point.\n",
      "PM WARN: _ar():: b<1 in the ar2 term. This causes singularities in\n",
      "PM WARN: derivatives very close to the critical point.\n",
      "PM WARN: _ar():: b<1 in the ar2 term. This causes singularities in\n",
      "PM WARN: derivatives very close to the critical point.\n",
      "PM WARN: _ar():: b<1 in the ar2 term. This causes singularities in\n",
      "PM WARN: derivatives very close to the critical point.\n",
      "PM WARN: _ar():: b<1 in the ar2 term. This causes singularities in\n",
      "PM WARN: derivatives very close to the critical point.\n",
      "PM WARN: _ar():: b<1 in the ar2 term. This causes singularities in\n",
      "PM WARN: derivatives very close to the critical point.\n",
      "PM WARN: _ar():: b<1 in the ar2 term. This causes singularities in\n",
      "PM WARN: derivatives very close to the critical point.\n",
      "PM WARN: _ar():: b<1 in the ar2 term. This causes singularities in\n",
      "PM WARN: derivatives very close to the critical point.\n",
      "PM WARN: _ar():: b<1 in the ar2 term. This causes singularities in\n",
      "PM WARN: derivatives very close to the critical point.\n",
      "PM WARN: _ar():: b<1 in the ar2 term. This causes singularities in\n",
      "PM WARN: derivatives very close to the critical point.\n",
      "PM WARN: _ar():: b<1 in the ar2 term. This causes singularities in\n",
      "PM WARN: derivatives very close to the critical point.\n"
     ]
    },
    {
     "data": {
      "image/png": "[encoded data removed]",
      "text/plain": [
       "<Figure size 1500x500 with 3 Axes>"
      ]
     },
     "metadata": {},
     "output_type": "display_data"
    },
    {
     "data": {
      "application/vnd.jupyter.widget-view+json": {
       "model_id": "de0a67e819104a30b5a0a0abffefda72",
       "version_major": 2,
       "version_minor": 0
      },
      "text/plain": [
       "interactive(children=(Dropdown(description='Fluid:', options=('H2O', 'R22', 'R134a'), value='H2O'), Output()),…"
      ]
     },
     "execution_count": 18,
     "metadata": {},
     "output_type": "execute_result"
    }
   ],
   "source": [
    "fluid_dropdown = widgets.Dropdown(\n",
    "    options=['H2O', 'R22', 'R134a'],\n",
    "    value='H2O',\n",
    "    description='Fluid:',\n",
    ")\n",
    "\n",
    "# Display interactive widgets\n",
    "display(fluid_dropdown)\n",
    "\n",
    "# Connect the dropdown to the plotting function\n",
    "w = widgets.interactive(plot_diagrams, fluid_name=fluid_dropdown)\n",
    "w"
   ]
  },
  {
   "cell_type": "markdown",
   "id": "8282e408-bdbd-4537-bc60-9d6b220f681c",
   "metadata": {
    "scrolled": true
   },
   "source": [
    "## 4"
   ]
  },
  {
   "cell_type": "code",
   "execution_count": 19,
   "id": "f2209d81-ed94-464b-8e6e-bdab88b6b8cb",
   "metadata": {},
   "outputs": [
    {
     "name": "stdout",
     "output_type": "stream",
     "text": [
      "Collecting CoolProp\n",
      "  Downloading CoolProp-6.6.0-cp312-cp312-macosx_11_0_arm64.whl.metadata (555 bytes)\n",
      "Downloading CoolProp-6.6.0-cp312-cp312-macosx_11_0_arm64.whl (2.5 MB)\n",
      "\u001b[2K   \u001b[38;2;114;156;31m━━━━━━━━━━━━━━━━━━━━━━━━━━━━━━━━━━━━━━━━\u001b[0m \u001b[32m2.5/2.5 MB\u001b[0m \u001b[31m3.9 MB/s\u001b[0m eta \u001b[36m0:00:00\u001b[0m MB/s\u001b[0m eta \u001b[36m0:00:01\u001b[0m:01\u001b[0m\n",
      "\u001b[?25hInstalling collected packages: CoolProp\n",
      "Successfully installed CoolProp-6.6.0\n"
     ]
    }
   ],
   "source": [
    "!pip install CoolProp --break-system-packages"
   ]
  },
  {
   "cell_type": "code",
   "execution_count": 45,
   "id": "93c0c3b0-d592-4c5b-8b41-7756899fa4e5",
   "metadata": {},
   "outputs": [],
   "source": [
    "from CoolProp.CoolProp import PropsSI\n",
    "\n",
    "fluid = 'H2O'\n",
    "pressure = 10000\n",
    "\n",
    "temperature = np.arange(20)\n",
    "temperature = [t+273.16 for t in temperature]"
   ]
  },
  {
   "cell_type": "code",
   "execution_count": 46,
   "id": "df8dfc74-65d0-4375-a260-9df7d87fe49a",
   "metadata": {},
   "outputs": [],
   "source": [
    "density = [PropsSI('D','T',t,'P',pressure,fluid) for  t in temperature]"
   ]
  },
  {
   "cell_type": "code",
   "execution_count": 48,
   "id": "e0fadc5e-d9a5-49c0-8f97-9a73619942be",
   "metadata": {},
   "outputs": [
    {
     "data": {
      "text/plain": [
       "Text(0, 0.5, 'density')"
      ]
     },
     "execution_count": 48,
     "metadata": {},
     "output_type": "execute_result"
    },
    {
     "data": {
      "image/png": "[encoded data removed]",
      "text/plain": [
       "<Figure size 640x480 with 1 Axes>"
      ]
     },
     "metadata": {},
     "output_type": "display_data"
    }
   ],
   "source": [
    "plt.plot(temperature,density)\n",
    "plt.xlabel(\"temperature\")\n",
    "plt.ylabel(\"density\")"
   ]
  },
  {
   "cell_type": "markdown",
   "id": "53fc6c0c-7cec-41e2-ae4e-38f9717b8f92",
   "metadata": {},
   "source": [
    "## 5"
   ]
  },
  {
   "cell_type": "code",
   "execution_count": 51,
   "id": "50fa1608-b40f-4364-82e2-4434386318a7",
   "metadata": {},
   "outputs": [],
   "source": [
    "import CoolProp.CoolProp as CP\n",
    "import CoolProp.HumidAirProp as HA\n",
    "\n",
    "vol = 100\n",
    "pressure = 0.1*1e6\n",
    "temperature = 273.16 + 35\n",
    "relative_humidity = 0.7"
   ]
  },
  {
   "cell_type": "code",
   "execution_count": 52,
   "id": "4b7afe43-81db-4691-9133-69cd53828a1a",
   "metadata": {},
   "outputs": [],
   "source": [
    "R_dry_air = CP.PropsSI('GAS_CONSTANT', 'air')\n",
    "\n",
    "humidity_ratio = HA.HAPropsSI('W', 'T', temperature, 'P', pressure, 'RH', relative_humidity)\n",
    "dew_point = HA.HAPropsSI('D', 'T', temperature, 'P', pressure, 'RH', relative_humidity) - 273.16  # in °C\n",
    "enthalpy_per_dry_air = HA.HAPropsSI('Hda', 'T', temperature, 'P', pressure, 'RH', relative_humidity)\n",
    "enthalpy_per_moist_air = HA.HAPropsSI('H', 'T', temperature, 'P', pressure, 'RH', relative_humidity)\n",
    "entropy_per_dry_air = HA.HAPropsSI('Sda', 'T', temperature, 'P', pressure, 'RH', relative_humidity)\n",
    "entropy_per_moist_air = HA.HAPropsSI('S', 'T', temperature, 'P', pressure, 'RH', relative_humidity)"
   ]
  },
  {
   "cell_type": "code",
   "execution_count": 55,
   "id": "dea2ff77-eb39-41d7-96f4-90a9bfcf18f4",
   "metadata": {},
   "outputs": [],
   "source": [
    "mass_of_dry_air = pressure * vol / (R_dry_air * temperature)\n",
    "mass_of_vapor = mass_of_dry_air * humidity_ratio"
   ]
  },
  {
   "cell_type": "code",
   "execution_count": 56,
   "id": "d6582a6a-dbb6-4c5d-805e-6ef78400aa93",
   "metadata": {},
   "outputs": [],
   "source": [
    "viscosity = HA.HAPropsSI('V', 'T', temperature, 'P', pressure, 'RH', relative_humidity)\n",
    "\n",
    "wet_bulb_temperature = HA.HAPropsSI('Twb', 'T', temperature, 'P', pressure, 'RH', relative_humidity) - 273.16"
   ]
  },
  {
   "cell_type": "code",
   "execution_count": 57,
   "id": "072584ce-cf24-4ada-8540-c8158396f01f",
   "metadata": {},
   "outputs": [
    {
     "name": "stdout",
     "output_type": "stream",
     "text": [
      "Enthalpy per unit dry air: 100995.31455957671 J/kg\n",
      "Enthalpy per unit moist air: 100995.31455957671 J/kg\n",
      "Entropy per unit dry air: 355.14957950223084 J/(kg·K)\n",
      "Entropy per unit moist air: 355.14957950223084 J/(kg·K)\n",
      "Humidity ratio: 0.025646377717531615 kg_water/kg_dry_air\n",
      "Dew point temperature: 28.70411092227272 °C\n",
      "Mass of dry air: 3902.896860312809 kg\n",
      "Mass of vapor: 100.09516707215053 kg\n",
      "Viscosity (μ): 0.9206859325423088 Pa.s\n",
      "Wet bulb temperature: 30.04450155000069 °C\n"
     ]
    }
   ],
   "source": [
    "\n",
    "# Display results\n",
    "print(f\"Enthalpy per unit dry air: {enthalpy_per_dry_air} J/kg\")\n",
    "print(f\"Enthalpy per unit moist air: {enthalpy_per_moist_air} J/kg\")\n",
    "print(f\"Entropy per unit dry air: {entropy_per_dry_air} J/(kg·K)\")\n",
    "print(f\"Entropy per unit moist air: {entropy_per_moist_air} J/(kg·K)\")\n",
    "print(f\"Humidity ratio: {humidity_ratio} kg_water/kg_dry_air\")\n",
    "print(f\"Dew point temperature: {dew_point} °C\")\n",
    "print(f\"Mass of dry air: {mass_of_dry_air} kg\")\n",
    "print(f\"Mass of vapor: {mass_of_vapor} kg\")\n",
    "print(f\"Viscosity (μ): {viscosity} Pa.s\")\n",
    "print(f\"Wet bulb temperature: {wet_bulb_temperature} °C\")"
   ]
  },
  {
   "cell_type": "code",
   "execution_count": null,
   "id": "78d26c59-b801-45b2-b39f-9e08f8c95af3",
   "metadata": {},
   "outputs": [],
   "source": [
    "1 kg/s of saturated moist air (RH = 100%) at 100 kPa and 10 °C goes through a heat exchanger and\n",
    "comes out at 25 °C. What is the exit RH and how much power is needed. humidity_ratio_inlet = HA.HAPropsSI('W', 'T', inlet_temperature, 'P', pressure, 'RH', relative_humidity_inlet)\n"
   ]
  },
  {
   "cell_type": "markdown",
   "id": "57807204-bfee-4ec0-bcba-ba87c9a47c65",
   "metadata": {},
   "source": [
    "## 6"
   ]
  },
  {
   "cell_type": "code",
   "execution_count": 69,
   "id": "1d185b48-34cd-4b15-af3c-a3ade003fff6",
   "metadata": {},
   "outputs": [],
   "source": [
    "m_dot = 1\n",
    "relative_inlet_humidity = 1\n",
    "pressure = 100*1e3\n",
    "t1 = 273.16+10\n",
    "t2 = 273.16+25"
   ]
  },
  {
   "cell_type": "code",
   "execution_count": 70,
   "id": "a4b2b9a2-f047-4b04-a857-595cadca2830",
   "metadata": {},
   "outputs": [],
   "source": [
    "## Assumption = pressure remains constant."
   ]
  },
  {
   "cell_type": "code",
   "execution_count": 71,
   "id": "e974fd56-5a45-4342-b5df-96652b15393d",
   "metadata": {},
   "outputs": [],
   "source": [
    "humidity_ratio_inlet = HA.HAPropsSI('W', 'T', t1, 'P', pressure, 'RH', relative_inlet_humidity)"
   ]
  },
  {
   "cell_type": "code",
   "execution_count": 72,
   "id": "61ab55e0-b746-40ca-aae1-626b509534b0",
   "metadata": {},
   "outputs": [
    {
     "name": "stdout",
     "output_type": "stream",
     "text": [
      "Humidity Ratio (inlet and outlet): 0.00777037870621776 kg_water/kg_dry_air\n",
      "Enthalpy at inlet: 29639.483001411074 J/kg\n",
      "Enthalpy at outlet: 44949.544198344534 J/kg\n",
      "Power required for heating: 15310.06119693346 W\n",
      "Relative Humidity at outlet: 38.74 %\n"
     ]
    }
   ],
   "source": [
    "enthalpy_inlet = HA.HAPropsSI('H', 'T', t1, 'P', pressure, 'RH', relative_inlet_humidity)\n",
    "enthalpy_outlet = HA.HAPropsSI('H', 'T', t2, 'P', pressure, 'W', humidity_ratio_inlet)\n",
    "\n",
    "power_required = m_dot * (enthalpy_outlet - enthalpy_inlet)  # in watts (J/s)\n",
    "\n",
    "relative_humidity_outlet = HA.HAPropsSI('RH', 'T', t2, 'P', pressure, 'W', humidity_ratio_inlet)\n",
    "\n",
    "print(f\"Humidity Ratio (inlet and outlet): {humidity_ratio_inlet} kg_water/kg_dry_air\")\n",
    "print(f\"Enthalpy at inlet: {enthalpy_inlet} J/kg\")\n",
    "print(f\"Enthalpy at outlet: {enthalpy_outlet} J/kg\")\n",
    "print(f\"Power required for heating: {power_required} W\")\n",
    "print(f\"Relative Humidity at outlet: {relative_humidity_outlet * 100:.2f} %\")"
   ]
  },
  {
   "cell_type": "markdown",
   "id": "27b15608-3660-4a98-9279-0598ba0d58e5",
   "metadata": {},
   "source": [
    "## 7"
   ]
  },
  {
   "cell_type": "code",
   "execution_count": 83,
   "id": "0ba38492-3ce0-4eb7-b7f1-99da77a21615",
   "metadata": {},
   "outputs": [],
   "source": [
    "v_dot = 1\n",
    "pressure = 100*1e3\n",
    "t1 = 273.16+25\n",
    "t2 = 273.16+15\n",
    "inlet_rh = 0.8"
   ]
  },
  {
   "cell_type": "code",
   "execution_count": 84,
   "id": "35552c0f-30c2-4009-9941-6225efd86ac2",
   "metadata": {},
   "outputs": [],
   "source": [
    "humidity_inlet = HA.HAPropsSI('W', 'T', t1, 'P', pressure, 'RH', inlet_rh)\n",
    "humidity_outlet = HA.HAPropsSI('W', 'T', t2, 'P', pressure, 'RH', 1.0)\n",
    "\n",
    "enthalpy_inlet = HA.HAPropsSI('H', 'T', t1, 'P', pressure, 'RH', humidity_inlet)"
   ]
  },
  {
   "cell_type": "code",
   "execution_count": 85,
   "id": "03e1c420-8d11-4f4f-90d7-64880b1c648c",
   "metadata": {},
   "outputs": [],
   "source": [
    "# Air density at inlet conditions\n",
    "density_inlet = HA.HAPropsSI('D', 'T', t1, 'P', pressure, 'RH', inlet_rh)\n",
    "\n",
    "# Mass flow rate of dry air\n",
    "mass_flow_rate_dry_air = v_dot * density_inlet  # kg/s"
   ]
  },
  {
   "cell_type": "code",
   "execution_count": 86,
   "id": "b9f5b08b-d703-488c-a68e-d7aa16bdccdb",
   "metadata": {},
   "outputs": [],
   "source": [
    "condensed_water_per_sec = mass_flow_rate_dry_air * (humidity_inlet - humidity_outlet)\n",
    "\n",
    "# Convert to kg/hour\n",
    "condensed_water_per_hour = condensed_water_per_sec * 3600 "
   ]
  },
  {
   "cell_type": "code",
   "execution_count": 87,
   "id": "e807837a-c277-4be6-8a10-0b424067ab2b",
   "metadata": {},
   "outputs": [
    {
     "data": {
      "text/plain": [
       "1.595283517193772"
      ]
     },
     "execution_count": 87,
     "metadata": {},
     "output_type": "execute_result"
    }
   ],
   "source": [
    "condensed_water_per_sec"
   ]
  },
  {
   "cell_type": "code",
   "execution_count": null,
   "id": "5b6f735b-7e21-4e9d-adf0-4075b589aa8b",
   "metadata": {},
   "outputs": [],
   "source": []
  }
 ],
 "metadata": {
  "kernelspec": {
   "display_name": "Python 3 (ipykernel)",
   "language": "python",
   "name": "python3"
  },
  "language_info": {
   "codemirror_mode": {
    "name": "ipython",
    "version": 3
   },
   "file_extension": ".py",
   "mimetype": "text/x-python",
   "name": "python",
   "nbconvert_exporter": "python",
   "pygments_lexer": "ipython3",
   "version": "3.12.7"
  }
 },
 "nbformat": 4,
 "nbformat_minor": 5
}

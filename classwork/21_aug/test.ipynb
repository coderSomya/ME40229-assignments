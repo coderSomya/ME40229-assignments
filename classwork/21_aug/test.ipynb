{
 "cells": [
  {
   "cell_type": "code",
   "execution_count": 4,
   "metadata": {},
   "outputs": [],
   "source": [
    "import sympy as sp"
   ]
  },
  {
   "cell_type": "code",
   "execution_count": 5,
   "metadata": {},
   "outputs": [],
   "source": [
    "x = sp.symbols('x')"
   ]
  },
  {
   "cell_type": "code",
   "execution_count": 7,
   "metadata": {},
   "outputs": [
    {
     "name": "stdout",
     "output_type": "stream",
     "text": [
      "sin(2*x)/2\n"
     ]
    }
   ],
   "source": [
    "y = sp.sin(x)*sp.cos(x)\n",
    "print(sp.trigsimp(y))"
   ]
  },
  {
   "cell_type": "code",
   "execution_count": 10,
   "metadata": {},
   "outputs": [
    {
     "name": "stdout",
     "output_type": "stream",
     "text": [
      "x - 2\n"
     ]
    }
   ],
   "source": [
    "y = (x**2 - 4)/(x+2)\n",
    "print(sp.factor(y))"
   ]
  },
  {
   "cell_type": "code",
   "execution_count": 17,
   "metadata": {},
   "outputs": [
    {
     "name": "stdout",
     "output_type": "stream",
     "text": [
      "[0, pi]\n"
     ]
    }
   ],
   "source": [
    "z = sp.sin(x)\n",
    "print(sp.solve(z))"
   ]
  },
  {
   "cell_type": "code",
   "execution_count": 19,
   "metadata": {},
   "outputs": [
    {
     "name": "stdout",
     "output_type": "stream",
     "text": [
      "Eigen Values: \n",
      "x*(x + 2)/2 - x*sqrt(4*x*(x*cos(x) - 2) + (x + 2)**2)/2\n",
      "x*(x + 2)/2 + x*sqrt(4*x*(x*cos(x) - 2) + (x + 2)**2)/2\n",
      "Eigen Vectors: \n",
      "(x*(x + 2)/2 - x*sqrt(4*x*(x*cos(x) - 2) + (x + 2)**2)/2, 1, [Matrix([\n",
      "[-2*x**3/(x + sqrt(4*x**2*cos(x) + x**2 - 4*x + 4) - 2)],\n",
      "[                                                     1]])])\n",
      "(x*(x + 2)/2 + x*sqrt(4*x*(x*cos(x) - 2) + (x + 2)**2)/2, 1, [Matrix([\n",
      "[-2*x**3/(x - sqrt(4*x**2*cos(x) + x**2 - 4*x + 4) - 2)],\n",
      "[                                                     1]])])\n"
     ]
    }
   ],
   "source": [
    "A = sp.Matrix([[x**2, x**4], [sp.cos(x), 2*x]])\n",
    "eig_val = A.eigenvals()\n",
    "eig_vec = A.eigenvects()\n",
    "\n",
    "print(\"Eigen Values: \")\n",
    "for i in eig_val:\n",
    "    print(i)\n",
    "\n",
    "print(\"Eigen Vectors: \")\n",
    "for i in eig_vec:\n",
    "    print(i)\n"
   ]
  },
  {
   "cell_type": "code",
   "execution_count": 20,
   "metadata": {},
   "outputs": [
    {
     "name": "stdout",
     "output_type": "stream",
     "text": [
      "x**5 + x**4 + x**3 + x**2 + x\n"
     ]
    }
   ],
   "source": [
    "x, n = sp.symbols(\"x n\")\n",
    "term = x**n\n",
    "\n",
    "sum = sp.summation(term, (n,1,5))\n",
    "print(sum)"
   ]
  },
  {
   "cell_type": "code",
   "execution_count": 25,
   "metadata": {},
   "outputs": [
    {
     "name": "stdout",
     "output_type": "stream",
     "text": [
      "3*x**2 + 4\n",
      "6\n"
     ]
    }
   ],
   "source": [
    "y = x**3 + 4*x + 5\n",
    "dx_y = sp.diff(y,x,1)\n",
    "d2x_y = sp.diff(y,x,2)\n",
    "print(dx_y)\n",
    "print(d2x_y.subs(x,1))"
   ]
  },
  {
   "cell_type": "code",
   "execution_count": 27,
   "metadata": {},
   "outputs": [
    {
     "name": "stdout",
     "output_type": "stream",
     "text": [
      "2*pi\n"
     ]
    }
   ],
   "source": [
    "f = x*sp.sin(x)\n",
    "int_f = sp.integrate(f, (x,-sp.pi, sp.pi))\n",
    "print(int_f)"
   ]
  },
  {
   "cell_type": "code",
   "execution_count": 44,
   "metadata": {},
   "outputs": [
    {
     "name": "stdout",
     "output_type": "stream",
     "text": [
      "Eq(y(x), C2*sin(x) + (C1 - x/2)*cos(x))\n",
      "C2*sin(x) + (C1 - x/2)*cos(x)\n"
     ]
    },
    {
     "data": {
      "text/latex": [
       "$\\displaystyle y{\\left(x \\right)} = \\left(1 - \\frac{x}{2}\\right) \\cos{\\left(x \\right)}$"
      ],
      "text/plain": [
       "Eq(y(x), (1 - x/2)*cos(x))"
      ]
     },
     "execution_count": 44,
     "metadata": {},
     "output_type": "execute_result"
    }
   ],
   "source": [
    "# Differential Equations\n",
    "\n",
    "x = sp.symbols('x')\n",
    "y = sp.Function('y')(x)\n",
    "\n",
    "# d2y/dx2 + y = sin(x)\n",
    "\n",
    "diff_eq = sp.Eq(y.diff(x,2) + y, sp.sin(x))\n",
    "\n",
    "diff_eq_sol = sp.dsolve(diff_eq)\n",
    "print(diff_eq_sol)\n",
    "\n",
    "sol = diff_eq_sol.rhs\n",
    "print(sol)\n",
    "\n",
    "# boundary conditions\n",
    "\n",
    "bcs = {y.subs(x,0):1, y.subs(x,sp.pi/2):0}\n",
    "exact_sol = sp.dsolve(diff_eq, ics = bcs)\n",
    "exact_sol"
   ]
  },
  {
   "cell_type": "code",
   "execution_count": 42,
   "metadata": {},
   "outputs": [
    {
     "data": {
      "text/latex": [
       "$\\displaystyle y{\\left(t \\right)} = \\left(- \\frac{A Y_{max}}{2 \\sqrt{A^{2} - 4 B}} + \\frac{Y_{max}}{2}\\right) e^{- \\frac{t \\left(A + \\sqrt{A^{2} - 4 B}\\right)}{2}} + \\left(\\frac{A Y_{max}}{2 \\sqrt{A^{2} - 4 B}} + \\frac{Y_{max}}{2}\\right) e^{\\frac{t \\left(- A + \\sqrt{A^{2} - 4 B}\\right)}{2}}$"
      ],
      "text/plain": [
       "Eq(y(t), (-A*Y_max/(2*sqrt(A**2 - 4*B)) + Y_max/2)*exp(-t*(A + sqrt(A**2 - 4*B))/2) + (A*Y_max/(2*sqrt(A**2 - 4*B)) + Y_max/2)*exp(t*(-A + sqrt(A**2 - 4*B))/2))"
      ]
     },
     "execution_count": 42,
     "metadata": {},
     "output_type": "execute_result"
    }
   ],
   "source": [
    "# A = 5\n",
    "# B = 2\n",
    "# y_max = 10\n",
    "\n",
    "## damped equation\n",
    "\n",
    "# x = sp.symbols('x')\n",
    "t = sp.symbols('t')\n",
    "y = sp.Function('y')(t)\n",
    "A = sp.symbols('A')\n",
    "B = sp.symbols('B')\n",
    "Y_max = sp.symbols('Y_max')\n",
    "\n",
    "## d2y/dt2 + Ady/dx + By = 0\n",
    "\n",
    "diff_eq = sp.Eq(y.diff(t,2) + A*y.diff(t,1) + B*y, 0)\n",
    "\n",
    "\n",
    "# t= 0 , y = y_max\n",
    "# t = 0, dy/dt = 0\n",
    "\n",
    "bcs = {y.subs(t,0):Y_max, y.diff(t,1).subs(t,0):0}\n",
    "exact_sol = sp.dsolve(diff_eq, ics = bcs)\n",
    "\n",
    "exact_sol"
   ]
  },
  {
   "cell_type": "code",
   "execution_count": 43,
   "metadata": {},
   "outputs": [
    {
     "data": {
      "text/latex": [
       "$\\displaystyle y{\\left(t \\right)} = t$"
      ],
      "text/plain": [
       "Eq(y(t), t)"
      ]
     },
     "execution_count": 43,
     "metadata": {},
     "output_type": "execute_result"
    }
   ],
   "source": [
    "## equation = dy/dt = y/t\n",
    "\n",
    "t = sp.symbols('t')\n",
    "y = sp.Function('y')(t)\n",
    "\n",
    "diff_eq = sp.Eq(y.diff(t,1)-y/t,0)\n",
    "\n",
    "bcs = {y.subs(t,1): 1}\n",
    "\n",
    "exact_sol = sp.dsolve(diff_eq, ics = bcs)\n",
    "exact_sol"
   ]
  },
  {
   "cell_type": "code",
   "execution_count": 53,
   "metadata": {},
   "outputs": [
    {
     "name": "stdout",
     "output_type": "stream",
     "text": [
      "-25.0*y**2 + 2.5*y\n",
      "0.062499999999999986\n"
     ]
    }
   ],
   "source": [
    "import numpy as np\n",
    "\n",
    "## Poisuellie equation\n",
    "\n",
    "# u* d2u/dy2 = dp/dx = c\n",
    "\n",
    "\n",
    "y = sp.symbols('y')\n",
    "mew = sp.symbols('mew')\n",
    "c = sp.symbols('c')\n",
    "h = sp.symbols('h')\n",
    "u = sp.Function('u')(y)\n",
    "\n",
    "\n",
    "diff_eq = sp.Eq(u.diff(y,2),c/mew)\n",
    "\n",
    "bcs = {u.subs(y,0):0, u.subs(y,h):0}\n",
    "\n",
    "exact_sol = sp.dsolve(diff_eq, ics= bcs)\n",
    "exact_sol\n",
    "u_val = exact_sol.rhs\n",
    "given = {'c':-0.05, 'h': 0.1, 'mew': 0.001}\n",
    "u_v = u_val.subs(given)\n",
    "print(u_v)\n",
    "\n",
    "\n",
    "u_numer = sp.lambdify(y,u_v, 'numpy')\n",
    "y_val = np.linspace(0,0.1,100)\n",
    "u_val = u_numer(y_val)\n",
    "\n",
    "u_max = u_numer(0.05)\n",
    "print(u_max)\n"
   ]
  },
  {
   "cell_type": "code",
   "execution_count": 67,
   "metadata": {},
   "outputs": [
    {
     "data": {
      "text/latex": [
       "$\\displaystyle t{\\left(x \\right)} = \\left(\\frac{t_{0}}{e^{2 l m} + 1} - \\frac{tamb}{e^{2 l m} + 1}\\right) e^{m x} + \\left(\\frac{t_{0} e^{2 l m}}{e^{2 l m} + 1} - \\frac{tamb e^{2 l m}}{e^{2 l m} + 1}\\right) e^{- m x}$"
      ],
      "text/plain": [
       "Eq(t(x), (t0/(exp(2*l*m) + 1) - tamb/(exp(2*l*m) + 1))*exp(m*x) + (t0*exp(2*l*m)/(exp(2*l*m) + 1) - tamb*exp(2*l*m)/(exp(2*l*m) + 1))*exp(-m*x))"
      ]
     },
     "execution_count": 67,
     "metadata": {},
     "output_type": "execute_result"
    }
   ],
   "source": [
    "## Fin equation\n",
    "\n",
    "## d2t/dx2 - m**2x  = 0\n",
    "\n",
    "\n",
    "x = sp.symbols('x')\n",
    "m = sp.symbols('m')\n",
    "k = sp.symbols('k')\n",
    "A = sp.symbols('A')\n",
    "t0 = sp.symbols('t0')\n",
    "tamb = sp.symbols('tamb')\n",
    "l = sp.symbols('l')\n",
    "t = sp.Function('t')(x)\n",
    "\n",
    "\n",
    "diff_eq = sp.Eq(t.diff(x,2),(m**2)*t)\n",
    "bcs = {t.subs(x,0):t0-tamb, t.diff(x,1).subs(x,l):0}\n",
    "\n",
    "\n",
    "exact_sol = sp.dsolve(diff_eq, ics= bcs)\n",
    "exact_sol\n",
    "\n"
   ]
  },
  {
   "cell_type": "code",
   "execution_count": 68,
   "metadata": {},
   "outputs": [
    {
     "data": {
      "text/latex": [
       "$\\displaystyle - A k \\left(m \\left(\\frac{t_{0}}{e^{2 l m} + 1} - \\frac{tamb}{e^{2 l m} + 1}\\right) e^{m x} - m \\left(\\frac{t_{0} e^{2 l m}}{e^{2 l m} + 1} - \\frac{tamb e^{2 l m}}{e^{2 l m} + 1}\\right) e^{- m x}\\right)$"
      ],
      "text/plain": [
       "-A*k*(m*(t0/(exp(2*l*m) + 1) - tamb/(exp(2*l*m) + 1))*exp(m*x) - m*(t0*exp(2*l*m)/(exp(2*l*m) + 1) - tamb*exp(2*l*m)/(exp(2*l*m) + 1))*exp(-m*x))"
      ]
     },
     "execution_count": 68,
     "metadata": {},
     "output_type": "execute_result"
    }
   ],
   "source": [
    "heat_flux = -1*A*k*exact_sol.rhs.diff(x,1)\n",
    "heat_flux"
   ]
  },
  {
   "cell_type": "code",
   "execution_count": 69,
   "metadata": {},
   "outputs": [
    {
     "data": {
      "text/latex": [
       "$\\displaystyle - A k \\left(m \\left(\\frac{t_{0}}{e^{2 l m} + 1} - \\frac{tamb}{e^{2 l m} + 1}\\right) - m \\left(\\frac{t_{0} e^{2 l m}}{e^{2 l m} + 1} - \\frac{tamb e^{2 l m}}{e^{2 l m} + 1}\\right)\\right)$"
      ],
      "text/plain": [
       "-A*k*(m*(t0/(exp(2*l*m) + 1) - tamb/(exp(2*l*m) + 1)) - m*(t0*exp(2*l*m)/(exp(2*l*m) + 1) - tamb*exp(2*l*m)/(exp(2*l*m) + 1)))"
      ]
     },
     "execution_count": 69,
     "metadata": {},
     "output_type": "execute_result"
    }
   ],
   "source": [
    "heat_flux_at_base = heat_flux.subs(x,0)\n",
    "heat_flux_at_base"
   ]
  },
  {
   "cell_type": "code",
   "execution_count": null,
   "metadata": {},
   "outputs": [],
   "source": []
  }
 ],
 "metadata": {
  "kernelspec": {
   "display_name": "Python 3",
   "language": "python",
   "name": "python3"
  },
  "language_info": {
   "codemirror_mode": {
    "name": "ipython",
    "version": 3
   },
   "file_extension": ".py",
   "mimetype": "text/x-python",
   "name": "python",
   "nbconvert_exporter": "python",
   "pygments_lexer": "ipython3",
   "version": "3.10.11"
  }
 },
 "nbformat": 4,
 "nbformat_minor": 2
}

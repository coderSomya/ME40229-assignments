{
 "cells": [
  {
   "cell_type": "code",
   "execution_count": 1,
   "id": "dcadbd46",
   "metadata": {},
   "outputs": [],
   "source": [
    "## Regular perturbation"
   ]
  },
  {
   "cell_type": "code",
   "execution_count": 2,
   "id": "7aaca94c",
   "metadata": {},
   "outputs": [],
   "source": [
    "import sympy as sp\n",
    "import numpy as np\n",
    "import matplotlib.pyplot as plt"
   ]
  },
  {
   "cell_type": "code",
   "execution_count": 6,
   "id": "b6948689",
   "metadata": {},
   "outputs": [],
   "source": [
    "x = sp.symbols('x')\n",
    "ep = sp.symbols('epsilon')\n",
    "\n",
    "eq = sp.Eq(x**2+ ep*x - 1, 0)"
   ]
  },
  {
   "cell_type": "code",
   "execution_count": 7,
   "id": "a39f007d",
   "metadata": {},
   "outputs": [
    {
     "data": {
      "text/latex": [
       "$\\displaystyle \\epsilon x + x^{2} - 1 = 0$"
      ],
      "text/plain": [
       "Eq(epsilon*x + x**2 - 1, 0)"
      ]
     },
     "execution_count": 7,
     "metadata": {},
     "output_type": "execute_result"
    }
   ],
   "source": [
    "eq"
   ]
  },
  {
   "cell_type": "code",
   "execution_count": 8,
   "id": "94b129b3",
   "metadata": {},
   "outputs": [],
   "source": [
    "# x = x0 + ep*x1 + ep^2*x2...."
   ]
  },
  {
   "cell_type": "code",
   "execution_count": 9,
   "id": "40050f3b",
   "metadata": {},
   "outputs": [],
   "source": [
    "x0, x1, x2 = sp.symbols('x0 x1 x2')"
   ]
  },
  {
   "cell_type": "code",
   "execution_count": 10,
   "id": "3477cb43",
   "metadata": {},
   "outputs": [
    {
     "data": {
      "text/latex": [
       "$\\displaystyle \\epsilon \\left(\\epsilon^{2} x_{2} + \\epsilon x_{1} + x_{0}\\right) + \\left(\\epsilon^{2} x_{2} + \\epsilon x_{1} + x_{0}\\right)^{2} - 1 = 0$"
      ],
      "text/plain": [
       "Eq(epsilon*(epsilon**2*x2 + epsilon*x1 + x0) + (epsilon**2*x2 + epsilon*x1 + x0)**2 - 1, 0)"
      ]
     },
     "execution_count": 10,
     "metadata": {},
     "output_type": "execute_result"
    }
   ],
   "source": [
    "new_eq = eq.subs(x,x0+ep*x1+ep**2*x2)\n",
    "new_eq"
   ]
  },
  {
   "cell_type": "code",
   "execution_count": 17,
   "id": "351cb64f",
   "metadata": {},
   "outputs": [
    {
     "data": {
      "text/latex": [
       "$\\displaystyle \\epsilon^{4} x_{2}^{2} + \\epsilon^{3} \\left(2 x_{1} x_{2} + x_{2}\\right) + \\epsilon^{2} \\left(2 x_{0} x_{2} + x_{1}^{2} + x_{1}\\right) + \\epsilon \\left(2 x_{0} x_{1} + x_{0}\\right) + x_{0}^{2} - 1$"
      ],
      "text/plain": [
       "epsilon**4*x2**2 + epsilon**3*(2*x1*x2 + x2) + epsilon**2*(2*x0*x2 + x1**2 + x1) + epsilon*(2*x0*x1 + x0) + x0**2 - 1"
      ]
     },
     "execution_count": 17,
     "metadata": {},
     "output_type": "execute_result"
    }
   ],
   "source": [
    "expanded = sp.expand(new_eq.lhs)\n",
    "ep_eq = sp.collect(expanded, ep)\n",
    "ep_eq"
   ]
  },
  {
   "cell_type": "code",
   "execution_count": 18,
   "id": "481eb7dc",
   "metadata": {},
   "outputs": [],
   "source": [
    "order_0 = sp.Eq(x0**2-1,0)\n",
    "order_1 = sp.Eq(2*x0*x1 + x0,0)\n",
    "order_2 = sp.Eq(2*x0*x2 + x1**2 + x1,0)"
   ]
  },
  {
   "cell_type": "code",
   "execution_count": 21,
   "id": "78d13062",
   "metadata": {},
   "outputs": [
    {
     "data": {
      "text/plain": [
       "[-1, 1]"
      ]
     },
     "execution_count": 21,
     "metadata": {},
     "output_type": "execute_result"
    }
   ],
   "source": [
    "sol_0 = sp.solve(order_0)\n",
    "sol_0"
   ]
  },
  {
   "cell_type": "code",
   "execution_count": 31,
   "id": "2f2b3e79",
   "metadata": {},
   "outputs": [],
   "source": [
    "sol_1 = []\n",
    "\n",
    "o = order_1.subs(x0,sol)\n",
    "o_1 = sp.solve(o)\n",
    "sol_1.append(o_1[0])"
   ]
  },
  {
   "cell_type": "code",
   "execution_count": 32,
   "id": "bb08e92c",
   "metadata": {},
   "outputs": [
    {
     "data": {
      "text/plain": [
       "[-1/2]"
      ]
     },
     "execution_count": 32,
     "metadata": {},
     "output_type": "execute_result"
    }
   ],
   "source": [
    "sol_1"
   ]
  },
  {
   "cell_type": "code",
   "execution_count": 35,
   "id": "b2077bde",
   "metadata": {},
   "outputs": [
    {
     "data": {
      "text/plain": [
       "[-1/8, 1/8]"
      ]
     },
     "execution_count": 35,
     "metadata": {},
     "output_type": "execute_result"
    }
   ],
   "source": [
    "sol_2 = []\n",
    "for sol0 in sol_0:\n",
    "    for sol1 in sol_1:\n",
    "        o_2 = order_2.subs(x0,sol0).subs(x1,sol1).lhs\n",
    "        s = sp.solve(o_2)\n",
    "        sol_2.append(s[0])\n",
    "sol_2"
   ]
  },
  {
   "cell_type": "markdown",
   "id": "acd218a8",
   "metadata": {},
   "source": [
    "##### solutions are = (x0,x1,x2) = (-1,-1/2,-1/8),(1,-1/2,1/8\n",
    "\n",
    "Hence, \n",
    "$$x = -1 - \\epsilon/2 -\\epsilon^2/8$$\n",
    "$$x = 1 - \\epsilon/2 +\\epsilon^2/8$$"
   ]
  },
  {
   "cell_type": "code",
   "execution_count": null,
   "id": "f5ace944",
   "metadata": {},
   "outputs": [],
   "source": []
  }
 ],
 "metadata": {
  "kernelspec": {
   "display_name": "Python 3 (ipykernel)",
   "language": "python",
   "name": "python3"
  },
  "language_info": {
   "codemirror_mode": {
    "name": "ipython",
    "version": 3
   },
   "file_extension": ".py",
   "mimetype": "text/x-python",
   "name": "python",
   "nbconvert_exporter": "python",
   "pygments_lexer": "ipython3",
   "version": "3.10.11"
  }
 },
 "nbformat": 4,
 "nbformat_minor": 5
}

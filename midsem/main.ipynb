{
 "cells": [
  {
   "cell_type": "markdown",
   "id": "209467f9-1f0a-4367-b4ae-5824b8a3334c",
   "metadata": {},
   "source": [
    "## q1"
   ]
  },
  {
   "cell_type": "code",
   "execution_count": 2,
   "id": "ddb4b8d2-80e5-410c-bfa9-7be29f33b10a",
   "metadata": {},
   "outputs": [
    {
     "name": "stdout",
     "output_type": "stream",
     "text": [
      "[[ 0  1  2  3]\n",
      " [ 4  5  6  7]\n",
      " [ 8  9 10 11]]\n"
     ]
    }
   ],
   "source": [
    "## a\n",
    "\n",
    "import numpy as np\n",
    "arr = np.arange(12)\n",
    "reshaped_arr = arr.reshape((3,4))\n",
    "print(reshaped_arr)"
   ]
  },
  {
   "cell_type": "code",
   "execution_count": 3,
   "id": "4a39ec5b-96af-4125-a4cd-50eb6c98dcaa",
   "metadata": {},
   "outputs": [
    {
     "name": "stdout",
     "output_type": "stream",
     "text": [
      "[ 6  8 10 12]\n"
     ]
    }
   ],
   "source": [
    "## b\n",
    "array = np.array([[1,2,3,4], [5,6,7,8], [9,10,11,12]])\n",
    "mask = (array>5) & (array%2 ==0)\n",
    "filtered_array = array[mask]\n",
    "print(filtered_array)"
   ]
  },
  {
   "cell_type": "code",
   "execution_count": 7,
   "id": "2a615661-2134-479e-b413-4c8aaa357956",
   "metadata": {},
   "outputs": [
    {
     "name": "stdout",
     "output_type": "stream",
     "text": [
      "Diagonal matrix:\n",
      " [[ 1  0  0]\n",
      " [ 0  6  0]\n",
      " [ 0  0 11]]\n"
     ]
    }
   ],
   "source": [
    "##c\n",
    "\n",
    "matrix = np.array([[1,2,3,4], [5,6,7,8], [9,10,11,12]])\n",
    "diagonal_matrix = np.diag(np.diag(matrix))\n",
    "print(\"Diagonal matrix:\\n\", diagonal_matrix)"
   ]
  },
  {
   "cell_type": "code",
   "execution_count": null,
   "id": "8227c6b0-0f7a-443c-9047-1801aacde5b9",
   "metadata": {},
   "outputs": [],
   "source": [
    "##d\n",
    "\n",
    "matrix = np.array([[1,2,3,4], [5,6,7,8], [9,10,11,12], [13,14,15,16]])\n",
    "rows = np.array([0,1,2])\n",
    "cols = np.array([2,1,0])\n",
    "selected_elements = matrix[rows,cols]\n",
    "print(\"selected elements\", selected_elements)"
   ]
  },
  {
   "cell_type": "code",
   "execution_count": 10,
   "id": "710d957e-af3a-483e-969d-45276b134e75",
   "metadata": {},
   "outputs": [
    {
     "name": "stdout",
     "output_type": "stream",
     "text": [
      "submatrix:\n",
      " [[11 12]\n",
      " [15 16]]\n",
      "submatrix sum:\n",
      " 54\n",
      "submatrix mean:\n",
      " 13.5\n"
     ]
    }
   ],
   "source": [
    "##e\n",
    "\n",
    "import numpy as np\n",
    "matrix = np.array([[1,2,3,4], [5,6,7,8], [9,10,11,12], [13,14,15,16]])\n",
    "submatrix = matrix[-2:,-2:]\n",
    "submatrix_sum = np.sum(submatrix)\n",
    "submatrix_mean = np.mean(submatrix)\n",
    "print(\"submatrix:\\n\", submatrix)\n",
    "print(\"submatrix sum:\\n\", submatrix_sum)\n",
    "print(\"submatrix mean:\\n\", submatrix_mean)"
   ]
  },
  {
   "cell_type": "markdown",
   "id": "3f44406a-4b60-4e7e-8b50-81a036cd993a",
   "metadata": {},
   "source": [
    "## q2 a)"
   ]
  },
  {
   "cell_type": "code",
   "execution_count": 28,
   "id": "a17c6286-3858-4652-b551-646cfec49602",
   "metadata": {},
   "outputs": [],
   "source": [
    "def conjugate_gradient(A, b, x0=None, tol=1e-10, max_iter = None):\n",
    "\n",
    "    n = len(b)\n",
    "    if(x0 is None):\n",
    "        x0 = np.zeros(n)\n",
    "    if(max_iter is None):\n",
    "        max_iter = n\n",
    "\n",
    "    x = x0\n",
    "    r = b - np.dot(A,x) # initial residual\n",
    "    p = r.copy()\n",
    "    rs_old = np.dot(r,r)\n",
    "\n",
    "    for i in range(max_iter):\n",
    "        alpha_k = np.dot(np.matrix.transpose(r), r)/ np.dot(np.dot(np.matrix.transpose(p),A), p)\n",
    "        x_new = x - alpha_k * np.matmul(A, p)\n",
    "        r_new = r - alpha_k*np.dot(A, p)\n",
    "        res = np.linalg.norm(r_new)\n",
    "\n",
    "        if(res <= tol):\n",
    "            print(\"solution converged...!\")\n",
    "            return x\n",
    "            \n",
    "        beta = np.linalg.norm(r_new)/np.linalg.norm(r)\n",
    "        p_new = r_new + beta*p\n",
    "\n",
    "        r = r_new\n",
    "        p = p_new\n",
    "        x = x_new\n",
    "\n",
    "    print(\"solution did not converge...!\")\n",
    "    return None"
   ]
  },
  {
   "cell_type": "code",
   "execution_count": 27,
   "id": "adaf92a1-7e99-47e9-84b8-cf5c61e5d9bc",
   "metadata": {},
   "outputs": [
    {
     "name": "stdout",
     "output_type": "stream",
     "text": [
      "solution did not converge...!\n"
     ]
    }
   ],
   "source": [
    "A = [[4,1,1], [1,3,-1], [1,-1,2]]\n",
    "b = [1,2,0]\n",
    "\n",
    "sol = conjugate_gradient(A,b)"
   ]
  },
  {
   "cell_type": "markdown",
   "id": "7e0173e6-5b42-4221-b95e-7ca496b5c114",
   "metadata": {},
   "source": [
    "## q2 b)"
   ]
  },
  {
   "cell_type": "code",
   "execution_count": 35,
   "id": "258beb1d-b81b-4fcb-af3c-b6707455c7cb",
   "metadata": {},
   "outputs": [],
   "source": [
    "def lu_decomposition(A, b):\n",
    "\n",
    "    n = len(b)\n",
    "    L = np.eye(n)\n",
    "    U = np.zeros((n,n))\n",
    "\n",
    "    for k in np.arange(0,n):\n",
    "        for i in np.arange(k,n):\n",
    "            U[k][i] = A[k][i]\n",
    "\n",
    "            for j in range(k):\n",
    "                U[k][i]-= L[k][j]*U[j][i]\n",
    "        for i in np.arange(k+1,n):\n",
    "            L[i][k] = A[i][k]\n",
    "\n",
    "            for j in range(k):\n",
    "                L[i][k]-= L[i][j]*U[j][k]\n",
    "\n",
    "            L[i][k] = L[i][k]/U[k][k]\n",
    "        L[k][k]=1\n",
    "\n",
    "    y = np.zeros(n)\n",
    "    x = np.zeros(n)\n",
    "\n",
    "    for i in range(n):\n",
    "        y[i] = b[i]\n",
    "\n",
    "        for j in range(i):\n",
    "            y[i] -= L[i][j]*y[j]\n",
    "\n",
    "    for i in range(n):\n",
    "        x[i] = y[i]\n",
    "\n",
    "        for j in np.arange(i+1,n):\n",
    "            x[i] -= U[i,j]*x[j]\n",
    "\n",
    "        x[i]/= U[i][i]\n",
    "\n",
    "    return x"
   ]
  },
  {
   "cell_type": "code",
   "execution_count": 36,
   "id": "6d4404f6-e6d3-44d7-835a-691bac3f0e99",
   "metadata": {},
   "outputs": [
    {
     "data": {
      "text/plain": [
       "array([ 1.        , 12.        ,  1.85714286])"
      ]
     },
     "execution_count": 36,
     "metadata": {},
     "output_type": "execute_result"
    }
   ],
   "source": [
    "A = [[2,-1,1], [-3,3,9],[3,3,5]]\n",
    "b = [2,15,5]\n",
    "\n",
    "sol = lu_decomposition(A,b)\n",
    "sol"
   ]
  },
  {
   "cell_type": "markdown",
   "id": "41f1f222-45f8-4f4d-98a0-455532635fee",
   "metadata": {},
   "source": [
    "## q3"
   ]
  },
  {
   "cell_type": "code",
   "execution_count": null,
   "id": "26140607-1a12-4d32-94ac-d7e5fb95804b",
   "metadata": {},
   "outputs": [],
   "source": []
  },
  {
   "cell_type": "code",
   "execution_count": null,
   "id": "7bc50b13-79ed-434b-9e29-bd969c107547",
   "metadata": {},
   "outputs": [],
   "source": []
  },
  {
   "cell_type": "code",
   "execution_count": null,
   "id": "58949abf-07e8-4acf-8f79-271ff567a5c6",
   "metadata": {},
   "outputs": [],
   "source": []
  },
  {
   "cell_type": "code",
   "execution_count": null,
   "id": "faef631a-a5bb-4303-922d-d4045c139179",
   "metadata": {},
   "outputs": [],
   "source": []
  },
  {
   "cell_type": "code",
   "execution_count": null,
   "id": "f6d2229f-a2ae-4f43-9067-8401a06e9e25",
   "metadata": {},
   "outputs": [],
   "source": []
  },
  {
   "cell_type": "markdown",
   "id": "2e7470a8-7bf7-432e-bced-5ee543e42c93",
   "metadata": {},
   "source": [
    "## q5"
   ]
  },
  {
   "cell_type": "code",
   "execution_count": 1,
   "id": "7184153a-a258-405a-a6d0-a0c0fb430de9",
   "metadata": {},
   "outputs": [],
   "source": [
    "import sympy as sp"
   ]
  },
  {
   "cell_type": "code",
   "execution_count": 38,
   "id": "3300fb24-486f-44da-a29f-2eee4fb00b34",
   "metadata": {},
   "outputs": [
    {
     "data": {
      "text/latex": [
       "$\\displaystyle 2 \\epsilon \\frac{d}{d \\tau} y{\\left(\\tau \\right)} - y{\\left(\\tau \\right)} + \\frac{d^{2}}{d \\tau^{2}} y{\\left(\\tau \\right)}$"
      ],
      "text/plain": [
       "2*epsilon*Derivative(y(tau), tau) - y(tau) + Derivative(y(tau), (tau, 2))"
      ]
     },
     "execution_count": 38,
     "metadata": {},
     "output_type": "execute_result"
    }
   ],
   "source": [
    "tau, epsilon = sp.symbols('tau epsilon')\n",
    "y = sp.Function('y')(tau)\n",
    "\n",
    "diffeq = y.diff(tau,2) + 2*epsilon*y.diff(tau) - y\n",
    "diffeq"
   ]
  },
  {
   "cell_type": "code",
   "execution_count": 3,
   "id": "0d5e69cf-9a80-47fb-ad2a-9e51ec45c151",
   "metadata": {},
   "outputs": [],
   "source": [
    "y0 = sp.Function('y0')(tau)\n",
    "y1 = sp.Function('y1')(tau)\n",
    "y_perturbation = y0 + epsilon*y1\n",
    "\n",
    "diffeq_sub_expanded = sp.simplify(diffeq.subs(y, y_perturbation).expand())"
   ]
  },
  {
   "cell_type": "code",
   "execution_count": 4,
   "id": "2ade8563-27f7-44d6-a01e-efa36bced19c",
   "metadata": {},
   "outputs": [
    {
     "data": {
      "text/latex": [
       "$\\displaystyle 2 \\epsilon \\left(\\epsilon \\frac{d}{d \\tau} y_{1}{\\left(\\tau \\right)} + \\frac{d}{d \\tau} y_{0}{\\left(\\tau \\right)}\\right) - \\epsilon y_{1}{\\left(\\tau \\right)} + \\epsilon \\frac{d^{2}}{d \\tau^{2}} y_{1}{\\left(\\tau \\right)} - y_{0}{\\left(\\tau \\right)} + \\frac{d^{2}}{d \\tau^{2}} y_{0}{\\left(\\tau \\right)}$"
      ],
      "text/plain": [
       "2*epsilon*(epsilon*Derivative(y1(tau), tau) + Derivative(y0(tau), tau)) - epsilon*y1(tau) + epsilon*Derivative(y1(tau), (tau, 2)) - y0(tau) + Derivative(y0(tau), (tau, 2))"
      ]
     },
     "execution_count": 4,
     "metadata": {},
     "output_type": "execute_result"
    }
   ],
   "source": [
    "diffeq_sub_expanded"
   ]
  },
  {
   "cell_type": "code",
   "execution_count": 14,
   "id": "17366e74-99a1-4e6a-ab95-3f06d76a40ae",
   "metadata": {},
   "outputs": [],
   "source": [
    "epsilon_expansion = sp.series(diffeq_sub_expanded, epsilon, n=3)"
   ]
  },
  {
   "cell_type": "code",
   "execution_count": 15,
   "id": "2f38b2d8-f25e-40c0-8e16-6ad6e4616db8",
   "metadata": {},
   "outputs": [
    {
     "data": {
      "text/latex": [
       "$\\displaystyle 2 \\epsilon^{2} \\frac{d}{d \\tau} y_{1}{\\left(\\tau \\right)} + \\epsilon \\left(- y_{1}{\\left(\\tau \\right)} + 2 \\frac{d}{d \\tau} y_{0}{\\left(\\tau \\right)} + \\frac{d^{2}}{d \\tau^{2}} y_{1}{\\left(\\tau \\right)}\\right) - y_{0}{\\left(\\tau \\right)} + \\frac{d^{2}}{d \\tau^{2}} y_{0}{\\left(\\tau \\right)}$"
      ],
      "text/plain": [
       "2*epsilon**2*Derivative(y1(tau), tau) + epsilon*(-y1(tau) + 2*Derivative(y0(tau), tau) + Derivative(y1(tau), (tau, 2))) - y0(tau) + Derivative(y0(tau), (tau, 2))"
      ]
     },
     "execution_count": 15,
     "metadata": {},
     "output_type": "execute_result"
    }
   ],
   "source": [
    "epsilon_expansion"
   ]
  },
  {
   "cell_type": "code",
   "execution_count": 18,
   "id": "57c6e31a-ce6a-4071-8614-22f6f4939798",
   "metadata": {},
   "outputs": [
    {
     "data": {
      "text/latex": [
       "$\\displaystyle - y_{0}{\\left(\\tau \\right)} + \\frac{d^{2}}{d \\tau^{2}} y_{0}{\\left(\\tau \\right)}$"
      ],
      "text/plain": [
       "-y0(tau) + Derivative(y0(tau), (tau, 2))"
      ]
     },
     "execution_count": 18,
     "metadata": {},
     "output_type": "execute_result"
    }
   ],
   "source": [
    "epsilon_zero = -y0 + y0.diff(tau,2)\n",
    "epsilon_zero"
   ]
  },
  {
   "cell_type": "code",
   "execution_count": 20,
   "id": "3e1e0556-bd11-4eca-a10c-ef318ce18f58",
   "metadata": {},
   "outputs": [
    {
     "data": {
      "text/latex": [
       "$\\displaystyle \\frac{e e^{\\tau}}{-1 + e^{2}} - \\frac{e e^{- \\tau}}{-1 + e^{2}}$"
      ],
      "text/plain": [
       "E*exp(tau)/(-1 + exp(2)) - E*exp(-tau)/(-1 + exp(2))"
      ]
     },
     "execution_count": 20,
     "metadata": {},
     "output_type": "execute_result"
    }
   ],
   "source": [
    "bcs_0 = {\n",
    "    y0.subs(tau,0):0,\n",
    "    y0.subs(tau,1):1\n",
    "}\n",
    "\n",
    "sol_0 = sp.dsolve(epsilon_zero, ics=bcs_0)\n",
    "sol_0.rhs"
   ]
  },
  {
   "cell_type": "code",
   "execution_count": 21,
   "id": "6e11a073-3e3a-4fd9-ab17-6f5d980b9be5",
   "metadata": {},
   "outputs": [
    {
     "data": {
      "text/latex": [
       "$\\displaystyle - y_{1}{\\left(\\tau \\right)} + 2 \\frac{d}{d \\tau} y_{0}{\\left(\\tau \\right)} + \\frac{d^{2}}{d \\tau^{2}} y_{1}{\\left(\\tau \\right)}$"
      ],
      "text/plain": [
       "-y1(tau) + 2*Derivative(y0(tau), tau) + Derivative(y1(tau), (tau, 2))"
      ]
     },
     "execution_count": 21,
     "metadata": {},
     "output_type": "execute_result"
    }
   ],
   "source": [
    "epsilon_one = -y1 + 2*y0.diff(tau,1) + y1.diff(tau,2)\n",
    "epsilon_one"
   ]
  },
  {
   "cell_type": "code",
   "execution_count": 26,
   "id": "11622b4e-57de-426d-9c8d-014697ad7d5a",
   "metadata": {},
   "outputs": [
    {
     "data": {
      "text/latex": [
       "$\\displaystyle - \\frac{2 \\left(1 - e^{2 \\tau}\\right) e^{1 - \\tau}}{1 - e^{2}} - y_{1}{\\left(\\tau \\right)} - \\frac{4 e^{2 \\tau} e^{1 - \\tau}}{1 - e^{2}} + \\frac{d^{2}}{d \\tau^{2}} y_{1}{\\left(\\tau \\right)}$"
      ],
      "text/plain": [
       "-2*(1 - exp(2*tau))*exp(1 - tau)/(1 - exp(2)) - y1(tau) - 4*exp(2*tau)*exp(1 - tau)/(1 - exp(2)) + Derivative(y1(tau), (tau, 2))"
      ]
     },
     "execution_count": 26,
     "metadata": {},
     "output_type": "execute_result"
    }
   ],
   "source": [
    "epsilon_one = sp.simplify(epsilon_one.subs(y0, sol_0.rhs))\n",
    "epsilon_one"
   ]
  },
  {
   "cell_type": "code",
   "execution_count": 28,
   "id": "13bdf59f-3432-4794-b571-ad66ee11d676",
   "metadata": {},
   "outputs": [
    {
     "data": {
      "text/latex": [
       "$\\displaystyle y_{1}{\\left(\\tau \\right)} = \\left(\\frac{\\tau}{2 \\sinh{\\left(1 \\right)}} + \\frac{- 4 e^{3} \\sinh{\\left(1 \\right)} - 1 + 2 e \\sinh{\\left(1 \\right)} + e^{2}}{- 4 e^{2} \\sinh{\\left(1 \\right)} + 2 \\sinh{\\left(1 \\right)} + 2 e^{4} \\sinh{\\left(1 \\right)}}\\right) e^{- \\tau} + \\left(\\frac{e \\tau}{1 - e^{2}} + \\frac{- e^{2} - 2 e \\sinh{\\left(1 \\right)} + 1 + 4 e^{3} \\sinh{\\left(1 \\right)}}{- 4 e^{2} \\sinh{\\left(1 \\right)} + 2 \\sinh{\\left(1 \\right)} + 2 e^{4} \\sinh{\\left(1 \\right)}}\\right) e^{\\tau}$"
      ],
      "text/plain": [
       "Eq(y1(tau), (tau/(2*sinh(1)) + (-4*exp(3)*sinh(1) - 1 + 2*E*sinh(1) + exp(2))/(-4*exp(2)*sinh(1) + 2*sinh(1) + 2*exp(4)*sinh(1)))*exp(-tau) + (E*tau/(1 - exp(2)) + (-exp(2) - 2*E*sinh(1) + 1 + 4*exp(3)*sinh(1))/(-4*exp(2)*sinh(1) + 2*sinh(1) + 2*exp(4)*sinh(1)))*exp(tau))"
      ]
     },
     "execution_count": 28,
     "metadata": {},
     "output_type": "execute_result"
    }
   ],
   "source": [
    "bcs_1 = {\n",
    "    y1.subs(tau,0):0,\n",
    "    y1.subs(tau,1):1\n",
    "}\n",
    "\n",
    "sol_1 = sp.dsolve(epsilon_one, ics=bcs_1)\n",
    "sol_1"
   ]
  },
  {
   "cell_type": "code",
   "execution_count": 40,
   "id": "5ab14314-cbee-4e33-af55-7973e0f1430e",
   "metadata": {},
   "outputs": [
    {
     "data": {
      "text/latex": [
       "$\\displaystyle y{\\left(\\tau \\right)} = \\frac{e^{\\epsilon} e^{\\tau \\left(- \\epsilon + \\sqrt{\\epsilon^{2} + 1}\\right)} e^{\\sqrt{\\epsilon^{2} + 1}}}{e^{2 \\sqrt{\\epsilon^{2} + 1}} - 1} - \\frac{e^{\\epsilon} e^{- \\tau \\left(\\epsilon + \\sqrt{\\epsilon^{2} + 1}\\right)} e^{\\sqrt{\\epsilon^{2} + 1}}}{e^{2 \\sqrt{\\epsilon^{2} + 1}} - 1}$"
      ],
      "text/plain": [
       "Eq(y(tau), exp(epsilon)*exp(tau*(-epsilon + sqrt(epsilon**2 + 1)))*exp(sqrt(epsilon**2 + 1))/(exp(2*sqrt(epsilon**2 + 1)) - 1) - exp(epsilon)*exp(-tau*(epsilon + sqrt(epsilon**2 + 1)))*exp(sqrt(epsilon**2 + 1))/(exp(2*sqrt(epsilon**2 + 1)) - 1))"
      ]
     },
     "execution_count": 40,
     "metadata": {},
     "output_type": "execute_result"
    }
   ],
   "source": [
    "bcs_analytical = {\n",
    "    y.subs(tau,0):0,\n",
    "    y.subs(tau,1):1\n",
    "}\n",
    "analytical_sol = sp.dsolve(diffeq, ics=bcs_analytical)\n",
    "analytical_sol"
   ]
  },
  {
   "cell_type": "code",
   "execution_count": 41,
   "id": "b7f0dc4b-1ba2-4d2b-b834-879213536167",
   "metadata": {},
   "outputs": [],
   "source": [
    "import numpy as np\n",
    "import matplotlib.pyplot as plt\n",
    "\n",
    "t = np.linspace(0,1,50)\n",
    "y_pert = []\n",
    "y_analytical = []\n",
    "for i in t:\n",
    "    sol_i = sol_1.rhs.subs(tau,i)\n",
    "    sol_analytical = analytical_sol.rhs.subs(tau,i)\n",
    "    y_pert.append(sol_i)\n",
    "    y_analytical.append(sol_analytical)"
   ]
  },
  {
   "cell_type": "code",
   "execution_count": 45,
   "id": "ac91e216-4663-4d11-9b6a-a955ff057148",
   "metadata": {},
   "outputs": [
    {
     "data": {
      "text/latex": [
       "$\\displaystyle - \\frac{e^{\\epsilon} e^{- 0.0204081632653061 \\epsilon - 0.0204081632653061 \\sqrt{\\epsilon^{2} + 1}} e^{\\sqrt{\\epsilon^{2} + 1}}}{e^{2 \\sqrt{\\epsilon^{2} + 1}} - 1} + \\frac{e^{\\epsilon} e^{- 0.0204081632653061 \\epsilon + 0.0204081632653061 \\sqrt{\\epsilon^{2} + 1}} e^{\\sqrt{\\epsilon^{2} + 1}}}{e^{2 \\sqrt{\\epsilon^{2} + 1}} - 1}$"
      ],
      "text/plain": [
       "-exp(epsilon)*exp(-0.0204081632653061*epsilon - 0.0204081632653061*sqrt(epsilon**2 + 1))*exp(sqrt(epsilon**2 + 1))/(exp(2*sqrt(epsilon**2 + 1)) - 1) + exp(epsilon)*exp(-0.0204081632653061*epsilon + 0.0204081632653061*sqrt(epsilon**2 + 1))*exp(sqrt(epsilon**2 + 1))/(exp(2*sqrt(epsilon**2 + 1)) - 1)"
      ]
     },
     "execution_count": 45,
     "metadata": {},
     "output_type": "execute_result"
    }
   ],
   "source": [
    "y_analytical[1]"
   ]
  },
  {
   "cell_type": "code",
   "execution_count": 42,
   "id": "5c0a0441-8450-4ba1-9def-d213e189302d",
   "metadata": {},
   "outputs": [
    {
     "ename": "TypeError",
     "evalue": "Cannot convert expression to float",
     "output_type": "error",
     "traceback": [
      "\u001b[0;31m---------------------------------------------------------------------------\u001b[0m",
      "\u001b[0;31mTypeError\u001b[0m                                 Traceback (most recent call last)",
      "Cell \u001b[0;32mIn[42], line 1\u001b[0m\n\u001b[0;32m----> 1\u001b[0m \u001b[43mplt\u001b[49m\u001b[38;5;241;43m.\u001b[39;49m\u001b[43mplot\u001b[49m\u001b[43m(\u001b[49m\u001b[43mt\u001b[49m\u001b[43m,\u001b[49m\u001b[43my_pert\u001b[49m\u001b[43m,\u001b[49m\u001b[43mt\u001b[49m\u001b[43m,\u001b[49m\u001b[43my_analytical\u001b[49m\u001b[43m)\u001b[49m\n",
      "File \u001b[0;32m/opt/homebrew/lib/python3.12/site-packages/matplotlib/pyplot.py:3794\u001b[0m, in \u001b[0;36mplot\u001b[0;34m(scalex, scaley, data, *args, **kwargs)\u001b[0m\n\u001b[1;32m   3786\u001b[0m \u001b[38;5;129m@_copy_docstring_and_deprecators\u001b[39m(Axes\u001b[38;5;241m.\u001b[39mplot)\n\u001b[1;32m   3787\u001b[0m \u001b[38;5;28;01mdef\u001b[39;00m \u001b[38;5;21mplot\u001b[39m(\n\u001b[1;32m   3788\u001b[0m     \u001b[38;5;241m*\u001b[39margs: \u001b[38;5;28mfloat\u001b[39m \u001b[38;5;241m|\u001b[39m ArrayLike \u001b[38;5;241m|\u001b[39m \u001b[38;5;28mstr\u001b[39m,\n\u001b[0;32m   (...)\u001b[0m\n\u001b[1;32m   3792\u001b[0m     \u001b[38;5;241m*\u001b[39m\u001b[38;5;241m*\u001b[39mkwargs,\n\u001b[1;32m   3793\u001b[0m ) \u001b[38;5;241m-\u001b[39m\u001b[38;5;241m>\u001b[39m \u001b[38;5;28mlist\u001b[39m[Line2D]:\n\u001b[0;32m-> 3794\u001b[0m     \u001b[38;5;28;01mreturn\u001b[39;00m \u001b[43mgca\u001b[49m\u001b[43m(\u001b[49m\u001b[43m)\u001b[49m\u001b[38;5;241;43m.\u001b[39;49m\u001b[43mplot\u001b[49m\u001b[43m(\u001b[49m\n\u001b[1;32m   3795\u001b[0m \u001b[43m        \u001b[49m\u001b[38;5;241;43m*\u001b[39;49m\u001b[43margs\u001b[49m\u001b[43m,\u001b[49m\n\u001b[1;32m   3796\u001b[0m \u001b[43m        \u001b[49m\u001b[43mscalex\u001b[49m\u001b[38;5;241;43m=\u001b[39;49m\u001b[43mscalex\u001b[49m\u001b[43m,\u001b[49m\n\u001b[1;32m   3797\u001b[0m \u001b[43m        \u001b[49m\u001b[43mscaley\u001b[49m\u001b[38;5;241;43m=\u001b[39;49m\u001b[43mscaley\u001b[49m\u001b[43m,\u001b[49m\n\u001b[1;32m   3798\u001b[0m \u001b[43m        \u001b[49m\u001b[38;5;241;43m*\u001b[39;49m\u001b[38;5;241;43m*\u001b[39;49m\u001b[43m(\u001b[49m\u001b[43m{\u001b[49m\u001b[38;5;124;43m\"\u001b[39;49m\u001b[38;5;124;43mdata\u001b[39;49m\u001b[38;5;124;43m\"\u001b[39;49m\u001b[43m:\u001b[49m\u001b[43m \u001b[49m\u001b[43mdata\u001b[49m\u001b[43m}\u001b[49m\u001b[43m \u001b[49m\u001b[38;5;28;43;01mif\u001b[39;49;00m\u001b[43m \u001b[49m\u001b[43mdata\u001b[49m\u001b[43m \u001b[49m\u001b[38;5;129;43;01mis\u001b[39;49;00m\u001b[43m \u001b[49m\u001b[38;5;129;43;01mnot\u001b[39;49;00m\u001b[43m \u001b[49m\u001b[38;5;28;43;01mNone\u001b[39;49;00m\u001b[43m \u001b[49m\u001b[38;5;28;43;01melse\u001b[39;49;00m\u001b[43m \u001b[49m\u001b[43m{\u001b[49m\u001b[43m}\u001b[49m\u001b[43m)\u001b[49m\u001b[43m,\u001b[49m\n\u001b[1;32m   3799\u001b[0m \u001b[43m        \u001b[49m\u001b[38;5;241;43m*\u001b[39;49m\u001b[38;5;241;43m*\u001b[39;49m\u001b[43mkwargs\u001b[49m\u001b[43m,\u001b[49m\n\u001b[1;32m   3800\u001b[0m \u001b[43m    \u001b[49m\u001b[43m)\u001b[49m\n",
      "File \u001b[0;32m/opt/homebrew/lib/python3.12/site-packages/matplotlib/axes/_axes.py:1781\u001b[0m, in \u001b[0;36mAxes.plot\u001b[0;34m(self, scalex, scaley, data, *args, **kwargs)\u001b[0m\n\u001b[1;32m   1779\u001b[0m lines \u001b[38;5;241m=\u001b[39m [\u001b[38;5;241m*\u001b[39m\u001b[38;5;28mself\u001b[39m\u001b[38;5;241m.\u001b[39m_get_lines(\u001b[38;5;28mself\u001b[39m, \u001b[38;5;241m*\u001b[39margs, data\u001b[38;5;241m=\u001b[39mdata, \u001b[38;5;241m*\u001b[39m\u001b[38;5;241m*\u001b[39mkwargs)]\n\u001b[1;32m   1780\u001b[0m \u001b[38;5;28;01mfor\u001b[39;00m line \u001b[38;5;129;01min\u001b[39;00m lines:\n\u001b[0;32m-> 1781\u001b[0m     \u001b[38;5;28;43mself\u001b[39;49m\u001b[38;5;241;43m.\u001b[39;49m\u001b[43madd_line\u001b[49m\u001b[43m(\u001b[49m\u001b[43mline\u001b[49m\u001b[43m)\u001b[49m\n\u001b[1;32m   1782\u001b[0m \u001b[38;5;28;01mif\u001b[39;00m scalex:\n\u001b[1;32m   1783\u001b[0m     \u001b[38;5;28mself\u001b[39m\u001b[38;5;241m.\u001b[39m_request_autoscale_view(\u001b[38;5;124m\"\u001b[39m\u001b[38;5;124mx\u001b[39m\u001b[38;5;124m\"\u001b[39m)\n",
      "File \u001b[0;32m/opt/homebrew/lib/python3.12/site-packages/matplotlib/axes/_base.py:2339\u001b[0m, in \u001b[0;36m_AxesBase.add_line\u001b[0;34m(self, line)\u001b[0m\n\u001b[1;32m   2336\u001b[0m \u001b[38;5;28;01mif\u001b[39;00m line\u001b[38;5;241m.\u001b[39mget_clip_path() \u001b[38;5;129;01mis\u001b[39;00m \u001b[38;5;28;01mNone\u001b[39;00m:\n\u001b[1;32m   2337\u001b[0m     line\u001b[38;5;241m.\u001b[39mset_clip_path(\u001b[38;5;28mself\u001b[39m\u001b[38;5;241m.\u001b[39mpatch)\n\u001b[0;32m-> 2339\u001b[0m \u001b[38;5;28;43mself\u001b[39;49m\u001b[38;5;241;43m.\u001b[39;49m\u001b[43m_update_line_limits\u001b[49m\u001b[43m(\u001b[49m\u001b[43mline\u001b[49m\u001b[43m)\u001b[49m\n\u001b[1;32m   2340\u001b[0m \u001b[38;5;28;01mif\u001b[39;00m \u001b[38;5;129;01mnot\u001b[39;00m line\u001b[38;5;241m.\u001b[39mget_label():\n\u001b[1;32m   2341\u001b[0m     line\u001b[38;5;241m.\u001b[39mset_label(\u001b[38;5;124mf\u001b[39m\u001b[38;5;124m'\u001b[39m\u001b[38;5;124m_child\u001b[39m\u001b[38;5;132;01m{\u001b[39;00m\u001b[38;5;28mlen\u001b[39m(\u001b[38;5;28mself\u001b[39m\u001b[38;5;241m.\u001b[39m_children)\u001b[38;5;132;01m}\u001b[39;00m\u001b[38;5;124m'\u001b[39m)\n",
      "File \u001b[0;32m/opt/homebrew/lib/python3.12/site-packages/matplotlib/axes/_base.py:2362\u001b[0m, in \u001b[0;36m_AxesBase._update_line_limits\u001b[0;34m(self, line)\u001b[0m\n\u001b[1;32m   2358\u001b[0m \u001b[38;5;28;01mdef\u001b[39;00m \u001b[38;5;21m_update_line_limits\u001b[39m(\u001b[38;5;28mself\u001b[39m, line):\n\u001b[1;32m   2359\u001b[0m \u001b[38;5;250m    \u001b[39m\u001b[38;5;124;03m\"\"\"\u001b[39;00m\n\u001b[1;32m   2360\u001b[0m \u001b[38;5;124;03m    Figures out the data limit of the given line, updating self.dataLim.\u001b[39;00m\n\u001b[1;32m   2361\u001b[0m \u001b[38;5;124;03m    \"\"\"\u001b[39;00m\n\u001b[0;32m-> 2362\u001b[0m     path \u001b[38;5;241m=\u001b[39m \u001b[43mline\u001b[49m\u001b[38;5;241;43m.\u001b[39;49m\u001b[43mget_path\u001b[49m\u001b[43m(\u001b[49m\u001b[43m)\u001b[49m\n\u001b[1;32m   2363\u001b[0m     \u001b[38;5;28;01mif\u001b[39;00m path\u001b[38;5;241m.\u001b[39mvertices\u001b[38;5;241m.\u001b[39msize \u001b[38;5;241m==\u001b[39m \u001b[38;5;241m0\u001b[39m:\n\u001b[1;32m   2364\u001b[0m         \u001b[38;5;28;01mreturn\u001b[39;00m\n",
      "File \u001b[0;32m/opt/homebrew/lib/python3.12/site-packages/matplotlib/lines.py:1037\u001b[0m, in \u001b[0;36mLine2D.get_path\u001b[0;34m(self)\u001b[0m\n\u001b[1;32m   1035\u001b[0m \u001b[38;5;250m\u001b[39m\u001b[38;5;124;03m\"\"\"Return the `~matplotlib.path.Path` associated with this line.\"\"\"\u001b[39;00m\n\u001b[1;32m   1036\u001b[0m \u001b[38;5;28;01mif\u001b[39;00m \u001b[38;5;28mself\u001b[39m\u001b[38;5;241m.\u001b[39m_invalidy \u001b[38;5;129;01mor\u001b[39;00m \u001b[38;5;28mself\u001b[39m\u001b[38;5;241m.\u001b[39m_invalidx:\n\u001b[0;32m-> 1037\u001b[0m     \u001b[38;5;28;43mself\u001b[39;49m\u001b[38;5;241;43m.\u001b[39;49m\u001b[43mrecache\u001b[49m\u001b[43m(\u001b[49m\u001b[43m)\u001b[49m\n\u001b[1;32m   1038\u001b[0m \u001b[38;5;28;01mreturn\u001b[39;00m \u001b[38;5;28mself\u001b[39m\u001b[38;5;241m.\u001b[39m_path\n",
      "File \u001b[0;32m/opt/homebrew/lib/python3.12/site-packages/matplotlib/lines.py:679\u001b[0m, in \u001b[0;36mLine2D.recache\u001b[0;34m(self, always)\u001b[0m\n\u001b[1;32m    677\u001b[0m \u001b[38;5;28;01mif\u001b[39;00m always \u001b[38;5;129;01mor\u001b[39;00m \u001b[38;5;28mself\u001b[39m\u001b[38;5;241m.\u001b[39m_invalidy:\n\u001b[1;32m    678\u001b[0m     yconv \u001b[38;5;241m=\u001b[39m \u001b[38;5;28mself\u001b[39m\u001b[38;5;241m.\u001b[39mconvert_yunits(\u001b[38;5;28mself\u001b[39m\u001b[38;5;241m.\u001b[39m_yorig)\n\u001b[0;32m--> 679\u001b[0m     y \u001b[38;5;241m=\u001b[39m \u001b[43m_to_unmasked_float_array\u001b[49m\u001b[43m(\u001b[49m\u001b[43myconv\u001b[49m\u001b[43m)\u001b[49m\u001b[38;5;241m.\u001b[39mravel()\n\u001b[1;32m    680\u001b[0m \u001b[38;5;28;01melse\u001b[39;00m:\n\u001b[1;32m    681\u001b[0m     y \u001b[38;5;241m=\u001b[39m \u001b[38;5;28mself\u001b[39m\u001b[38;5;241m.\u001b[39m_y\n",
      "File \u001b[0;32m/opt/homebrew/lib/python3.12/site-packages/matplotlib/cbook.py:1398\u001b[0m, in \u001b[0;36m_to_unmasked_float_array\u001b[0;34m(x)\u001b[0m\n\u001b[1;32m   1396\u001b[0m     \u001b[38;5;28;01mreturn\u001b[39;00m np\u001b[38;5;241m.\u001b[39mma\u001b[38;5;241m.\u001b[39masarray(x, \u001b[38;5;28mfloat\u001b[39m)\u001b[38;5;241m.\u001b[39mfilled(np\u001b[38;5;241m.\u001b[39mnan)\n\u001b[1;32m   1397\u001b[0m \u001b[38;5;28;01melse\u001b[39;00m:\n\u001b[0;32m-> 1398\u001b[0m     \u001b[38;5;28;01mreturn\u001b[39;00m \u001b[43mnp\u001b[49m\u001b[38;5;241;43m.\u001b[39;49m\u001b[43masarray\u001b[49m\u001b[43m(\u001b[49m\u001b[43mx\u001b[49m\u001b[43m,\u001b[49m\u001b[43m \u001b[49m\u001b[38;5;28;43mfloat\u001b[39;49m\u001b[43m)\u001b[49m\n",
      "File \u001b[0;32m/opt/homebrew/lib/python3.12/site-packages/sympy/core/expr.py:340\u001b[0m, in \u001b[0;36mExpr.__float__\u001b[0;34m(self)\u001b[0m\n\u001b[1;32m    338\u001b[0m \u001b[38;5;28;01mif\u001b[39;00m result\u001b[38;5;241m.\u001b[39mis_number \u001b[38;5;129;01mand\u001b[39;00m result\u001b[38;5;241m.\u001b[39mas_real_imag()[\u001b[38;5;241m1\u001b[39m]:\n\u001b[1;32m    339\u001b[0m     \u001b[38;5;28;01mraise\u001b[39;00m \u001b[38;5;167;01mTypeError\u001b[39;00m(\u001b[38;5;124m\"\u001b[39m\u001b[38;5;124mCannot convert complex to float\u001b[39m\u001b[38;5;124m\"\u001b[39m)\n\u001b[0;32m--> 340\u001b[0m \u001b[38;5;28;01mraise\u001b[39;00m \u001b[38;5;167;01mTypeError\u001b[39;00m(\u001b[38;5;124m\"\u001b[39m\u001b[38;5;124mCannot convert expression to float\u001b[39m\u001b[38;5;124m\"\u001b[39m)\n",
      "\u001b[0;31mTypeError\u001b[0m: Cannot convert expression to float"
     ]
    },
    {
     "data": {
      "image/png": "[encoded data removed]",
      "text/plain": [
       "<Figure size 640x480 with 1 Axes>"
      ]
     },
     "metadata": {},
     "output_type": "display_data"
    }
   ],
   "source": [
    "plt.plot(t,y_pert,t,y_analytical)"
   ]
  },
  {
   "cell_type": "code",
   "execution_count": null,
   "id": "d636bebf-ff4c-4087-9fcd-f6007d9efe02",
   "metadata": {},
   "outputs": [],
   "source": []
  }
 ],
 "metadata": {
  "kernelspec": {
   "display_name": "Python 3 (ipykernel)",
   "language": "python",
   "name": "python3"
  },
  "language_info": {
   "codemirror_mode": {
    "name": "ipython",
    "version": 3
   },
   "file_extension": ".py",
   "mimetype": "text/x-python",
   "name": "python",
   "nbconvert_exporter": "python",
   "pygments_lexer": "ipython3",
   "version": "3.12.5"
  }
 },
 "nbformat": 4,
 "nbformat_minor": 5
}

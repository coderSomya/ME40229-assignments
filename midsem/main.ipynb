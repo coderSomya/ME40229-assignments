{
 "cells": [
  {
   "cell_type": "markdown",
   "id": "209467f9-1f0a-4367-b4ae-5824b8a3334c",
   "metadata": {},
   "source": [
    "## q1"
   ]
  },
  {
   "cell_type": "code",
   "execution_count": 2,
   "id": "ddb4b8d2-80e5-410c-bfa9-7be29f33b10a",
   "metadata": {},
   "outputs": [
    {
     "name": "stdout",
     "output_type": "stream",
     "text": [
      "[[ 0  1  2  3]\n",
      " [ 4  5  6  7]\n",
      " [ 8  9 10 11]]\n"
     ]
    }
   ],
   "source": [
    "## a\n",
    "\n",
    "import numpy as np\n",
    "arr = np.arange(12)\n",
    "reshaped_arr = arr.reshape((3,4))\n",
    "print(reshaped_arr)"
   ]
  },
  {
   "cell_type": "code",
   "execution_count": 3,
   "id": "4a39ec5b-96af-4125-a4cd-50eb6c98dcaa",
   "metadata": {},
   "outputs": [
    {
     "name": "stdout",
     "output_type": "stream",
     "text": [
      "[ 6  8 10 12]\n"
     ]
    }
   ],
   "source": [
    "## b\n",
    "array = np.array([[1,2,3,4], [5,6,7,8], [9,10,11,12]])\n",
    "mask = (array>5) & (array%2 ==0)\n",
    "filtered_array = array[mask]\n",
    "print(filtered_array)"
   ]
  },
  {
   "cell_type": "code",
   "execution_count": 7,
   "id": "2a615661-2134-479e-b413-4c8aaa357956",
   "metadata": {},
   "outputs": [
    {
     "name": "stdout",
     "output_type": "stream",
     "text": [
      "Diagonal matrix:\n",
      " [[ 1  0  0]\n",
      " [ 0  6  0]\n",
      " [ 0  0 11]]\n"
     ]
    }
   ],
   "source": [
    "##c\n",
    "\n",
    "matrix = np.array([[1,2,3,4], [5,6,7,8], [9,10,11,12]])\n",
    "diagonal_matrix = np.diag(np.diag(matrix))\n",
    "print(\"Diagonal matrix:\\n\", diagonal_matrix)"
   ]
  },
  {
   "cell_type": "code",
   "execution_count": null,
   "id": "8227c6b0-0f7a-443c-9047-1801aacde5b9",
   "metadata": {},
   "outputs": [],
   "source": [
    "##d\n",
    "\n",
    "matrix = np.array([[1,2,3,4], [5,6,7,8], [9,10,11,12], [13,14,15,16]])\n",
    "rows = np.array([0,1,2])\n",
    "cols = np.array([2,1,0])\n",
    "selected_elements = matrix[rows,cols]\n",
    "print(\"selected elements\", selected_elements)"
   ]
  },
  {
   "cell_type": "code",
   "execution_count": 10,
   "id": "710d957e-af3a-483e-969d-45276b134e75",
   "metadata": {},
   "outputs": [
    {
     "name": "stdout",
     "output_type": "stream",
     "text": [
      "submatrix:\n",
      " [[11 12]\n",
      " [15 16]]\n",
      "submatrix sum:\n",
      " 54\n",
      "submatrix mean:\n",
      " 13.5\n"
     ]
    }
   ],
   "source": [
    "##e\n",
    "\n",
    "import numpy as np\n",
    "matrix = np.array([[1,2,3,4], [5,6,7,8], [9,10,11,12], [13,14,15,16]])\n",
    "submatrix = matrix[-2:,-2:]\n",
    "submatrix_sum = np.sum(submatrix)\n",
    "submatrix_mean = np.mean(submatrix)\n",
    "print(\"submatrix:\\n\", submatrix)\n",
    "print(\"submatrix sum:\\n\", submatrix_sum)\n",
    "print(\"submatrix mean:\\n\", submatrix_mean)"
   ]
  },
  {
   "cell_type": "markdown",
   "id": "3f44406a-4b60-4e7e-8b50-81a036cd993a",
   "metadata": {},
   "source": [
    "## q2 a)"
   ]
  },
  {
   "cell_type": "code",
   "execution_count": 28,
   "id": "a17c6286-3858-4652-b551-646cfec49602",
   "metadata": {},
   "outputs": [],
   "source": [
    "def conjugate_gradient(A, b, x0=None, tol=1e-10, max_iter = None):\n",
    "\n",
    "    n = len(b)\n",
    "    if(x0 is None):\n",
    "        x0 = np.zeros(n)\n",
    "    if(max_iter is None):\n",
    "        max_iter = n\n",
    "\n",
    "    x = x0\n",
    "    r = b - np.dot(A,x) # initial residual\n",
    "    p = r.copy()\n",
    "    rs_old = np.dot(r,r)\n",
    "\n",
    "    for i in range(max_iter):\n",
    "        alpha_k = np.dot(np.matrix.transpose(r), r)/ np.dot(np.dot(np.matrix.transpose(p),A), p)\n",
    "        x_new = x - alpha_k * np.matmul(A, p)\n",
    "        r_new = r - alpha_k*np.dot(A, p)\n",
    "        res = np.linalg.norm(r_new)\n",
    "\n",
    "        if(res <= tol):\n",
    "            print(\"solution converged...!\")\n",
    "            return x\n",
    "            \n",
    "        beta = np.linalg.norm(r_new)/np.linalg.norm(r)\n",
    "        p_new = r_new + beta*p\n",
    "\n",
    "        r = r_new\n",
    "        p = p_new\n",
    "        x = x_new\n",
    "\n",
    "    print(\"solution did not converge...!\")\n",
    "    return None"
   ]
  },
  {
   "cell_type": "code",
   "execution_count": 27,
   "id": "adaf92a1-7e99-47e9-84b8-cf5c61e5d9bc",
   "metadata": {},
   "outputs": [
    {
     "name": "stdout",
     "output_type": "stream",
     "text": [
      "solution did not converge...!\n"
     ]
    }
   ],
   "source": [
    "A = [[4,1,1], [1,3,-1], [1,-1,2]]\n",
    "b = [1,2,0]\n",
    "\n",
    "sol = conjugate_gradient(A,b)"
   ]
  },
  {
   "cell_type": "markdown",
   "id": "7e0173e6-5b42-4221-b95e-7ca496b5c114",
   "metadata": {},
   "source": [
    "## q2 b)"
   ]
  },
  {
   "cell_type": "code",
   "execution_count": 35,
   "id": "258beb1d-b81b-4fcb-af3c-b6707455c7cb",
   "metadata": {},
   "outputs": [],
   "source": [
    "def lu_decomposition(A, b):\n",
    "\n",
    "    n = len(b)\n",
    "    L = np.eye(n)\n",
    "    U = np.zeros((n,n))\n",
    "\n",
    "    for k in np.arange(0,n):\n",
    "        for i in np.arange(k,n):\n",
    "            U[k][i] = A[k][i]\n",
    "\n",
    "            for j in range(k):\n",
    "                U[k][i]-= L[k][j]*U[j][i]\n",
    "        for i in np.arange(k+1,n):\n",
    "            L[i][k] = A[i][k]\n",
    "\n",
    "            for j in range(k):\n",
    "                L[i][k]-= L[i][j]*U[j][k]\n",
    "\n",
    "            L[i][k] = L[i][k]/U[k][k]\n",
    "        L[k][k]=1\n",
    "\n",
    "    y = np.zeros(n)\n",
    "    x = np.zeros(n)\n",
    "\n",
    "    for i in range(n):\n",
    "        y[i] = b[i]\n",
    "\n",
    "        for j in range(i):\n",
    "            y[i] -= L[i][j]*y[j]\n",
    "\n",
    "    for i in range(n):\n",
    "        x[i] = y[i]\n",
    "\n",
    "        for j in np.arange(i+1,n):\n",
    "            x[i] -= U[i,j]*x[j]\n",
    "\n",
    "        x[i]/= U[i][i]\n",
    "\n",
    "    return x"
   ]
  },
  {
   "cell_type": "code",
   "execution_count": 36,
   "id": "6d4404f6-e6d3-44d7-835a-691bac3f0e99",
   "metadata": {},
   "outputs": [
    {
     "data": {
      "text/plain": [
       "array([ 1.        , 12.        ,  1.85714286])"
      ]
     },
     "execution_count": 36,
     "metadata": {},
     "output_type": "execute_result"
    }
   ],
   "source": [
    "A = [[2,-1,1], [-3,3,9],[3,3,5]]\n",
    "b = [2,15,5]\n",
    "\n",
    "sol = lu_decomposition(A,b)\n",
    "sol"
   ]
  },
  {
   "cell_type": "markdown",
   "id": "807671a6",
   "metadata": {},
   "source": [
    "## q3"
   ]
  },
  {
   "cell_type": "code",
   "execution_count": null,
   "id": "106ba3d3",
   "metadata": {},
   "outputs": [],
   "source": [
    "import cv2\n",
    "import numpy as np\n",
    "import matplotlib.pyplot as plt\n",
    "\n",
    "image_path = '/MID_SEM/mixing.jpg'\n",
    "image = cv2.imread(image_path)\n",
    "\n",
    "if len(image.shape) == 3:\n",
    "    grayscale_image = cv2.cvtColor(image, cv2.COLOR_BGR2GRAY)\n",
    "else:\n",
    "    grayscale_image = image"
   ]
  },
  {
   "cell_type": "code",
   "execution_count": null,
   "id": "f5c158bf",
   "metadata": {},
   "outputs": [],
   "source": [
    "channel_width_px = grayscale_image.shape[1]  \n",
    "pixel_to_micron = 500.0 / channel_width_px  \n",
    "\n",
    "# Assuming white is the highest concentration (c=1) and black is the lowest (c=0)\n",
    "normalized_image = grayscale_image / 255.0\n",
    "\n",
    "\n",
    "mid_section_x = int(250 / pixel_to_micron) \n",
    "outlet_x = int(500 / pixel_to_micron)      \n",
    "\n",
    "mid_section_column = normalized_image[:, mid_section_x]\n",
    "outlet_column = normalized_image[:, outlet_x]\n",
    "\n",
    "c_star = 0.5  # Homogeneous concentration\n",
    "\n",
    "def calculate_mixing_index(column, c_star):\n",
    "    N = len(column)  # Number of pixels along the section\n",
    "    numerator = np.sum((column - c_star) ** 2)\n",
    "    denominator = np.sum(c_star ** 2)\n",
    "    mixing_index = 1 - np.sqrt(numerator / denominator)\n",
    "    return mixing_index\n",
    "\n",
    "\n",
    "mixing_index_mid = calculate_mixing_index(mid_section_column, c_star)\n",
    "mixing_index_outlet = calculate_mixing_index(outlet_column, c_star)\n",
    "\n",
    "\n",
    "print(f\"Mixing Index (η) at Mid-Section (x = 250 µm): {mixing_index_mid:.4f}\")\n",
    "print(f\"Mixing Index (η) at Outlet (x = 500 µm): {mixing_index_outlet:.4f}\")\n",
    "\n",
    "\n",
    "plt.figure(figsize=(10, 5))\n",
    "\n",
    "plt.subplot(1, 2, 1)\n",
    "plt.imshow(normalized_image, cmap='gray')\n",
    "plt.axvline(x=mid_section_x, color='red', linestyle='--', label='Mid-section')\n",
    "plt.axvline(x=outlet_x, color='blue', linestyle='--', label='Outlet')\n",
    "plt.title('Microchannel with Sections Highlighted')\n",
    "plt.legend()\n",
    "\n",
    "plt.subplot(1, 2, 2)\n",
    "plt.plot(mid_section_column, label='Mid-section Concentration')\n",
    "plt.plot(outlet_column, label='Outlet Concentration')\n",
    "plt.title('Concentration Along Sections')\n",
    "plt.legend()\n",
    "\n",
    "plt.show()"
   ]
  },
  {
   "cell_type": "code",
   "execution_count": null,
   "id": "2c2c9f03",
   "metadata": {},
   "outputs": [],
   "source": []
  },
  {
   "cell_type": "code",
   "execution_count": null,
   "id": "122743da",
   "metadata": {},
   "outputs": [],
   "source": []
  },
  {
   "cell_type": "code",
   "execution_count": null,
   "id": "b8c4278d",
   "metadata": {},
   "outputs": [],
   "source": []
  },
  {
   "cell_type": "markdown",
   "id": "41f1f222-45f8-4f4d-98a0-455532635fee",
   "metadata": {},
   "source": [
    "## q4"
   ]
  },
  {
   "cell_type": "code",
   "execution_count": null,
   "id": "1b1ec2e6",
   "metadata": {},
   "outputs": [],
   "source": [
    "def pixel_to_area(pixel_area):\n",
    "    return pixel_area*0.14*0.14\n",
    "\n",
    "def area_to_vol(area, A=1.0):\n",
    "    return area*A"
   ]
  },
  {
   "cell_type": "code",
   "execution_count": 18,
   "id": "c34510ad",
   "metadata": {},
   "outputs": [
    {
     "name": "stdout",
     "output_type": "stream",
     "text": [
      "OpenCV bindings requires \"numpy\" package.\n",
      "Install it via command:\n",
      "    pip install numpy\n"
     ]
    },
    {
     "ename": "ImportError",
     "evalue": "Error importing numpy: you should not try to import numpy from\n        its source directory; please exit the numpy source tree, and relaunch\n        your python interpreter from there.",
     "output_type": "error",
     "traceback": [
      "\u001b[1;31m---------------------------------------------------------------------------\u001b[0m",
      "\u001b[1;31mModuleNotFoundError\u001b[0m                       Traceback (most recent call last)",
      "File \u001b[1;32m~\\AppData\\Local\\Packages\\PythonSoftwareFoundation.Python.3.10_qbz5n2kfra8p0\\LocalCache\\local-packages\\Python312\\site-packages\\numpy\\_core\\__init__.py:23\u001b[0m, in \u001b[0;36m<module>\u001b[1;34m\u001b[0m\n\u001b[0;32m     22\u001b[0m \u001b[38;5;28;01mtry\u001b[39;00m:\n\u001b[1;32m---> 23\u001b[0m     \u001b[38;5;28;01mfrom\u001b[39;00m \u001b[38;5;21;01m.\u001b[39;00m \u001b[38;5;28;01mimport\u001b[39;00m multiarray\n\u001b[0;32m     24\u001b[0m \u001b[38;5;28;01mexcept\u001b[39;00m \u001b[38;5;167;01mImportError\u001b[39;00m \u001b[38;5;28;01mas\u001b[39;00m exc:\n",
      "File \u001b[1;32m~\\AppData\\Local\\Packages\\PythonSoftwareFoundation.Python.3.10_qbz5n2kfra8p0\\LocalCache\\local-packages\\Python312\\site-packages\\numpy\\_core\\multiarray.py:10\u001b[0m, in \u001b[0;36m<module>\u001b[1;34m\u001b[0m\n\u001b[0;32m      9\u001b[0m \u001b[38;5;28;01mimport\u001b[39;00m \u001b[38;5;21;01mfunctools\u001b[39;00m\n\u001b[1;32m---> 10\u001b[0m \u001b[38;5;28;01mfrom\u001b[39;00m \u001b[38;5;21;01m.\u001b[39;00m \u001b[38;5;28;01mimport\u001b[39;00m overrides\n\u001b[0;32m     11\u001b[0m \u001b[38;5;28;01mfrom\u001b[39;00m \u001b[38;5;21;01m.\u001b[39;00m \u001b[38;5;28;01mimport\u001b[39;00m _multiarray_umath\n",
      "File \u001b[1;32m~\\AppData\\Local\\Packages\\PythonSoftwareFoundation.Python.3.10_qbz5n2kfra8p0\\LocalCache\\local-packages\\Python312\\site-packages\\numpy\\_core\\overrides.py:8\u001b[0m, in \u001b[0;36m<module>\u001b[1;34m\u001b[0m\n\u001b[0;32m      7\u001b[0m \u001b[38;5;28;01mfrom\u001b[39;00m \u001b[38;5;21;01m.\u001b[39;00m\u001b[38;5;21;01m.\u001b[39;00m\u001b[38;5;21;01m_utils\u001b[39;00m\u001b[38;5;21;01m.\u001b[39;00m\u001b[38;5;21;01m_inspect\u001b[39;00m \u001b[38;5;28;01mimport\u001b[39;00m getargspec\n\u001b[1;32m----> 8\u001b[0m \u001b[38;5;28;01mfrom\u001b[39;00m \u001b[38;5;21;01mnumpy\u001b[39;00m\u001b[38;5;21;01m.\u001b[39;00m\u001b[38;5;21;01m_core\u001b[39;00m\u001b[38;5;21;01m.\u001b[39;00m\u001b[38;5;21;01m_multiarray_umath\u001b[39;00m \u001b[38;5;28;01mimport\u001b[39;00m (\n\u001b[0;32m      9\u001b[0m     add_docstring,  _get_implementing_args, _ArrayFunctionDispatcher)\n\u001b[0;32m     12\u001b[0m ARRAY_FUNCTIONS \u001b[38;5;241m=\u001b[39m \u001b[38;5;28mset\u001b[39m()\n",
      "\u001b[1;31mModuleNotFoundError\u001b[0m: No module named 'numpy._core._multiarray_umath'",
      "\nDuring handling of the above exception, another exception occurred:\n",
      "\u001b[1;31mImportError\u001b[0m                               Traceback (most recent call last)",
      "File \u001b[1;32m~\\AppData\\Local\\Packages\\PythonSoftwareFoundation.Python.3.10_qbz5n2kfra8p0\\LocalCache\\local-packages\\Python312\\site-packages\\numpy\\__init__.py:128\u001b[0m, in \u001b[0;36m<module>\u001b[1;34m\u001b[0m\n\u001b[0;32m    127\u001b[0m \u001b[38;5;28;01mtry\u001b[39;00m:\n\u001b[1;32m--> 128\u001b[0m     \u001b[38;5;28;01mfrom\u001b[39;00m \u001b[38;5;21;01mnumpy\u001b[39;00m\u001b[38;5;21;01m.\u001b[39;00m\u001b[38;5;21;01m__config__\u001b[39;00m \u001b[38;5;28;01mimport\u001b[39;00m show \u001b[38;5;28;01mas\u001b[39;00m show_config\n\u001b[0;32m    129\u001b[0m \u001b[38;5;28;01mexcept\u001b[39;00m \u001b[38;5;167;01mImportError\u001b[39;00m \u001b[38;5;28;01mas\u001b[39;00m e:\n",
      "File \u001b[1;32m~\\AppData\\Local\\Packages\\PythonSoftwareFoundation.Python.3.10_qbz5n2kfra8p0\\LocalCache\\local-packages\\Python312\\site-packages\\numpy\\__config__.py:4\u001b[0m, in \u001b[0;36m<module>\u001b[1;34m\u001b[0m\n\u001b[0;32m      3\u001b[0m \u001b[38;5;28;01mfrom\u001b[39;00m \u001b[38;5;21;01menum\u001b[39;00m \u001b[38;5;28;01mimport\u001b[39;00m Enum\n\u001b[1;32m----> 4\u001b[0m \u001b[38;5;28;01mfrom\u001b[39;00m \u001b[38;5;21;01mnumpy\u001b[39;00m\u001b[38;5;21;01m.\u001b[39;00m\u001b[38;5;21;01m_core\u001b[39;00m\u001b[38;5;21;01m.\u001b[39;00m\u001b[38;5;21;01m_multiarray_umath\u001b[39;00m \u001b[38;5;28;01mimport\u001b[39;00m (\n\u001b[0;32m      5\u001b[0m     __cpu_features__,\n\u001b[0;32m      6\u001b[0m     __cpu_baseline__,\n\u001b[0;32m      7\u001b[0m     __cpu_dispatch__,\n\u001b[0;32m      8\u001b[0m )\n\u001b[0;32m     10\u001b[0m __all__ \u001b[38;5;241m=\u001b[39m [\u001b[38;5;124m\"\u001b[39m\u001b[38;5;124mshow\u001b[39m\u001b[38;5;124m\"\u001b[39m]\n",
      "File \u001b[1;32m~\\AppData\\Local\\Packages\\PythonSoftwareFoundation.Python.3.10_qbz5n2kfra8p0\\LocalCache\\local-packages\\Python312\\site-packages\\numpy\\_core\\__init__.py:49\u001b[0m, in \u001b[0;36m<module>\u001b[1;34m\u001b[0m\n\u001b[0;32m     26\u001b[0m     msg \u001b[38;5;241m=\u001b[39m \u001b[38;5;124m\"\"\"\u001b[39m\n\u001b[0;32m     27\u001b[0m \n\u001b[0;32m     28\u001b[0m \u001b[38;5;124mIMPORTANT: PLEASE READ THIS FOR ADVICE ON HOW TO SOLVE THIS ISSUE!\u001b[39m\n\u001b[1;32m   (...)\u001b[0m\n\u001b[0;32m     47\u001b[0m \u001b[38;5;124m\"\"\"\u001b[39m \u001b[38;5;241m%\u001b[39m (sys\u001b[38;5;241m.\u001b[39mversion_info[\u001b[38;5;241m0\u001b[39m], sys\u001b[38;5;241m.\u001b[39mversion_info[\u001b[38;5;241m1\u001b[39m], sys\u001b[38;5;241m.\u001b[39mexecutable,\n\u001b[0;32m     48\u001b[0m         __version__, exc)\n\u001b[1;32m---> 49\u001b[0m     \u001b[38;5;28;01mraise\u001b[39;00m \u001b[38;5;167;01mImportError\u001b[39;00m(msg)\n\u001b[0;32m     50\u001b[0m \u001b[38;5;28;01mfinally\u001b[39;00m:\n",
      "\u001b[1;31mImportError\u001b[0m: \n\nIMPORTANT: PLEASE READ THIS FOR ADVICE ON HOW TO SOLVE THIS ISSUE!\n\nImporting the numpy C-extensions failed. This error can happen for\nmany reasons, often due to issues with your setup or how NumPy was\ninstalled.\n\nWe have compiled some common reasons and troubleshooting tips at:\n\n    https://numpy.org/devdocs/user/troubleshooting-importerror.html\n\nPlease note and check the following:\n\n  * The Python version is: Python3.10 from \"C:\\Users\\Somya\\AppData\\Local\\Microsoft\\WindowsApps\\PythonSoftwareFoundation.Python.3.10_qbz5n2kfra8p0\\python.exe\"\n  * The NumPy version is: \"2.1.1\"\n\nand make sure that they are the versions you expect.\nPlease carefully study the documentation linked above for further help.\n\nOriginal error was: No module named 'numpy._core._multiarray_umath'\n",
      "\nThe above exception was the direct cause of the following exception:\n",
      "\u001b[1;31mImportError\u001b[0m                               Traceback (most recent call last)",
      "Input \u001b[1;32mIn [18]\u001b[0m, in \u001b[0;36m<cell line: 1>\u001b[1;34m()\u001b[0m\n\u001b[1;32m----> 1\u001b[0m \u001b[38;5;28;01mimport\u001b[39;00m \u001b[38;5;21;01mcv2\u001b[39;00m\n\u001b[0;32m      2\u001b[0m \u001b[38;5;28;01mimport\u001b[39;00m \u001b[38;5;21;01mnumpy\u001b[39;00m \u001b[38;5;28;01mas\u001b[39;00m \u001b[38;5;21;01mnp\u001b[39;00m\n\u001b[0;32m      3\u001b[0m \u001b[38;5;28;01mimport\u001b[39;00m \u001b[38;5;21;01mmatplotlib\u001b[39;00m\u001b[38;5;21;01m.\u001b[39;00m\u001b[38;5;21;01mpyplot\u001b[39;00m \u001b[38;5;28;01mas\u001b[39;00m \u001b[38;5;21;01mplt\u001b[39;00m\n",
      "File \u001b[1;32m~\\AppData\\Local\\Packages\\PythonSoftwareFoundation.Python.3.10_qbz5n2kfra8p0\\LocalCache\\local-packages\\Python310\\site-packages\\cv2\\__init__.py:11\u001b[0m, in \u001b[0;36m<module>\u001b[1;34m\u001b[0m\n\u001b[0;32m      8\u001b[0m __all__ \u001b[38;5;241m=\u001b[39m []\n\u001b[0;32m     10\u001b[0m \u001b[38;5;28;01mtry\u001b[39;00m:\n\u001b[1;32m---> 11\u001b[0m     \u001b[38;5;28;01mimport\u001b[39;00m \u001b[38;5;21;01mnumpy\u001b[39;00m\n\u001b[0;32m     12\u001b[0m     \u001b[38;5;28;01mimport\u001b[39;00m \u001b[38;5;21;01mnumpy\u001b[39;00m\u001b[38;5;21;01m.\u001b[39;00m\u001b[38;5;21;01mcore\u001b[39;00m\u001b[38;5;21;01m.\u001b[39;00m\u001b[38;5;21;01mmultiarray\u001b[39;00m\n\u001b[0;32m     13\u001b[0m \u001b[38;5;28;01mexcept\u001b[39;00m \u001b[38;5;167;01mImportError\u001b[39;00m:\n",
      "File \u001b[1;32m~\\AppData\\Local\\Packages\\PythonSoftwareFoundation.Python.3.10_qbz5n2kfra8p0\\LocalCache\\local-packages\\Python312\\site-packages\\numpy\\__init__.py:133\u001b[0m, in \u001b[0;36m<module>\u001b[1;34m\u001b[0m\n\u001b[0;32m    129\u001b[0m \u001b[38;5;28;01mexcept\u001b[39;00m \u001b[38;5;167;01mImportError\u001b[39;00m \u001b[38;5;28;01mas\u001b[39;00m e:\n\u001b[0;32m    130\u001b[0m     msg \u001b[38;5;241m=\u001b[39m \u001b[38;5;124m\"\"\"\u001b[39m\u001b[38;5;124mError importing numpy: you should not try to import numpy from\u001b[39m\n\u001b[0;32m    131\u001b[0m \u001b[38;5;124m    its source directory; please exit the numpy source tree, and relaunch\u001b[39m\n\u001b[0;32m    132\u001b[0m \u001b[38;5;124m    your python interpreter from there.\u001b[39m\u001b[38;5;124m\"\"\"\u001b[39m\n\u001b[1;32m--> 133\u001b[0m     \u001b[38;5;28;01mraise\u001b[39;00m \u001b[38;5;167;01mImportError\u001b[39;00m(msg) \u001b[38;5;28;01mfrom\u001b[39;00m \u001b[38;5;21;01me\u001b[39;00m\n\u001b[0;32m    135\u001b[0m \u001b[38;5;28;01mfrom\u001b[39;00m \u001b[38;5;21;01m.\u001b[39;00m \u001b[38;5;28;01mimport\u001b[39;00m _core\n\u001b[0;32m    136\u001b[0m \u001b[38;5;28;01mfrom\u001b[39;00m \u001b[38;5;21;01m.\u001b[39;00m\u001b[38;5;21;01m_core\u001b[39;00m \u001b[38;5;28;01mimport\u001b[39;00m (\n\u001b[0;32m    137\u001b[0m     False_, ScalarType, True_, _get_promotion_state, _no_nep50_warning,\n\u001b[0;32m    138\u001b[0m     _set_promotion_state, \u001b[38;5;28mabs\u001b[39m, absolute, acos, acosh, add, \u001b[38;5;28mall\u001b[39m, allclose,\n\u001b[1;32m   (...)\u001b[0m\n\u001b[0;32m    183\u001b[0m     vstack, where, zeros, zeros_like\n\u001b[0;32m    184\u001b[0m )\n",
      "\u001b[1;31mImportError\u001b[0m: Error importing numpy: you should not try to import numpy from\n        its source directory; please exit the numpy source tree, and relaunch\n        your python interpreter from there."
     ]
    }
   ],
   "source": [
    "import cv2\n",
    "import numpy as np\n",
    "import matplotlib.pyplot as plt\n",
    "\n",
    "image_path = '/MID_SEM/angiogram.jpg'\n",
    "image = cv2.imread(image_path)\n",
    "\n",
    "if len(image.shape) == 3:\n",
    "    grayscale_image = cv2.cvtColor(image, cv2.COLOR_BGR2GRAY)\n",
    "else:\n",
    "    grayscale_image = image"
   ]
  },
  {
   "cell_type": "code",
   "execution_count": 19,
   "id": "d58e2cbb",
   "metadata": {},
   "outputs": [
    {
     "ename": "NameError",
     "evalue": "name 'cv2' is not defined",
     "output_type": "error",
     "traceback": [
      "\u001b[1;31m---------------------------------------------------------------------------\u001b[0m",
      "\u001b[1;31mNameError\u001b[0m                                 Traceback (most recent call last)",
      "Input \u001b[1;32mIn [19]\u001b[0m, in \u001b[0;36m<cell line: 1>\u001b[1;34m()\u001b[0m\n\u001b[1;32m----> 1\u001b[0m blurred_image \u001b[38;5;241m=\u001b[39m \u001b[43mcv2\u001b[49m\u001b[38;5;241m.\u001b[39mGaussianBlur(grayscale_image, (\u001b[38;5;241m5\u001b[39m, \u001b[38;5;241m5\u001b[39m), \u001b[38;5;241m0\u001b[39m)\n\u001b[0;32m      3\u001b[0m _, thresholded_image \u001b[38;5;241m=\u001b[39m cv2\u001b[38;5;241m.\u001b[39mthreshold(blurred_image, \u001b[38;5;241m120\u001b[39m, \u001b[38;5;241m255\u001b[39m, cv2\u001b[38;5;241m.\u001b[39mTHRESH_BINARY_INV)\n\u001b[0;32m      5\u001b[0m kernel \u001b[38;5;241m=\u001b[39m np\u001b[38;5;241m.\u001b[39mones((\u001b[38;5;241m3\u001b[39m, \u001b[38;5;241m3\u001b[39m), np\u001b[38;5;241m.\u001b[39muint8)\n",
      "\u001b[1;31mNameError\u001b[0m: name 'cv2' is not defined"
     ]
    }
   ],
   "source": [
    "blurred_image = cv2.GaussianBlur(grayscale_image, (5, 5), 0)\n",
    "\n",
    "_, thresholded_image = cv2.threshold(blurred_image, 120, 255, cv2.THRESH_BINARY_INV)\n",
    "\n",
    "kernel = np.ones((3, 3), np.uint8)\n",
    "cleaned_image = cv2.morphologyEx(thresholded_image, cv2.MORPH_CLOSE, kernel)\n",
    "\n",
    "contours, _ = cv2.findContours(cleaned_image, cv2.RETR_EXTERNAL, cv2.CHAIN_APPROX_SIMPLE)"
   ]
  },
  {
   "cell_type": "code",
   "execution_count": 17,
   "id": "26140607-1a12-4d32-94ac-d7e5fb95804b",
   "metadata": {},
   "outputs": [
    {
     "name": "stdout",
     "output_type": "stream",
     "text": [
      "OpenCV bindings requires \"numpy\" package.\n",
      "Install it via command:\n",
      "    pip install numpy\n"
     ]
    },
    {
     "ename": "ImportError",
     "evalue": "Error importing numpy: you should not try to import numpy from\n        its source directory; please exit the numpy source tree, and relaunch\n        your python interpreter from there.",
     "output_type": "error",
     "traceback": [
      "\u001b[1;31m---------------------------------------------------------------------------\u001b[0m",
      "\u001b[1;31mModuleNotFoundError\u001b[0m                       Traceback (most recent call last)",
      "File \u001b[1;32m~\\AppData\\Local\\Packages\\PythonSoftwareFoundation.Python.3.10_qbz5n2kfra8p0\\LocalCache\\local-packages\\Python312\\site-packages\\numpy\\_core\\__init__.py:23\u001b[0m, in \u001b[0;36m<module>\u001b[1;34m\u001b[0m\n\u001b[0;32m     22\u001b[0m \u001b[38;5;28;01mtry\u001b[39;00m:\n\u001b[1;32m---> 23\u001b[0m     \u001b[38;5;28;01mfrom\u001b[39;00m \u001b[38;5;21;01m.\u001b[39;00m \u001b[38;5;28;01mimport\u001b[39;00m multiarray\n\u001b[0;32m     24\u001b[0m \u001b[38;5;28;01mexcept\u001b[39;00m \u001b[38;5;167;01mImportError\u001b[39;00m \u001b[38;5;28;01mas\u001b[39;00m exc:\n",
      "File \u001b[1;32m~\\AppData\\Local\\Packages\\PythonSoftwareFoundation.Python.3.10_qbz5n2kfra8p0\\LocalCache\\local-packages\\Python312\\site-packages\\numpy\\_core\\multiarray.py:10\u001b[0m, in \u001b[0;36m<module>\u001b[1;34m\u001b[0m\n\u001b[0;32m      9\u001b[0m \u001b[38;5;28;01mimport\u001b[39;00m \u001b[38;5;21;01mfunctools\u001b[39;00m\n\u001b[1;32m---> 10\u001b[0m \u001b[38;5;28;01mfrom\u001b[39;00m \u001b[38;5;21;01m.\u001b[39;00m \u001b[38;5;28;01mimport\u001b[39;00m overrides\n\u001b[0;32m     11\u001b[0m \u001b[38;5;28;01mfrom\u001b[39;00m \u001b[38;5;21;01m.\u001b[39;00m \u001b[38;5;28;01mimport\u001b[39;00m _multiarray_umath\n",
      "File \u001b[1;32m~\\AppData\\Local\\Packages\\PythonSoftwareFoundation.Python.3.10_qbz5n2kfra8p0\\LocalCache\\local-packages\\Python312\\site-packages\\numpy\\_core\\overrides.py:8\u001b[0m, in \u001b[0;36m<module>\u001b[1;34m\u001b[0m\n\u001b[0;32m      7\u001b[0m \u001b[38;5;28;01mfrom\u001b[39;00m \u001b[38;5;21;01m.\u001b[39;00m\u001b[38;5;21;01m.\u001b[39;00m\u001b[38;5;21;01m_utils\u001b[39;00m\u001b[38;5;21;01m.\u001b[39;00m\u001b[38;5;21;01m_inspect\u001b[39;00m \u001b[38;5;28;01mimport\u001b[39;00m getargspec\n\u001b[1;32m----> 8\u001b[0m \u001b[38;5;28;01mfrom\u001b[39;00m \u001b[38;5;21;01mnumpy\u001b[39;00m\u001b[38;5;21;01m.\u001b[39;00m\u001b[38;5;21;01m_core\u001b[39;00m\u001b[38;5;21;01m.\u001b[39;00m\u001b[38;5;21;01m_multiarray_umath\u001b[39;00m \u001b[38;5;28;01mimport\u001b[39;00m (\n\u001b[0;32m      9\u001b[0m     add_docstring,  _get_implementing_args, _ArrayFunctionDispatcher)\n\u001b[0;32m     12\u001b[0m ARRAY_FUNCTIONS \u001b[38;5;241m=\u001b[39m \u001b[38;5;28mset\u001b[39m()\n",
      "\u001b[1;31mModuleNotFoundError\u001b[0m: No module named 'numpy._core._multiarray_umath'",
      "\nDuring handling of the above exception, another exception occurred:\n",
      "\u001b[1;31mImportError\u001b[0m                               Traceback (most recent call last)",
      "File \u001b[1;32m~\\AppData\\Local\\Packages\\PythonSoftwareFoundation.Python.3.10_qbz5n2kfra8p0\\LocalCache\\local-packages\\Python312\\site-packages\\numpy\\__init__.py:128\u001b[0m, in \u001b[0;36m<module>\u001b[1;34m\u001b[0m\n\u001b[0;32m    127\u001b[0m \u001b[38;5;28;01mtry\u001b[39;00m:\n\u001b[1;32m--> 128\u001b[0m     \u001b[38;5;28;01mfrom\u001b[39;00m \u001b[38;5;21;01mnumpy\u001b[39;00m\u001b[38;5;21;01m.\u001b[39;00m\u001b[38;5;21;01m__config__\u001b[39;00m \u001b[38;5;28;01mimport\u001b[39;00m show \u001b[38;5;28;01mas\u001b[39;00m show_config\n\u001b[0;32m    129\u001b[0m \u001b[38;5;28;01mexcept\u001b[39;00m \u001b[38;5;167;01mImportError\u001b[39;00m \u001b[38;5;28;01mas\u001b[39;00m e:\n",
      "File \u001b[1;32m~\\AppData\\Local\\Packages\\PythonSoftwareFoundation.Python.3.10_qbz5n2kfra8p0\\LocalCache\\local-packages\\Python312\\site-packages\\numpy\\__config__.py:4\u001b[0m, in \u001b[0;36m<module>\u001b[1;34m\u001b[0m\n\u001b[0;32m      3\u001b[0m \u001b[38;5;28;01mfrom\u001b[39;00m \u001b[38;5;21;01menum\u001b[39;00m \u001b[38;5;28;01mimport\u001b[39;00m Enum\n\u001b[1;32m----> 4\u001b[0m \u001b[38;5;28;01mfrom\u001b[39;00m \u001b[38;5;21;01mnumpy\u001b[39;00m\u001b[38;5;21;01m.\u001b[39;00m\u001b[38;5;21;01m_core\u001b[39;00m\u001b[38;5;21;01m.\u001b[39;00m\u001b[38;5;21;01m_multiarray_umath\u001b[39;00m \u001b[38;5;28;01mimport\u001b[39;00m (\n\u001b[0;32m      5\u001b[0m     __cpu_features__,\n\u001b[0;32m      6\u001b[0m     __cpu_baseline__,\n\u001b[0;32m      7\u001b[0m     __cpu_dispatch__,\n\u001b[0;32m      8\u001b[0m )\n\u001b[0;32m     10\u001b[0m __all__ \u001b[38;5;241m=\u001b[39m [\u001b[38;5;124m\"\u001b[39m\u001b[38;5;124mshow\u001b[39m\u001b[38;5;124m\"\u001b[39m]\n",
      "File \u001b[1;32m~\\AppData\\Local\\Packages\\PythonSoftwareFoundation.Python.3.10_qbz5n2kfra8p0\\LocalCache\\local-packages\\Python312\\site-packages\\numpy\\_core\\__init__.py:49\u001b[0m, in \u001b[0;36m<module>\u001b[1;34m\u001b[0m\n\u001b[0;32m     26\u001b[0m     msg \u001b[38;5;241m=\u001b[39m \u001b[38;5;124m\"\"\"\u001b[39m\n\u001b[0;32m     27\u001b[0m \n\u001b[0;32m     28\u001b[0m \u001b[38;5;124mIMPORTANT: PLEASE READ THIS FOR ADVICE ON HOW TO SOLVE THIS ISSUE!\u001b[39m\n\u001b[1;32m   (...)\u001b[0m\n\u001b[0;32m     47\u001b[0m \u001b[38;5;124m\"\"\"\u001b[39m \u001b[38;5;241m%\u001b[39m (sys\u001b[38;5;241m.\u001b[39mversion_info[\u001b[38;5;241m0\u001b[39m], sys\u001b[38;5;241m.\u001b[39mversion_info[\u001b[38;5;241m1\u001b[39m], sys\u001b[38;5;241m.\u001b[39mexecutable,\n\u001b[0;32m     48\u001b[0m         __version__, exc)\n\u001b[1;32m---> 49\u001b[0m     \u001b[38;5;28;01mraise\u001b[39;00m \u001b[38;5;167;01mImportError\u001b[39;00m(msg)\n\u001b[0;32m     50\u001b[0m \u001b[38;5;28;01mfinally\u001b[39;00m:\n",
      "\u001b[1;31mImportError\u001b[0m: \n\nIMPORTANT: PLEASE READ THIS FOR ADVICE ON HOW TO SOLVE THIS ISSUE!\n\nImporting the numpy C-extensions failed. This error can happen for\nmany reasons, often due to issues with your setup or how NumPy was\ninstalled.\n\nWe have compiled some common reasons and troubleshooting tips at:\n\n    https://numpy.org/devdocs/user/troubleshooting-importerror.html\n\nPlease note and check the following:\n\n  * The Python version is: Python3.10 from \"C:\\Users\\Somya\\AppData\\Local\\Microsoft\\WindowsApps\\PythonSoftwareFoundation.Python.3.10_qbz5n2kfra8p0\\python.exe\"\n  * The NumPy version is: \"2.1.1\"\n\nand make sure that they are the versions you expect.\nPlease carefully study the documentation linked above for further help.\n\nOriginal error was: No module named 'numpy._core._multiarray_umath'\n",
      "\nThe above exception was the direct cause of the following exception:\n",
      "\u001b[1;31mImportError\u001b[0m                               Traceback (most recent call last)",
      "Input \u001b[1;32mIn [17]\u001b[0m, in \u001b[0;36m<cell line: 1>\u001b[1;34m()\u001b[0m\n\u001b[1;32m----> 1\u001b[0m \u001b[38;5;28;01mimport\u001b[39;00m \u001b[38;5;21;01mcv2\u001b[39;00m\n\u001b[0;32m      2\u001b[0m \u001b[38;5;28;01mimport\u001b[39;00m \u001b[38;5;21;01mnumpy\u001b[39;00m \u001b[38;5;28;01mas\u001b[39;00m \u001b[38;5;21;01mnp\u001b[39;00m\n\u001b[0;32m      3\u001b[0m \u001b[38;5;28;01mimport\u001b[39;00m \u001b[38;5;21;01mmatplotlib\u001b[39;00m\u001b[38;5;21;01m.\u001b[39;00m\u001b[38;5;21;01mpyplot\u001b[39;00m \u001b[38;5;28;01mas\u001b[39;00m \u001b[38;5;21;01mplt\u001b[39;00m\n",
      "File \u001b[1;32m~\\AppData\\Local\\Packages\\PythonSoftwareFoundation.Python.3.10_qbz5n2kfra8p0\\LocalCache\\local-packages\\Python310\\site-packages\\cv2\\__init__.py:11\u001b[0m, in \u001b[0;36m<module>\u001b[1;34m\u001b[0m\n\u001b[0;32m      8\u001b[0m __all__ \u001b[38;5;241m=\u001b[39m []\n\u001b[0;32m     10\u001b[0m \u001b[38;5;28;01mtry\u001b[39;00m:\n\u001b[1;32m---> 11\u001b[0m     \u001b[38;5;28;01mimport\u001b[39;00m \u001b[38;5;21;01mnumpy\u001b[39;00m\n\u001b[0;32m     12\u001b[0m     \u001b[38;5;28;01mimport\u001b[39;00m \u001b[38;5;21;01mnumpy\u001b[39;00m\u001b[38;5;21;01m.\u001b[39;00m\u001b[38;5;21;01mcore\u001b[39;00m\u001b[38;5;21;01m.\u001b[39;00m\u001b[38;5;21;01mmultiarray\u001b[39;00m\n\u001b[0;32m     13\u001b[0m \u001b[38;5;28;01mexcept\u001b[39;00m \u001b[38;5;167;01mImportError\u001b[39;00m:\n",
      "File \u001b[1;32m~\\AppData\\Local\\Packages\\PythonSoftwareFoundation.Python.3.10_qbz5n2kfra8p0\\LocalCache\\local-packages\\Python312\\site-packages\\numpy\\__init__.py:133\u001b[0m, in \u001b[0;36m<module>\u001b[1;34m\u001b[0m\n\u001b[0;32m    129\u001b[0m \u001b[38;5;28;01mexcept\u001b[39;00m \u001b[38;5;167;01mImportError\u001b[39;00m \u001b[38;5;28;01mas\u001b[39;00m e:\n\u001b[0;32m    130\u001b[0m     msg \u001b[38;5;241m=\u001b[39m \u001b[38;5;124m\"\"\"\u001b[39m\u001b[38;5;124mError importing numpy: you should not try to import numpy from\u001b[39m\n\u001b[0;32m    131\u001b[0m \u001b[38;5;124m    its source directory; please exit the numpy source tree, and relaunch\u001b[39m\n\u001b[0;32m    132\u001b[0m \u001b[38;5;124m    your python interpreter from there.\u001b[39m\u001b[38;5;124m\"\"\"\u001b[39m\n\u001b[1;32m--> 133\u001b[0m     \u001b[38;5;28;01mraise\u001b[39;00m \u001b[38;5;167;01mImportError\u001b[39;00m(msg) \u001b[38;5;28;01mfrom\u001b[39;00m \u001b[38;5;21;01me\u001b[39;00m\n\u001b[0;32m    135\u001b[0m \u001b[38;5;28;01mfrom\u001b[39;00m \u001b[38;5;21;01m.\u001b[39;00m \u001b[38;5;28;01mimport\u001b[39;00m _core\n\u001b[0;32m    136\u001b[0m \u001b[38;5;28;01mfrom\u001b[39;00m \u001b[38;5;21;01m.\u001b[39;00m\u001b[38;5;21;01m_core\u001b[39;00m \u001b[38;5;28;01mimport\u001b[39;00m (\n\u001b[0;32m    137\u001b[0m     False_, ScalarType, True_, _get_promotion_state, _no_nep50_warning,\n\u001b[0;32m    138\u001b[0m     _set_promotion_state, \u001b[38;5;28mabs\u001b[39m, absolute, acos, acosh, add, \u001b[38;5;28mall\u001b[39m, allclose,\n\u001b[1;32m   (...)\u001b[0m\n\u001b[0;32m    183\u001b[0m     vstack, where, zeros, zeros_like\n\u001b[0;32m    184\u001b[0m )\n",
      "\u001b[1;31mImportError\u001b[0m: Error importing numpy: you should not try to import numpy from\n        its source directory; please exit the numpy source tree, and relaunch\n        your python interpreter from there."
     ]
    }
   ],
   "source": [
    "total_area_pixels = 0\n",
    "for contour in contours:\n",
    "    total_area_pixels += cv2.contourArea(contour)\n",
    "\n",
    "total_area_mm2 = pixel_to_area(total_area_pixels)\n",
    "\n",
    "total_volume = area_to_vol(total_area_mm2)\n",
    "\n",
    "print(f\"Total Projected Arterial Area: {total_area_mm2:.2f} mm^2\")\n",
    "print(f\"Total Volume of Arterial Network: {total_volume:.2f} mm^3\")\n",
    "\n",
    "plt.figure(figsize=(10, 5))\n",
    "\n",
    "plt.subplot(1, 2, 1)\n",
    "plt.imshow(cv2.cvtColor(image, cv2.COLOR_BGR2RGB))\n",
    "plt.title('Original Image')\n",
    "\n",
    "plt.subplot(1, 2, 2)\n",
    "plt.imshow(cleaned_image, cmap='gray')\n",
    "plt.title('Processed Arteries')\n",
    "\n",
    "plt.show()"
   ]
  },
  {
   "cell_type": "markdown",
   "id": "4125b8c3",
   "metadata": {},
   "source": [
    "## q4"
   ]
  },
  {
   "cell_type": "code",
   "execution_count": null,
   "id": "58949abf-07e8-4acf-8f79-271ff567a5c6",
   "metadata": {},
   "outputs": [],
   "source": []
  },
  {
   "cell_type": "code",
   "execution_count": null,
   "id": "faef631a-a5bb-4303-922d-d4045c139179",
   "metadata": {},
   "outputs": [],
   "source": []
  },
  {
   "cell_type": "code",
   "execution_count": null,
   "id": "f6d2229f-a2ae-4f43-9067-8401a06e9e25",
   "metadata": {},
   "outputs": [],
   "source": []
  },
  {
   "cell_type": "markdown",
   "id": "2e7470a8-7bf7-432e-bced-5ee543e42c93",
   "metadata": {},
   "source": [
    "## q5"
   ]
  },
  {
   "cell_type": "code",
   "execution_count": 2,
   "id": "7184153a-a258-405a-a6d0-a0c0fb430de9",
   "metadata": {},
   "outputs": [],
   "source": [
    "import sympy as sp"
   ]
  },
  {
   "cell_type": "code",
   "execution_count": 3,
   "id": "3300fb24-486f-44da-a29f-2eee4fb00b34",
   "metadata": {},
   "outputs": [
    {
     "data": {
      "text/latex": [
       "$\\displaystyle 2 \\epsilon \\frac{d}{d \\tau} y{\\left(\\tau \\right)} - y{\\left(\\tau \\right)} + \\frac{d^{2}}{d \\tau^{2}} y{\\left(\\tau \\right)}$"
      ],
      "text/plain": [
       "2*epsilon*Derivative(y(tau), tau) - y(tau) + Derivative(y(tau), (tau, 2))"
      ]
     },
     "execution_count": 3,
     "metadata": {},
     "output_type": "execute_result"
    }
   ],
   "source": [
    "tau, epsilon = sp.symbols('tau epsilon')\n",
    "y = sp.Function('y')(tau)\n",
    "\n",
    "diffeq = y.diff(tau,2) + 2*epsilon*y.diff(tau) - y\n",
    "diffeq"
   ]
  },
  {
   "cell_type": "code",
   "execution_count": 4,
   "id": "0d5e69cf-9a80-47fb-ad2a-9e51ec45c151",
   "metadata": {},
   "outputs": [],
   "source": [
    "y0 = sp.Function('y0')(tau)\n",
    "y1 = sp.Function('y1')(tau)\n",
    "y_perturbation = y0 + epsilon*y1\n",
    "\n",
    "diffeq_sub_expanded = sp.simplify(diffeq.subs(y, y_perturbation).expand())"
   ]
  },
  {
   "cell_type": "code",
   "execution_count": 5,
   "id": "2ade8563-27f7-44d6-a01e-efa36bced19c",
   "metadata": {},
   "outputs": [
    {
     "data": {
      "text/latex": [
       "$\\displaystyle 2 \\epsilon \\left(\\epsilon \\frac{d}{d \\tau} y_{1}{\\left(\\tau \\right)} + \\frac{d}{d \\tau} y_{0}{\\left(\\tau \\right)}\\right) - \\epsilon y_{1}{\\left(\\tau \\right)} + \\epsilon \\frac{d^{2}}{d \\tau^{2}} y_{1}{\\left(\\tau \\right)} - y_{0}{\\left(\\tau \\right)} + \\frac{d^{2}}{d \\tau^{2}} y_{0}{\\left(\\tau \\right)}$"
      ],
      "text/plain": [
       "2*epsilon*(epsilon*Derivative(y1(tau), tau) + Derivative(y0(tau), tau)) - epsilon*y1(tau) + epsilon*Derivative(y1(tau), (tau, 2)) - y0(tau) + Derivative(y0(tau), (tau, 2))"
      ]
     },
     "execution_count": 5,
     "metadata": {},
     "output_type": "execute_result"
    }
   ],
   "source": [
    "diffeq_sub_expanded"
   ]
  },
  {
   "cell_type": "code",
   "execution_count": 6,
   "id": "17366e74-99a1-4e6a-ab95-3f06d76a40ae",
   "metadata": {},
   "outputs": [],
   "source": [
    "epsilon_expansion = sp.series(diffeq_sub_expanded, epsilon, n=3)"
   ]
  },
  {
   "cell_type": "code",
   "execution_count": 7,
   "id": "2f38b2d8-f25e-40c0-8e16-6ad6e4616db8",
   "metadata": {},
   "outputs": [
    {
     "data": {
      "text/latex": [
       "$\\displaystyle 2 \\epsilon^{2} \\frac{d}{d \\tau} y_{1}{\\left(\\tau \\right)} + \\epsilon \\left(- y_{1}{\\left(\\tau \\right)} + 2 \\frac{d}{d \\tau} y_{0}{\\left(\\tau \\right)} + \\frac{d^{2}}{d \\tau^{2}} y_{1}{\\left(\\tau \\right)}\\right) - y_{0}{\\left(\\tau \\right)} + \\frac{d^{2}}{d \\tau^{2}} y_{0}{\\left(\\tau \\right)}$"
      ],
      "text/plain": [
       "2*epsilon**2*Derivative(y1(tau), tau) + epsilon*(-y1(tau) + 2*Derivative(y0(tau), tau) + Derivative(y1(tau), (tau, 2))) - y0(tau) + Derivative(y0(tau), (tau, 2))"
      ]
     },
     "execution_count": 7,
     "metadata": {},
     "output_type": "execute_result"
    }
   ],
   "source": [
    "epsilon_expansion"
   ]
  },
  {
   "cell_type": "code",
   "execution_count": 8,
   "id": "57c6e31a-ce6a-4071-8614-22f6f4939798",
   "metadata": {},
   "outputs": [
    {
     "data": {
      "text/latex": [
       "$\\displaystyle - y_{0}{\\left(\\tau \\right)} + \\frac{d^{2}}{d \\tau^{2}} y_{0}{\\left(\\tau \\right)}$"
      ],
      "text/plain": [
       "-y0(tau) + Derivative(y0(tau), (tau, 2))"
      ]
     },
     "execution_count": 8,
     "metadata": {},
     "output_type": "execute_result"
    }
   ],
   "source": [
    "epsilon_zero = -y0 + y0.diff(tau,2)\n",
    "epsilon_zero"
   ]
  },
  {
   "cell_type": "code",
   "execution_count": 9,
   "id": "3e1e0556-bd11-4eca-a10c-ef318ce18f58",
   "metadata": {},
   "outputs": [
    {
     "data": {
      "text/latex": [
       "$\\displaystyle \\frac{e e^{\\tau}}{-1 + e^{2}} - \\frac{e e^{- \\tau}}{-1 + e^{2}}$"
      ],
      "text/plain": [
       "E*exp(tau)/(-1 + exp(2)) - E*exp(-tau)/(-1 + exp(2))"
      ]
     },
     "execution_count": 9,
     "metadata": {},
     "output_type": "execute_result"
    }
   ],
   "source": [
    "bcs_0 = {\n",
    "    y0.subs(tau,0):0,\n",
    "    y0.subs(tau,1):1\n",
    "}\n",
    "\n",
    "sol_0 = sp.dsolve(epsilon_zero, ics=bcs_0)\n",
    "sol_0.rhs"
   ]
  },
  {
   "cell_type": "code",
   "execution_count": 10,
   "id": "6e11a073-3e3a-4fd9-ab17-6f5d980b9be5",
   "metadata": {},
   "outputs": [
    {
     "data": {
      "text/latex": [
       "$\\displaystyle - y_{1}{\\left(\\tau \\right)} + 2 \\frac{d}{d \\tau} y_{0}{\\left(\\tau \\right)} + \\frac{d^{2}}{d \\tau^{2}} y_{1}{\\left(\\tau \\right)}$"
      ],
      "text/plain": [
       "-y1(tau) + 2*Derivative(y0(tau), tau) + Derivative(y1(tau), (tau, 2))"
      ]
     },
     "execution_count": 10,
     "metadata": {},
     "output_type": "execute_result"
    }
   ],
   "source": [
    "epsilon_one = -y1 + 2*y0.diff(tau,1) + y1.diff(tau,2)\n",
    "epsilon_one"
   ]
  },
  {
   "cell_type": "code",
   "execution_count": 11,
   "id": "11622b4e-57de-426d-9c8d-014697ad7d5a",
   "metadata": {},
   "outputs": [
    {
     "data": {
      "text/latex": [
       "$\\displaystyle - \\frac{2 \\left(1 - e^{2 \\tau}\\right) e^{1 - \\tau}}{1 - e^{2}} - y_{1}{\\left(\\tau \\right)} - \\frac{4 e^{2 \\tau} e^{1 - \\tau}}{1 - e^{2}} + \\frac{d^{2}}{d \\tau^{2}} y_{1}{\\left(\\tau \\right)}$"
      ],
      "text/plain": [
       "-2*(1 - exp(2*tau))*exp(1 - tau)/(1 - exp(2)) - y1(tau) - 4*exp(2*tau)*exp(1 - tau)/(1 - exp(2)) + Derivative(y1(tau), (tau, 2))"
      ]
     },
     "execution_count": 11,
     "metadata": {},
     "output_type": "execute_result"
    }
   ],
   "source": [
    "epsilon_one = sp.simplify(epsilon_one.subs(y0, sol_0.rhs))\n",
    "epsilon_one"
   ]
  },
  {
   "cell_type": "code",
   "execution_count": 12,
   "id": "13bdf59f-3432-4794-b571-ad66ee11d676",
   "metadata": {},
   "outputs": [
    {
     "data": {
      "text/latex": [
       "$\\displaystyle y_{1}{\\left(\\tau \\right)} = \\left(\\frac{\\tau}{2 \\sinh{\\left(1 \\right)}} + \\frac{- 4 e^{3} \\sinh{\\left(1 \\right)} - 1 + 2 e \\sinh{\\left(1 \\right)} + e^{2}}{- 4 e^{2} \\sinh{\\left(1 \\right)} + 2 \\sinh{\\left(1 \\right)} + 2 e^{4} \\sinh{\\left(1 \\right)}}\\right) e^{- \\tau} + \\left(\\frac{e \\tau}{1 - e^{2}} + \\frac{- e^{2} - 2 e \\sinh{\\left(1 \\right)} + 1 + 4 e^{3} \\sinh{\\left(1 \\right)}}{- 4 e^{2} \\sinh{\\left(1 \\right)} + 2 \\sinh{\\left(1 \\right)} + 2 e^{4} \\sinh{\\left(1 \\right)}}\\right) e^{\\tau}$"
      ],
      "text/plain": [
       "Eq(y1(tau), (tau/(2*sinh(1)) + (-4*exp(3)*sinh(1) - 1 + 2*E*sinh(1) + exp(2))/(-4*exp(2)*sinh(1) + 2*sinh(1) + 2*exp(4)*sinh(1)))*exp(-tau) + (E*tau/(1 - exp(2)) + (-exp(2) - 2*E*sinh(1) + 1 + 4*exp(3)*sinh(1))/(-4*exp(2)*sinh(1) + 2*sinh(1) + 2*exp(4)*sinh(1)))*exp(tau))"
      ]
     },
     "execution_count": 12,
     "metadata": {},
     "output_type": "execute_result"
    }
   ],
   "source": [
    "bcs_1 = {\n",
    "    y1.subs(tau,0):0,\n",
    "    y1.subs(tau,1):1\n",
    "}\n",
    "\n",
    "sol_1 = sp.dsolve(epsilon_one, ics=bcs_1)\n",
    "sol_1"
   ]
  },
  {
   "cell_type": "code",
   "execution_count": 13,
   "id": "5ab14314-cbee-4e33-af55-7973e0f1430e",
   "metadata": {},
   "outputs": [
    {
     "data": {
      "text/latex": [
       "$\\displaystyle y{\\left(\\tau \\right)} = \\frac{e^{\\epsilon} e^{\\tau \\left(- \\epsilon + \\sqrt{\\epsilon^{2} + 1}\\right)} e^{\\sqrt{\\epsilon^{2} + 1}}}{e^{2 \\sqrt{\\epsilon^{2} + 1}} - 1} - \\frac{e^{\\epsilon} e^{- \\tau \\left(\\epsilon + \\sqrt{\\epsilon^{2} + 1}\\right)} e^{\\sqrt{\\epsilon^{2} + 1}}}{e^{2 \\sqrt{\\epsilon^{2} + 1}} - 1}$"
      ],
      "text/plain": [
       "Eq(y(tau), exp(epsilon)*exp(tau*(-epsilon + sqrt(epsilon**2 + 1)))*exp(sqrt(epsilon**2 + 1))/(exp(2*sqrt(epsilon**2 + 1)) - 1) - exp(epsilon)*exp(-tau*(epsilon + sqrt(epsilon**2 + 1)))*exp(sqrt(epsilon**2 + 1))/(exp(2*sqrt(epsilon**2 + 1)) - 1))"
      ]
     },
     "execution_count": 13,
     "metadata": {},
     "output_type": "execute_result"
    }
   ],
   "source": [
    "bcs_analytical = {\n",
    "    y.subs(tau,0):0,\n",
    "    y.subs(tau,1):1\n",
    "}\n",
    "analytical_sol = sp.dsolve(diffeq, ics=bcs_analytical)\n",
    "analytical_sol"
   ]
  },
  {
   "cell_type": "code",
   "execution_count": 16,
   "id": "b7f0dc4b-1ba2-4d2b-b834-879213536167",
   "metadata": {},
   "outputs": [
    {
     "ename": "ImportError",
     "evalue": "Error importing numpy: you should not try to import numpy from\n        its source directory; please exit the numpy source tree, and relaunch\n        your python interpreter from there.",
     "output_type": "error",
     "traceback": [
      "\u001b[1;31m---------------------------------------------------------------------------\u001b[0m",
      "\u001b[1;31mModuleNotFoundError\u001b[0m                       Traceback (most recent call last)",
      "File \u001b[1;32m~\\AppData\\Local\\Packages\\PythonSoftwareFoundation.Python.3.10_qbz5n2kfra8p0\\LocalCache\\local-packages\\Python312\\site-packages\\numpy\\_core\\__init__.py:23\u001b[0m, in \u001b[0;36m<module>\u001b[1;34m\u001b[0m\n\u001b[0;32m     22\u001b[0m \u001b[38;5;28;01mtry\u001b[39;00m:\n\u001b[1;32m---> 23\u001b[0m     \u001b[38;5;28;01mfrom\u001b[39;00m \u001b[38;5;21;01m.\u001b[39;00m \u001b[38;5;28;01mimport\u001b[39;00m multiarray\n\u001b[0;32m     24\u001b[0m \u001b[38;5;28;01mexcept\u001b[39;00m \u001b[38;5;167;01mImportError\u001b[39;00m \u001b[38;5;28;01mas\u001b[39;00m exc:\n",
      "File \u001b[1;32m~\\AppData\\Local\\Packages\\PythonSoftwareFoundation.Python.3.10_qbz5n2kfra8p0\\LocalCache\\local-packages\\Python312\\site-packages\\numpy\\_core\\multiarray.py:10\u001b[0m, in \u001b[0;36m<module>\u001b[1;34m\u001b[0m\n\u001b[0;32m      9\u001b[0m \u001b[38;5;28;01mimport\u001b[39;00m \u001b[38;5;21;01mfunctools\u001b[39;00m\n\u001b[1;32m---> 10\u001b[0m \u001b[38;5;28;01mfrom\u001b[39;00m \u001b[38;5;21;01m.\u001b[39;00m \u001b[38;5;28;01mimport\u001b[39;00m overrides\n\u001b[0;32m     11\u001b[0m \u001b[38;5;28;01mfrom\u001b[39;00m \u001b[38;5;21;01m.\u001b[39;00m \u001b[38;5;28;01mimport\u001b[39;00m _multiarray_umath\n",
      "File \u001b[1;32m~\\AppData\\Local\\Packages\\PythonSoftwareFoundation.Python.3.10_qbz5n2kfra8p0\\LocalCache\\local-packages\\Python312\\site-packages\\numpy\\_core\\overrides.py:8\u001b[0m, in \u001b[0;36m<module>\u001b[1;34m\u001b[0m\n\u001b[0;32m      7\u001b[0m \u001b[38;5;28;01mfrom\u001b[39;00m \u001b[38;5;21;01m.\u001b[39;00m\u001b[38;5;21;01m.\u001b[39;00m\u001b[38;5;21;01m_utils\u001b[39;00m\u001b[38;5;21;01m.\u001b[39;00m\u001b[38;5;21;01m_inspect\u001b[39;00m \u001b[38;5;28;01mimport\u001b[39;00m getargspec\n\u001b[1;32m----> 8\u001b[0m \u001b[38;5;28;01mfrom\u001b[39;00m \u001b[38;5;21;01mnumpy\u001b[39;00m\u001b[38;5;21;01m.\u001b[39;00m\u001b[38;5;21;01m_core\u001b[39;00m\u001b[38;5;21;01m.\u001b[39;00m\u001b[38;5;21;01m_multiarray_umath\u001b[39;00m \u001b[38;5;28;01mimport\u001b[39;00m (\n\u001b[0;32m      9\u001b[0m     add_docstring,  _get_implementing_args, _ArrayFunctionDispatcher)\n\u001b[0;32m     12\u001b[0m ARRAY_FUNCTIONS \u001b[38;5;241m=\u001b[39m \u001b[38;5;28mset\u001b[39m()\n",
      "\u001b[1;31mModuleNotFoundError\u001b[0m: No module named 'numpy._core._multiarray_umath'",
      "\nDuring handling of the above exception, another exception occurred:\n",
      "\u001b[1;31mImportError\u001b[0m                               Traceback (most recent call last)",
      "File \u001b[1;32m~\\AppData\\Local\\Packages\\PythonSoftwareFoundation.Python.3.10_qbz5n2kfra8p0\\LocalCache\\local-packages\\Python312\\site-packages\\numpy\\__init__.py:128\u001b[0m, in \u001b[0;36m<module>\u001b[1;34m\u001b[0m\n\u001b[0;32m    127\u001b[0m \u001b[38;5;28;01mtry\u001b[39;00m:\n\u001b[1;32m--> 128\u001b[0m     \u001b[38;5;28;01mfrom\u001b[39;00m \u001b[38;5;21;01mnumpy\u001b[39;00m\u001b[38;5;21;01m.\u001b[39;00m\u001b[38;5;21;01m__config__\u001b[39;00m \u001b[38;5;28;01mimport\u001b[39;00m show \u001b[38;5;28;01mas\u001b[39;00m show_config\n\u001b[0;32m    129\u001b[0m \u001b[38;5;28;01mexcept\u001b[39;00m \u001b[38;5;167;01mImportError\u001b[39;00m \u001b[38;5;28;01mas\u001b[39;00m e:\n",
      "File \u001b[1;32m~\\AppData\\Local\\Packages\\PythonSoftwareFoundation.Python.3.10_qbz5n2kfra8p0\\LocalCache\\local-packages\\Python312\\site-packages\\numpy\\__config__.py:4\u001b[0m, in \u001b[0;36m<module>\u001b[1;34m\u001b[0m\n\u001b[0;32m      3\u001b[0m \u001b[38;5;28;01mfrom\u001b[39;00m \u001b[38;5;21;01menum\u001b[39;00m \u001b[38;5;28;01mimport\u001b[39;00m Enum\n\u001b[1;32m----> 4\u001b[0m \u001b[38;5;28;01mfrom\u001b[39;00m \u001b[38;5;21;01mnumpy\u001b[39;00m\u001b[38;5;21;01m.\u001b[39;00m\u001b[38;5;21;01m_core\u001b[39;00m\u001b[38;5;21;01m.\u001b[39;00m\u001b[38;5;21;01m_multiarray_umath\u001b[39;00m \u001b[38;5;28;01mimport\u001b[39;00m (\n\u001b[0;32m      5\u001b[0m     __cpu_features__,\n\u001b[0;32m      6\u001b[0m     __cpu_baseline__,\n\u001b[0;32m      7\u001b[0m     __cpu_dispatch__,\n\u001b[0;32m      8\u001b[0m )\n\u001b[0;32m     10\u001b[0m __all__ \u001b[38;5;241m=\u001b[39m [\u001b[38;5;124m\"\u001b[39m\u001b[38;5;124mshow\u001b[39m\u001b[38;5;124m\"\u001b[39m]\n",
      "File \u001b[1;32m~\\AppData\\Local\\Packages\\PythonSoftwareFoundation.Python.3.10_qbz5n2kfra8p0\\LocalCache\\local-packages\\Python312\\site-packages\\numpy\\_core\\__init__.py:49\u001b[0m, in \u001b[0;36m<module>\u001b[1;34m\u001b[0m\n\u001b[0;32m     26\u001b[0m     msg \u001b[38;5;241m=\u001b[39m \u001b[38;5;124m\"\"\"\u001b[39m\n\u001b[0;32m     27\u001b[0m \n\u001b[0;32m     28\u001b[0m \u001b[38;5;124mIMPORTANT: PLEASE READ THIS FOR ADVICE ON HOW TO SOLVE THIS ISSUE!\u001b[39m\n\u001b[1;32m   (...)\u001b[0m\n\u001b[0;32m     47\u001b[0m \u001b[38;5;124m\"\"\"\u001b[39m \u001b[38;5;241m%\u001b[39m (sys\u001b[38;5;241m.\u001b[39mversion_info[\u001b[38;5;241m0\u001b[39m], sys\u001b[38;5;241m.\u001b[39mversion_info[\u001b[38;5;241m1\u001b[39m], sys\u001b[38;5;241m.\u001b[39mexecutable,\n\u001b[0;32m     48\u001b[0m         __version__, exc)\n\u001b[1;32m---> 49\u001b[0m     \u001b[38;5;28;01mraise\u001b[39;00m \u001b[38;5;167;01mImportError\u001b[39;00m(msg)\n\u001b[0;32m     50\u001b[0m \u001b[38;5;28;01mfinally\u001b[39;00m:\n",
      "\u001b[1;31mImportError\u001b[0m: \n\nIMPORTANT: PLEASE READ THIS FOR ADVICE ON HOW TO SOLVE THIS ISSUE!\n\nImporting the numpy C-extensions failed. This error can happen for\nmany reasons, often due to issues with your setup or how NumPy was\ninstalled.\n\nWe have compiled some common reasons and troubleshooting tips at:\n\n    https://numpy.org/devdocs/user/troubleshooting-importerror.html\n\nPlease note and check the following:\n\n  * The Python version is: Python3.10 from \"C:\\Users\\Somya\\AppData\\Local\\Microsoft\\WindowsApps\\PythonSoftwareFoundation.Python.3.10_qbz5n2kfra8p0\\python.exe\"\n  * The NumPy version is: \"2.1.1\"\n\nand make sure that they are the versions you expect.\nPlease carefully study the documentation linked above for further help.\n\nOriginal error was: No module named 'numpy._core._multiarray_umath'\n",
      "\nThe above exception was the direct cause of the following exception:\n",
      "\u001b[1;31mImportError\u001b[0m                               Traceback (most recent call last)",
      "Input \u001b[1;32mIn [16]\u001b[0m, in \u001b[0;36m<cell line: 1>\u001b[1;34m()\u001b[0m\n\u001b[1;32m----> 1\u001b[0m \u001b[38;5;28;01mimport\u001b[39;00m \u001b[38;5;21;01mnumpy\u001b[39;00m \u001b[38;5;28;01mas\u001b[39;00m \u001b[38;5;21;01mnp\u001b[39;00m\n\u001b[0;32m      2\u001b[0m \u001b[38;5;28;01mimport\u001b[39;00m \u001b[38;5;21;01mmatplotlib\u001b[39;00m\u001b[38;5;21;01m.\u001b[39;00m\u001b[38;5;21;01mpyplot\u001b[39;00m \u001b[38;5;28;01mas\u001b[39;00m \u001b[38;5;21;01mplt\u001b[39;00m\n\u001b[0;32m      4\u001b[0m t \u001b[38;5;241m=\u001b[39m np\u001b[38;5;241m.\u001b[39mlinspace(\u001b[38;5;241m0\u001b[39m,\u001b[38;5;241m1\u001b[39m,\u001b[38;5;241m50\u001b[39m)\n",
      "File \u001b[1;32m~\\AppData\\Local\\Packages\\PythonSoftwareFoundation.Python.3.10_qbz5n2kfra8p0\\LocalCache\\local-packages\\Python312\\site-packages\\numpy\\__init__.py:133\u001b[0m, in \u001b[0;36m<module>\u001b[1;34m\u001b[0m\n\u001b[0;32m    129\u001b[0m \u001b[38;5;28;01mexcept\u001b[39;00m \u001b[38;5;167;01mImportError\u001b[39;00m \u001b[38;5;28;01mas\u001b[39;00m e:\n\u001b[0;32m    130\u001b[0m     msg \u001b[38;5;241m=\u001b[39m \u001b[38;5;124m\"\"\"\u001b[39m\u001b[38;5;124mError importing numpy: you should not try to import numpy from\u001b[39m\n\u001b[0;32m    131\u001b[0m \u001b[38;5;124m    its source directory; please exit the numpy source tree, and relaunch\u001b[39m\n\u001b[0;32m    132\u001b[0m \u001b[38;5;124m    your python interpreter from there.\u001b[39m\u001b[38;5;124m\"\"\"\u001b[39m\n\u001b[1;32m--> 133\u001b[0m     \u001b[38;5;28;01mraise\u001b[39;00m \u001b[38;5;167;01mImportError\u001b[39;00m(msg) \u001b[38;5;28;01mfrom\u001b[39;00m \u001b[38;5;21;01me\u001b[39;00m\n\u001b[0;32m    135\u001b[0m \u001b[38;5;28;01mfrom\u001b[39;00m \u001b[38;5;21;01m.\u001b[39;00m \u001b[38;5;28;01mimport\u001b[39;00m _core\n\u001b[0;32m    136\u001b[0m \u001b[38;5;28;01mfrom\u001b[39;00m \u001b[38;5;21;01m.\u001b[39;00m\u001b[38;5;21;01m_core\u001b[39;00m \u001b[38;5;28;01mimport\u001b[39;00m (\n\u001b[0;32m    137\u001b[0m     False_, ScalarType, True_, _get_promotion_state, _no_nep50_warning,\n\u001b[0;32m    138\u001b[0m     _set_promotion_state, \u001b[38;5;28mabs\u001b[39m, absolute, acos, acosh, add, \u001b[38;5;28mall\u001b[39m, allclose,\n\u001b[1;32m   (...)\u001b[0m\n\u001b[0;32m    183\u001b[0m     vstack, where, zeros, zeros_like\n\u001b[0;32m    184\u001b[0m )\n",
      "\u001b[1;31mImportError\u001b[0m: Error importing numpy: you should not try to import numpy from\n        its source directory; please exit the numpy source tree, and relaunch\n        your python interpreter from there."
     ]
    }
   ],
   "source": [
    "import numpy as np\n",
    "import matplotlib.pyplot as plt\n",
    "\n",
    "t = np.linspace(0,1,50)\n",
    "y_pert = []\n",
    "y_analytical = []\n",
    "for i in t:\n",
    "    sol_i = sol_1.rhs.subs(tau,i)\n",
    "    sol_analytical = analytical_sol.rhs.subs(tau,i)\n",
    "    y_pert.append(sol_i)\n",
    "    y_analytical.append(sol_analytical)"
   ]
  },
  {
   "cell_type": "code",
   "execution_count": 15,
   "id": "ac91e216-4663-4d11-9b6a-a955ff057148",
   "metadata": {},
   "outputs": [
    {
     "ename": "NameError",
     "evalue": "name 'y_analytical' is not defined",
     "output_type": "error",
     "traceback": [
      "\u001b[1;31m---------------------------------------------------------------------------\u001b[0m",
      "\u001b[1;31mNameError\u001b[0m                                 Traceback (most recent call last)",
      "Input \u001b[1;32mIn [15]\u001b[0m, in \u001b[0;36m<cell line: 1>\u001b[1;34m()\u001b[0m\n\u001b[1;32m----> 1\u001b[0m \u001b[43my_analytical\u001b[49m[\u001b[38;5;241m1\u001b[39m]\n",
      "\u001b[1;31mNameError\u001b[0m: name 'y_analytical' is not defined"
     ]
    }
   ],
   "source": [
    "y_analytical[1]"
   ]
  },
  {
   "cell_type": "code",
   "execution_count": null,
   "id": "5c0a0441-8450-4ba1-9def-d213e189302d",
   "metadata": {},
   "outputs": [],
   "source": [
    "plt.plot(t,y_analytical)"
   ]
  },
  {
   "cell_type": "code",
   "execution_count": null,
   "id": "d636bebf-ff4c-4087-9fcd-f6007d9efe02",
   "metadata": {},
   "outputs": [],
   "source": []
  }
 ],
 "metadata": {
  "kernelspec": {
   "display_name": "Python 3 (ipykernel)",
   "language": "python",
   "name": "python3"
  },
  "language_info": {
   "codemirror_mode": {
    "name": "ipython",
    "version": 3
   },
   "file_extension": ".py",
   "mimetype": "text/x-python",
   "name": "python",
   "nbconvert_exporter": "python",
   "pygments_lexer": "ipython3",
   "version": "3.10.11"
  }
 },
 "nbformat": 4,
 "nbformat_minor": 5
}

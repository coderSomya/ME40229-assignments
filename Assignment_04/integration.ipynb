{
 "cells": [
  {
   "cell_type": "code",
   "execution_count": 48,
   "id": "0453daac",
   "metadata": {},
   "outputs": [],
   "source": [
    "import sympy as sp\n",
    "import numpy as np"
   ]
  },
  {
   "cell_type": "code",
   "execution_count": 49,
   "id": "d8438477",
   "metadata": {},
   "outputs": [],
   "source": [
    "## 1"
   ]
  },
  {
   "cell_type": "code",
   "execution_count": 50,
   "id": "55b900a2",
   "metadata": {},
   "outputs": [],
   "source": [
    "x = sp.symbols('x')\n",
    "y = sp.Function('y')(x)\n",
    "\n",
    "y = sp.log(x+1)/x"
   ]
  },
  {
   "cell_type": "code",
   "execution_count": 51,
   "id": "6e5a20e1",
   "metadata": {},
   "outputs": [
    {
     "data": {
      "text/latex": [
       "$\\displaystyle \\frac{\\log{\\left(x + 1 \\right)}}{x}$"
      ],
      "text/plain": [
       "log(x + 1)/x"
      ]
     },
     "execution_count": 51,
     "metadata": {},
     "output_type": "execute_result"
    }
   ],
   "source": [
    "y"
   ]
  },
  {
   "cell_type": "code",
   "execution_count": 52,
   "id": "6ae23b86",
   "metadata": {},
   "outputs": [],
   "source": [
    "sol = sp.integrate(y,(x,0,1))"
   ]
  },
  {
   "cell_type": "code",
   "execution_count": 53,
   "id": "f577739d",
   "metadata": {},
   "outputs": [
    {
     "data": {
      "text/latex": [
       "$\\displaystyle \\frac{\\pi^{2}}{12}$"
      ],
      "text/plain": [
       "pi**2/12"
      ]
     },
     "execution_count": 53,
     "metadata": {},
     "output_type": "execute_result"
    }
   ],
   "source": [
    "sol"
   ]
  },
  {
   "cell_type": "code",
   "execution_count": 54,
   "id": "27b82822",
   "metadata": {},
   "outputs": [],
   "source": [
    "## 2"
   ]
  },
  {
   "cell_type": "code",
   "execution_count": 55,
   "id": "5b941434",
   "metadata": {},
   "outputs": [],
   "source": [
    "y = sp.exp(-(x*x))*sp.sin(x)/x"
   ]
  },
  {
   "cell_type": "code",
   "execution_count": 56,
   "id": "a45a8cdc",
   "metadata": {},
   "outputs": [
    {
     "data": {
      "text/latex": [
       "$\\displaystyle \\frac{e^{- x^{2}} \\sin{\\left(x \\right)}}{x}$"
      ],
      "text/plain": [
       "exp(-x**2)*sin(x)/x"
      ]
     },
     "execution_count": 56,
     "metadata": {},
     "output_type": "execute_result"
    }
   ],
   "source": [
    "y"
   ]
  },
  {
   "cell_type": "code",
   "execution_count": 57,
   "id": "27059156",
   "metadata": {},
   "outputs": [],
   "source": [
    "sol = sp.integrate(y,(x,-np.inf, np.inf))"
   ]
  },
  {
   "cell_type": "code",
   "execution_count": 58,
   "id": "ca6c3584",
   "metadata": {},
   "outputs": [
    {
     "data": {
      "text/latex": [
       "$\\displaystyle \\pi \\operatorname{erf}{\\left(\\frac{1}{2} \\right)}$"
      ],
      "text/plain": [
       "pi*erf(1/2)"
      ]
     },
     "execution_count": 58,
     "metadata": {},
     "output_type": "execute_result"
    }
   ],
   "source": [
    "sol= sp.trigsimp(sol)\n",
    "sol"
   ]
  },
  {
   "cell_type": "code",
   "execution_count": 59,
   "id": "6fbbb10b",
   "metadata": {},
   "outputs": [],
   "source": [
    "## 3"
   ]
  },
  {
   "cell_type": "code",
   "execution_count": 60,
   "id": "ba1571af",
   "metadata": {},
   "outputs": [],
   "source": [
    "y = sp.exp(sp.I*x)/(1+ x**2)"
   ]
  },
  {
   "cell_type": "code",
   "execution_count": 61,
   "id": "0a1bbe0b",
   "metadata": {},
   "outputs": [
    {
     "data": {
      "text/latex": [
       "$\\displaystyle \\frac{e^{i x}}{x^{2} + 1}$"
      ],
      "text/plain": [
       "exp(I*x)/(x**2 + 1)"
      ]
     },
     "execution_count": 61,
     "metadata": {},
     "output_type": "execute_result"
    }
   ],
   "source": [
    "y"
   ]
  },
  {
   "cell_type": "code",
   "execution_count": 62,
   "id": "4b9effad",
   "metadata": {},
   "outputs": [],
   "source": [
    "sol = sp.integrate(y,(x,-np.inf, np.inf))"
   ]
  },
  {
   "cell_type": "code",
   "execution_count": 63,
   "id": "a9102559",
   "metadata": {},
   "outputs": [],
   "source": [
    "sol = sp.trigsimp(sol)"
   ]
  },
  {
   "cell_type": "code",
   "execution_count": 64,
   "id": "3e89c0ba",
   "metadata": {},
   "outputs": [
    {
     "data": {
      "text/latex": [
       "$\\displaystyle - \\pi \\left(- \\cosh{\\left(1 \\right)} + \\sinh{\\left(1 \\right)}\\right)$"
      ],
      "text/plain": [
       "-pi*(-cosh(1) + sinh(1))"
      ]
     },
     "execution_count": 64,
     "metadata": {},
     "output_type": "execute_result"
    }
   ],
   "source": [
    "sol"
   ]
  },
  {
   "cell_type": "code",
   "execution_count": null,
   "id": "a582052e",
   "metadata": {},
   "outputs": [],
   "source": [
    "## 4"
   ]
  },
  {
   "cell_type": "code",
   "execution_count": 66,
   "id": "7c9b0beb",
   "metadata": {},
   "outputs": [],
   "source": [
    "theta = sp.symbols('theta')"
   ]
  },
  {
   "cell_type": "code",
   "execution_count": 69,
   "id": "ac00d963",
   "metadata": {},
   "outputs": [],
   "source": [
    "y = 1/(5 - 4*sp.cos(theta))\n",
    "\n",
    "sol = sp.integrate(y, (theta, 0, 2*np.pi))"
   ]
  },
  {
   "cell_type": "code",
   "execution_count": 70,
   "id": "287beeb0",
   "metadata": {},
   "outputs": [
    {
     "data": {
      "text/latex": [
       "$\\displaystyle -2.44929359829471 \\cdot 10^{-16} + \\frac{2 \\pi}{3}$"
      ],
      "text/plain": [
       "-2.44929359829471e-16 + 2*pi/3"
      ]
     },
     "execution_count": 70,
     "metadata": {},
     "output_type": "execute_result"
    }
   ],
   "source": [
    "sol"
   ]
  },
  {
   "cell_type": "code",
   "execution_count": 71,
   "id": "9f48e3aa",
   "metadata": {},
   "outputs": [],
   "source": [
    "## 5"
   ]
  },
  {
   "cell_type": "code",
   "execution_count": 82,
   "id": "0b549b3f",
   "metadata": {},
   "outputs": [
    {
     "name": "stdout",
     "output_type": "stream",
     "text": [
      "exp(-x)/x\n"
     ]
    }
   ],
   "source": [
    "y = (sp.exp(-1*x))/x\n",
    "sol = sp.integrate(y, (x,0,np.inf))"
   ]
  },
  {
   "cell_type": "code",
   "execution_count": 83,
   "id": "a946a0fc",
   "metadata": {},
   "outputs": [
    {
     "data": {
      "text/latex": [
       "$\\displaystyle \\infty$"
      ],
      "text/plain": [
       "oo"
      ]
     },
     "execution_count": 83,
     "metadata": {},
     "output_type": "execute_result"
    }
   ],
   "source": [
    "sol"
   ]
  },
  {
   "cell_type": "code",
   "execution_count": null,
   "id": "c891db24",
   "metadata": {},
   "outputs": [],
   "source": []
  },
  {
   "cell_type": "code",
   "execution_count": null,
   "id": "bedeabaf",
   "metadata": {},
   "outputs": [],
   "source": []
  }
 ],
 "metadata": {
  "kernelspec": {
   "display_name": "Python 3 (ipykernel)",
   "language": "python",
   "name": "python3"
  },
  "language_info": {
   "codemirror_mode": {
    "name": "ipython",
    "version": 3
   },
   "file_extension": ".py",
   "mimetype": "text/x-python",
   "name": "python",
   "nbconvert_exporter": "python",
   "pygments_lexer": "ipython3",
   "version": "3.10.11"
  }
 },
 "nbformat": 4,
 "nbformat_minor": 5
}

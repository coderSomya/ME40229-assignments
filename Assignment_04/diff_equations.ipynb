{
 "cells": [
  {
   "cell_type": "code",
   "execution_count": 2,
   "id": "78b2b081",
   "metadata": {},
   "outputs": [],
   "source": [
    "import sympy as sp\n",
    "import numpy as np"
   ]
  },
  {
   "cell_type": "code",
   "execution_count": 15,
   "id": "3600b932",
   "metadata": {},
   "outputs": [],
   "source": [
    "x = sp.symbols('x')\n",
    "y = sp.Function('y')(x)"
   ]
  },
  {
   "cell_type": "markdown",
   "id": "50b3eb40",
   "metadata": {},
   "source": [
    "### General solutions"
   ]
  },
  {
   "cell_type": "code",
   "execution_count": 4,
   "id": "52083c36",
   "metadata": {},
   "outputs": [
    {
     "data": {
      "text/latex": [
       "$\\displaystyle y{\\left(x \\right)} = C_{1} + 0.31830988618379 \\cos{\\left(6.28318530717959 x \\right)}$"
      ],
      "text/plain": [
       "Eq(y(x), C1 + 0.31830988618379*cos(6.28318530717959*x))"
      ]
     },
     "execution_count": 4,
     "metadata": {},
     "output_type": "execute_result"
    }
   ],
   "source": [
    "## a \n",
    "eq = sp.Eq(y.diff(x,1) + 2*sp.sin(2*np.pi*x), 0)\n",
    "sol = sp.dsolve(eq)\n",
    "sol"
   ]
  },
  {
   "cell_type": "code",
   "execution_count": 5,
   "id": "cac2f22b",
   "metadata": {},
   "outputs": [
    {
     "data": {
      "text/latex": [
       "$\\displaystyle y{\\left(x \\right)} = C_{1} + \\sinh{\\left(x \\right)}$"
      ],
      "text/plain": [
       "Eq(y(x), C1 + sinh(x))"
      ]
     },
     "execution_count": 5,
     "metadata": {},
     "output_type": "execute_result"
    }
   ],
   "source": [
    "## b\n",
    "eq = sp.Eq(y.diff(x,1),sp.cosh(x))\n",
    "sol = sp.dsolve(eq)\n",
    "sol"
   ]
  },
  {
   "cell_type": "markdown",
   "id": "45fc6c73",
   "metadata": {},
   "source": [
    "### Exact solutions"
   ]
  },
  {
   "cell_type": "code",
   "execution_count": 19,
   "id": "9591e3b1",
   "metadata": {},
   "outputs": [],
   "source": [
    "## a\n",
    "eq = sp.Eq(y.diff(x,1)+4*x*y, sp.exp(-2*x**2))\n",
    "bcs = {y.subs(x,0):-4.3}\n",
    "sol = sp.dsolve(eq, ics=bcs)"
   ]
  },
  {
   "cell_type": "code",
   "execution_count": 20,
   "id": "ac8d0e8c",
   "metadata": {},
   "outputs": [
    {
     "data": {
      "text/latex": [
       "$\\displaystyle y{\\left(x \\right)} = \\left(x - 4.3\\right) e^{- 2 x^{2}}$"
      ],
      "text/plain": [
       "Eq(y(x), (x - 4.3)*exp(-2*x**2))"
      ]
     },
     "execution_count": 20,
     "metadata": {},
     "output_type": "execute_result"
    }
   ],
   "source": [
    "sol"
   ]
  },
  {
   "cell_type": "code",
   "execution_count": 22,
   "id": "dcc8a743",
   "metadata": {},
   "outputs": [],
   "source": [
    "## b\n",
    "eq = sp.Eq(y.diff(x,1)+y/2, y**3)\n",
    "bcs = {y.subs(x,0): 1/3}\n",
    "sol = sp.dsolve(eq, ics=bcs)"
   ]
  },
  {
   "cell_type": "code",
   "execution_count": 23,
   "id": "45d1fc77",
   "metadata": {},
   "outputs": [
    {
     "data": {
      "text/latex": [
       "$\\displaystyle y{\\left(x \\right)} = 0.377964473009227 \\sqrt{- \\frac{1}{- e^{x} - 0.285714285714286}}$"
      ],
      "text/plain": [
       "Eq(y(x), 0.377964473009227*sqrt(-1/(-exp(x) - 0.285714285714286)))"
      ]
     },
     "execution_count": 23,
     "metadata": {},
     "output_type": "execute_result"
    }
   ],
   "source": [
    "sol"
   ]
  },
  {
   "cell_type": "code",
   "execution_count": null,
   "id": "1a51e606",
   "metadata": {},
   "outputs": [],
   "source": []
  }
 ],
 "metadata": {
  "kernelspec": {
   "display_name": "Python 3 (ipykernel)",
   "language": "python",
   "name": "python3"
  },
  "language_info": {
   "codemirror_mode": {
    "name": "ipython",
    "version": 3
   },
   "file_extension": ".py",
   "mimetype": "text/x-python",
   "name": "python",
   "nbconvert_exporter": "python",
   "pygments_lexer": "ipython3",
   "version": "3.10.11"
  }
 },
 "nbformat": 4,
 "nbformat_minor": 5
}

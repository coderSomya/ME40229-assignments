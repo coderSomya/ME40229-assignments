{
 "cells": [
  {
   "cell_type": "code",
   "execution_count": 1,
   "id": "acca879e",
   "metadata": {},
   "outputs": [],
   "source": [
    "import sympy as sp\n",
    "import numpy as np"
   ]
  },
  {
   "cell_type": "code",
   "execution_count": 5,
   "id": "23707d93",
   "metadata": {},
   "outputs": [],
   "source": [
    "x = sp.symbols('x')\n",
    "y = sp.Function('y')(x)"
   ]
  },
  {
   "cell_type": "code",
   "execution_count": 6,
   "id": "ef72f483",
   "metadata": {},
   "outputs": [],
   "source": [
    "## 1"
   ]
  },
  {
   "cell_type": "code",
   "execution_count": 8,
   "id": "f409a82c",
   "metadata": {},
   "outputs": [],
   "source": [
    "y = sp.sin(sp.cos(sp.tan(x)))\n",
    "\n",
    "sol = y.diff(x,1)"
   ]
  },
  {
   "cell_type": "code",
   "execution_count": 9,
   "id": "870c26cf",
   "metadata": {},
   "outputs": [
    {
     "data": {
      "text/latex": [
       "$\\displaystyle - \\left(\\tan^{2}{\\left(x \\right)} + 1\\right) \\sin{\\left(\\tan{\\left(x \\right)} \\right)} \\cos{\\left(\\cos{\\left(\\tan{\\left(x \\right)} \\right)} \\right)}$"
      ],
      "text/plain": [
       "-(tan(x)**2 + 1)*sin(tan(x))*cos(cos(tan(x)))"
      ]
     },
     "execution_count": 9,
     "metadata": {},
     "output_type": "execute_result"
    }
   ],
   "source": [
    "sol"
   ]
  },
  {
   "cell_type": "code",
   "execution_count": 10,
   "id": "03f31a96",
   "metadata": {},
   "outputs": [],
   "source": [
    "## 2"
   ]
  },
  {
   "cell_type": "code",
   "execution_count": 13,
   "id": "fca435a0",
   "metadata": {},
   "outputs": [
    {
     "data": {
      "text/latex": [
       "$\\displaystyle \\frac{x^{n}}{n}$"
      ],
      "text/plain": [
       "x**n/n"
      ]
     },
     "execution_count": 13,
     "metadata": {},
     "output_type": "execute_result"
    }
   ],
   "source": [
    "n = sp.symbols('n')\n",
    "term = (x**n)/n\n",
    "term"
   ]
  },
  {
   "cell_type": "code",
   "execution_count": 15,
   "id": "047fb3f8",
   "metadata": {},
   "outputs": [
    {
     "data": {
      "text/latex": [
       "$\\displaystyle \\begin{cases} - \\log{\\left(1 - x \\right)} & \\text{for}\\: \\left|{x}\\right| \\leq 1 \\wedge x \\neq 1 \\\\\\sum_{n=1}^{\\infty} \\frac{x^{n}}{n} & \\text{otherwise} \\end{cases}$"
      ],
      "text/plain": [
       "Piecewise((-log(1 - x), Ne(x, 1) & (Abs(x) <= 1)), (Sum(x**n/n, (n, 1, oo)), True))"
      ]
     },
     "execution_count": 15,
     "metadata": {},
     "output_type": "execute_result"
    }
   ],
   "source": [
    "y = sp.summation(term, (n,1,sp.oo))\n",
    "y"
   ]
  },
  {
   "cell_type": "code",
   "execution_count": 16,
   "id": "4b75cb47",
   "metadata": {},
   "outputs": [
    {
     "data": {
      "text/latex": [
       "$\\displaystyle \\begin{cases} \\frac{1}{1 - x} & \\text{for}\\: \\left|{x}\\right| \\leq 1 \\wedge x \\neq 1 \\\\\\sum_{n=1}^{\\infty} \\frac{x^{n}}{x} & \\text{otherwise} \\end{cases}$"
      ],
      "text/plain": [
       "Piecewise((1/(1 - x), Ne(x, 1) & (Abs(x) <= 1)), (Sum(x**n/x, (n, 1, oo)), True))"
      ]
     },
     "execution_count": 16,
     "metadata": {},
     "output_type": "execute_result"
    }
   ],
   "source": [
    "sol = y.diff(x,1)\n",
    "sol"
   ]
  },
  {
   "cell_type": "code",
   "execution_count": 17,
   "id": "95aaa0a6",
   "metadata": {},
   "outputs": [
    {
     "data": {
      "text/latex": [
       "$\\displaystyle \\begin{cases} - \\frac{1}{x - 1} & \\text{for}\\: x \\geq -1 \\wedge x < 1 \\\\\\sum_{n=1}^{\\infty} x^{n - 1} & \\text{otherwise} \\end{cases}$"
      ],
      "text/plain": [
       "Piecewise((-1/(x - 1), (x >= -1) & (x < 1)), (Sum(x**(n - 1), (n, 1, oo)), True))"
      ]
     },
     "execution_count": 17,
     "metadata": {},
     "output_type": "execute_result"
    }
   ],
   "source": [
    "sol = sp.simplify(sol)\n",
    "sol"
   ]
  },
  {
   "cell_type": "code",
   "execution_count": 18,
   "id": "be8ad1f8",
   "metadata": {},
   "outputs": [],
   "source": [
    "## 3"
   ]
  },
  {
   "cell_type": "code",
   "execution_count": 19,
   "id": "a5a2078e",
   "metadata": {},
   "outputs": [
    {
     "data": {
      "text/latex": [
       "$\\displaystyle x^{x} e^{x^{0.5}} \\log{\\left(x \\right)}$"
      ],
      "text/plain": [
       "x**x*exp(x**0.5)*log(x)"
      ]
     },
     "execution_count": 19,
     "metadata": {},
     "output_type": "execute_result"
    }
   ],
   "source": [
    "y = (x**x)*sp.log(x)*sp.exp(x**(0.5))\n",
    "y"
   ]
  },
  {
   "cell_type": "code",
   "execution_count": 20,
   "id": "1f3a5329",
   "metadata": {},
   "outputs": [],
   "source": [
    "sol = y.diff(x,1)"
   ]
  },
  {
   "cell_type": "code",
   "execution_count": 21,
   "id": "48dd5a9a",
   "metadata": {},
   "outputs": [
    {
     "data": {
      "text/latex": [
       "$\\displaystyle \\frac{0.5 x^{x} e^{x^{0.5}} \\log{\\left(x \\right)}}{x^{0.5}} + x^{x} \\left(\\log{\\left(x \\right)} + 1\\right) e^{x^{0.5}} \\log{\\left(x \\right)} + \\frac{x^{x} e^{x^{0.5}}}{x}$"
      ],
      "text/plain": [
       "0.5*x**x*exp(x**0.5)*log(x)/x**0.5 + x**x*(log(x) + 1)*exp(x**0.5)*log(x) + x**x*exp(x**0.5)/x"
      ]
     },
     "execution_count": 21,
     "metadata": {},
     "output_type": "execute_result"
    }
   ],
   "source": [
    "sol"
   ]
  },
  {
   "cell_type": "code",
   "execution_count": 22,
   "id": "81714b5f",
   "metadata": {},
   "outputs": [],
   "source": [
    "## 4"
   ]
  },
  {
   "cell_type": "code",
   "execution_count": 23,
   "id": "c09cc987",
   "metadata": {},
   "outputs": [
    {
     "data": {
      "text/latex": [
       "$\\displaystyle - \\begin{cases} \\operatorname{Li}_{2}\\left(x\\right) & \\text{for}\\: \\left|{x}\\right| \\leq 1 \\\\\\sum_{n=1}^{\\infty} \\frac{x^{n}}{n^{2}} & \\text{otherwise} \\end{cases}$"
      ],
      "text/plain": [
       "-Piecewise((polylog(2, x), Abs(x) <= 1), (Sum(x**n/n**2, (n, 1, oo)), True))"
      ]
     },
     "execution_count": 23,
     "metadata": {},
     "output_type": "execute_result"
    }
   ],
   "source": [
    "term = (-1**n)*(x**n)/(n**2)\n",
    "y = sp.summation(term, (n,1,sp.oo))\n",
    "y"
   ]
  },
  {
   "cell_type": "code",
   "execution_count": 28,
   "id": "d01f34dc",
   "metadata": {},
   "outputs": [
    {
     "data": {
      "text/latex": [
       "$\\displaystyle - \\begin{cases} \\frac{\\operatorname{Li}_{1}\\left(x\\right)}{x} & \\text{for}\\: \\left|{x}\\right| \\leq 1 \\\\\\sum_{n=1}^{\\infty} \\frac{x^{n}}{n x} & \\text{otherwise} \\end{cases}$"
      ],
      "text/plain": [
       "-Piecewise((polylog(1, x)/x, Abs(x) <= 1), (Sum(x**n/(n*x), (n, 1, oo)), True))"
      ]
     },
     "execution_count": 28,
     "metadata": {},
     "output_type": "execute_result"
    }
   ],
   "source": [
    "sol = y.diff(x,1)\n",
    "sol"
   ]
  },
  {
   "cell_type": "code",
   "execution_count": 29,
   "id": "ab51036a",
   "metadata": {},
   "outputs": [],
   "source": [
    "## 5"
   ]
  },
  {
   "cell_type": "code",
   "execution_count": 30,
   "id": "e96a1fa4",
   "metadata": {},
   "outputs": [
    {
     "data": {
      "text/latex": [
       "$\\displaystyle e^{\\sinh{\\left(x \\right)}}$"
      ],
      "text/plain": [
       "exp(sinh(x))"
      ]
     },
     "execution_count": 30,
     "metadata": {},
     "output_type": "execute_result"
    }
   ],
   "source": [
    "y = sp.exp(sp.sinh(x))\n",
    "y"
   ]
  },
  {
   "cell_type": "code",
   "execution_count": null,
   "id": "701e98c4",
   "metadata": {},
   "outputs": [],
   "source": [
    "sol = y.diff(x,1)\n",
    "sol"
   ]
  }
 ],
 "metadata": {
  "kernelspec": {
   "display_name": "Python 3 (ipykernel)",
   "language": "python",
   "name": "python3"
  },
  "language_info": {
   "codemirror_mode": {
    "name": "ipython",
    "version": 3
   },
   "file_extension": ".py",
   "mimetype": "text/x-python",
   "name": "python",
   "nbconvert_exporter": "python",
   "pygments_lexer": "ipython3",
   "version": "3.10.11"
  }
 },
 "nbformat": 4,
 "nbformat_minor": 5
}

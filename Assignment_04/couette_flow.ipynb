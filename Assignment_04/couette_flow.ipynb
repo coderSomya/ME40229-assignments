{
 "cells": [
  {
   "cell_type": "code",
   "execution_count": 1,
   "id": "572be330",
   "metadata": {},
   "outputs": [],
   "source": [
    "import sympy as sp\n",
    "import numpy as np"
   ]
  },
  {
   "cell_type": "code",
   "execution_count": 6,
   "id": "81fe8a71",
   "metadata": {},
   "outputs": [],
   "source": [
    "y = sp.symbols('y')\n",
    "u = sp.Function('u')(y)\n",
    "mu = sp.symbols('mu')\n",
    "u0 = sp.symbols('u0')\n",
    "h = sp.symbols('h')"
   ]
  },
  {
   "cell_type": "code",
   "execution_count": 12,
   "id": "a6c177f1",
   "metadata": {},
   "outputs": [],
   "source": [
    "eq = sp.Eq(u.diff(y,2),0)\n",
    "bcs = {u.subs(y,0):0, u.subs(y,h):u0}"
   ]
  },
  {
   "cell_type": "code",
   "execution_count": 13,
   "id": "6d242b5f",
   "metadata": {},
   "outputs": [
    {
     "data": {
      "text/latex": [
       "$\\displaystyle u{\\left(y \\right)} = \\frac{u_{0} y}{h}$"
      ],
      "text/plain": [
       "Eq(u(y), u0*y/h)"
      ]
     },
     "execution_count": 13,
     "metadata": {},
     "output_type": "execute_result"
    }
   ],
   "source": [
    "analytical_sol = sp.dsolve(eq, ics=bcs)\n",
    "analytical_sol"
   ]
  },
  {
   "cell_type": "code",
   "execution_count": 19,
   "id": "bd22063a",
   "metadata": {},
   "outputs": [],
   "source": [
    "velocity = analytical_sol.rhs\n",
    "tau = mu*velocity.diff(y,1)"
   ]
  },
  {
   "cell_type": "code",
   "execution_count": 28,
   "id": "d035c492",
   "metadata": {},
   "outputs": [
    {
     "data": {
      "text/latex": [
       "$\\displaystyle \\frac{\\mu u_{0}}{h}$"
      ],
      "text/plain": [
       "mu*u0/h"
      ]
     },
     "execution_count": 28,
     "metadata": {},
     "output_type": "execute_result"
    }
   ],
   "source": [
    "tau\n",
    "#constant"
   ]
  },
  {
   "cell_type": "code",
   "execution_count": 21,
   "id": "09ff00e0",
   "metadata": {},
   "outputs": [],
   "source": [
    "stress_0 = tau.subs(y,0)\n",
    "stress_h = tau.subs(y,h)"
   ]
  },
  {
   "cell_type": "code",
   "execution_count": 29,
   "id": "358e814e",
   "metadata": {},
   "outputs": [],
   "source": [
    "# vol flow rate = u*area => u*dy*w => u*dy"
   ]
  },
  {
   "cell_type": "code",
   "execution_count": 31,
   "id": "2def80a1",
   "metadata": {},
   "outputs": [
    {
     "data": {
      "text/latex": [
       "$\\displaystyle \\frac{h u_{0}}{2}$"
      ],
      "text/plain": [
       "h*u0/2"
      ]
     },
     "execution_count": 31,
     "metadata": {},
     "output_type": "execute_result"
    }
   ],
   "source": [
    "vol_flow_rate = sp.integrate(velocity, (y,0,h))\n",
    "vol_flow_rate"
   ]
  },
  {
   "cell_type": "code",
   "execution_count": 115,
   "id": "6d622a36",
   "metadata": {},
   "outputs": [],
   "source": [
    "import matplotlib.pyplot as plt\n",
    "\n",
    "def plot_flow(u,y):\n",
    "    plt.plot(u,y)\n",
    "    plt.ylabel(\"height\")\n",
    "    plt.xlabel(\"velocity\")\n",
    "    plt.show()\n",
    "    \n",
    "def velocity_value(expression, height):\n",
    "    return expression.subs(y,height)"
   ]
  },
  {
   "cell_type": "code",
   "execution_count": 116,
   "id": "69b79a3c",
   "metadata": {},
   "outputs": [],
   "source": [
    "hs = np.linspace(0,10,40)"
   ]
  },
  {
   "cell_type": "code",
   "execution_count": 117,
   "id": "d24e51eb",
   "metadata": {},
   "outputs": [],
   "source": [
    "## plotting"
   ]
  },
  {
   "cell_type": "code",
   "execution_count": 118,
   "id": "c778fbfe",
   "metadata": {},
   "outputs": [],
   "source": [
    "def velocity_profile(u_=10, h_=5):\n",
    "    ua = analytical_sol.subs(u0,u_).subs(h,h_)\n",
    "    ub = [velocity_value(ua,height) for height in hs]\n",
    "    \n",
    "    us =  [ub[i].rhs for i in range(len(hs))]\n",
    "    \n",
    "    plot_flow(us,hs)"
   ]
  },
  {
   "cell_type": "code",
   "execution_count": 121,
   "id": "4f4fc28e",
   "metadata": {},
   "outputs": [
    {
     "ename": "NameError",
     "evalue": "name 'u_' is not defined",
     "output_type": "error",
     "traceback": [
      "\u001b[1;31m--------------------------------------------------------------\u001b[0m",
      "\u001b[1;31mNameError\u001b[0m                    Traceback (most recent call last)",
      "Input \u001b[1;32mIn [121]\u001b[0m, in \u001b[0;36m<cell line: 3>\u001b[1;34m()\u001b[0m\n\u001b[0;32m      1\u001b[0m \u001b[38;5;28;01mfrom\u001b[39;00m \u001b[38;5;21;01mipywidgets\u001b[39;00m \u001b[38;5;28;01mimport\u001b[39;00m interactive\n\u001b[1;32m----> 3\u001b[0m w \u001b[38;5;241m=\u001b[39m interactive(velocity_profile, (\u001b[43mu_\u001b[49m,\u001b[38;5;241m1\u001b[39m,\u001b[38;5;241m10\u001b[39m), (h_,\u001b[38;5;241m1\u001b[39m,\u001b[38;5;241m10\u001b[39m))\n\u001b[0;32m      4\u001b[0m w\n",
      "\u001b[1;31mNameError\u001b[0m: name 'u_' is not defined"
     ]
    }
   ],
   "source": [
    "from ipywidgets import interactive\n",
    "\n",
    "w = interactive(velocity_profile, (u_,1,10), (h_,1,10))\n",
    "w"
   ]
  },
  {
   "cell_type": "code",
   "execution_count": 120,
   "id": "37a64ffb",
   "metadata": {},
   "outputs": [
    {
     "data": {
      "image/png": "[encoded data removed]",
      "text/plain": [
       "<Figure size 432x288 with 1 Axes>"
      ]
     },
     "metadata": {
      "needs_background": "light"
     },
     "output_type": "display_data"
    }
   ],
   "source": [
    "velocity_profile()"
   ]
  },
  {
   "cell_type": "code",
   "execution_count": null,
   "id": "d632fbec",
   "metadata": {},
   "outputs": [],
   "source": []
  }
 ],
 "metadata": {
  "kernelspec": {
   "display_name": "Python 3 (ipykernel)",
   "language": "python",
   "name": "python3"
  },
  "language_info": {
   "codemirror_mode": {
    "name": "ipython",
    "version": 3
   },
   "file_extension": ".py",
   "mimetype": "text/x-python",
   "name": "python",
   "nbconvert_exporter": "python",
   "pygments_lexer": "ipython3",
   "version": "3.10.11"
  }
 },
 "nbformat": 4,
 "nbformat_minor": 5
}
